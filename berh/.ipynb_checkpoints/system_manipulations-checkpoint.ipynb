{
 "cells": [
  {
   "cell_type": "code",
   "execution_count": 2,
   "metadata": {},
   "outputs": [
    {
     "data": {
      "text/latex": [
       "$\\displaystyle \\left[\\begin{matrix}- \\frac{\\lambda_{c} x_{1} x_{4}}{K_{c} - x_{3} + 1} + x_{1}^{0.75} \\left(1 - \\left(\\frac{x_{1}}{C_{0}}\\right)^{0.25}\\right) \\left(k_{c} + \\mu_{c} x_{2}\\right)\\\\- \\lambda_{p} x_{2} + x_{2} \\left(1 - \\frac{x_{2}}{P_{0}}\\right) \\left(k_{p} + \\frac{\\mu_{p} x_{1}}{K_{p} + x_{1}}\\right)\\\\k_{r} - x_{3} \\left(\\gamma_{c} x_{1} + \\gamma_{p} x_{2} + \\lambda_{r}\\right)\\\\\\frac{k_{t} x_{3}}{K_{t} - x_{3} + 1} - \\lambda_{t} x_{4}\\end{matrix}\\right]$"
      ],
      "text/plain": [
       "Matrix([\n",
       "[-lambda_c*x_1*x_4/(K_c - x_3 + 1) + x_1**0.75*(1 - (x_1/C_0)**0.25)*(k_c + mu_c*x_2)],\n",
       "[                      -lambda_p*x_2 + x_2*(1 - x_2/P_0)*(k_p + mu_p*x_1/(K_p + x_1))],\n",
       "[                                    k_r - x_3*(gamma_c*x_1 + gamma_p*x_2 + lambda_r)],\n",
       "[                                              k_t*x_3/(K_t - x_3 + 1) - lambda_t*x_4]])"
      ]
     },
     "metadata": {},
     "output_type": "display_data"
    }
   ],
   "source": [
    "from init_ODEsystem import *\n",
    "from config import *\n",
    "\n",
    "display(F)"
   ]
  },
  {
   "cell_type": "code",
   "execution_count": 4,
   "metadata": {},
   "outputs": [
    {
     "data": {
      "text/latex": [
       "$\\displaystyle \\left[\\begin{matrix}k_{c} x_{1}^{0.75} \\left(1 - \\left(\\frac{x_{1}}{C_{0}}\\right)^{0.25}\\right) - \\frac{\\lambda_{c} x_{1} x_{4}}{K_{c} - x_{3} + 1}\\\\0\\\\k_{r} - x_{3} \\left(\\gamma_{c} x_{1} + \\lambda_{r}\\right)\\\\\\frac{k_{t} x_{3}}{K_{t} - x_{3} + 1} - \\lambda_{t} x_{4}\\end{matrix}\\right]$"
      ],
      "text/plain": [
       "Matrix([\n",
       "[k_c*x_1**0.75*(1 - (x_1/C_0)**0.25) - lambda_c*x_1*x_4/(K_c - x_3 + 1)],\n",
       "[                                                                     0],\n",
       "[                                    k_r - x_3*(gamma_c*x_1 + lambda_r)],\n",
       "[                                k_t*x_3/(K_t - x_3 + 1) - lambda_t*x_4]])"
      ]
     },
     "metadata": {},
     "output_type": "display_data"
    },
    {
     "data": {
      "text/latex": [
       "1) Рассмотрим случай равенства $x_1 = 0$"
      ],
      "text/plain": [
       "<IPython.core.display.Latex object>"
      ]
     },
     "metadata": {},
     "output_type": "display_data"
    },
    {
     "data": {
      "text/latex": [
       "$\\displaystyle \\left[\\begin{matrix}0\\\\0\\\\k_{r} - \\lambda_{r} x_{3}\\\\\\frac{k_{t} x_{3}}{K_{t} - x_{3} + 1} - \\lambda_{t} x_{4}\\end{matrix}\\right]$"
      ],
      "text/plain": [
       "Matrix([\n",
       "[                                     0],\n",
       "[                                     0],\n",
       "[                    k_r - lambda_r*x_3],\n",
       "[k_t*x_3/(K_t - x_3 + 1) - lambda_t*x_4]])"
      ]
     },
     "metadata": {},
     "output_type": "display_data"
    },
    {
     "data": {
      "text/latex": [
       "$\\displaystyle x_{3} = \\frac{k_{r}}{\\lambda_{r}}$"
      ],
      "text/plain": [
       "Eq(x_3, k_r/lambda_r)"
      ]
     },
     "metadata": {},
     "output_type": "display_data"
    },
    {
     "data": {
      "text/latex": [
       "Подставим полученное выражение для $x_3$ в четвертое уравнение:"
      ],
      "text/plain": [
       "<IPython.core.display.Latex object>"
      ]
     },
     "metadata": {},
     "output_type": "display_data"
    },
    {
     "data": {
      "text/latex": [
       "$\\displaystyle \\frac{k_{r} k_{t}}{\\lambda_{r} \\left(K_{t} - \\frac{k_{r}}{\\lambda_{r}} + 1\\right)} - \\lambda_{t} x_{4}$"
      ],
      "text/plain": [
       "k_r*k_t/(lambda_r*(K_t - k_r/lambda_r + 1)) - lambda_t*x_4"
      ]
     },
     "metadata": {},
     "output_type": "display_data"
    },
    {
     "data": {
      "text/latex": [
       "$\\displaystyle x_{4} = \\frac{k_{r} k_{t}}{\\lambda_{t} \\left(K_{t} \\lambda_{r} - k_{r} + \\lambda_{r}\\right)}$"
      ],
      "text/plain": [
       "Eq(x_4, k_r*k_t/(lambda_t*(K_t*lambda_r - k_r + lambda_r)))"
      ]
     },
     "metadata": {},
     "output_type": "display_data"
    },
    {
     "data": {
      "text/latex": [
       "Таким образом, найдено положение равновесия в плоскости $x_2 = 0$:"
      ],
      "text/plain": [
       "<IPython.core.display.Latex object>"
      ]
     },
     "metadata": {},
     "output_type": "display_data"
    },
    {
     "data": {
      "text/latex": [
       "$\\displaystyle \\left[\\begin{matrix}0\\\\0\\\\\\frac{k_{r}}{\\lambda_{r}}\\\\\\frac{k_{r} k_{t}}{\\lambda_{t} \\left(K_{t} \\lambda_{r} - k_{r} + \\lambda_{r}\\right)}\\end{matrix}\\right]$"
      ],
      "text/plain": [
       "Matrix([\n",
       "[                                                 0],\n",
       "[                                                 0],\n",
       "[                                      k_r/lambda_r],\n",
       "[k_r*k_t/(lambda_t*(K_t*lambda_r - k_r + lambda_r))]])"
      ]
     },
     "metadata": {},
     "output_type": "display_data"
    },
    {
     "data": {
      "text/latex": [
       "2) Пусть $x_1 \\neq 0$"
      ],
      "text/plain": [
       "<IPython.core.display.Latex object>"
      ]
     },
     "metadata": {},
     "output_type": "display_data"
    },
    {
     "data": {
      "text/latex": [
       "$\\displaystyle x_{3} = \\frac{k_{r}}{\\gamma_{c} x_{1} + \\lambda_{r}}$"
      ],
      "text/plain": [
       "Eq(x_3, k_r/(gamma_c*x_1 + lambda_r))"
      ]
     },
     "metadata": {},
     "output_type": "display_data"
    },
    {
     "data": {
      "text/latex": [
       "$\\displaystyle x_{4} = \\frac{k_{t} x_{3}}{\\lambda_{t} \\left(K_{t} - x_{3} + 1\\right)}$"
      ],
      "text/plain": [
       "Eq(x_4, k_t*x_3/(lambda_t*(K_t - x_3 + 1)))"
      ]
     },
     "metadata": {},
     "output_type": "display_data"
    },
    {
     "data": {
      "text/latex": [
       "$\\displaystyle x_{4} = \\frac{k_{r} k_{t}}{\\lambda_{t} \\left(- k_{r} + \\left(K_{t} + 1\\right) \\left(\\gamma_{c} x_{1} + \\lambda_{r}\\right)\\right)}$"
      ],
      "text/plain": [
       "Eq(x_4, k_r*k_t/(lambda_t*(-k_r + (K_t + 1)*(gamma_c*x_1 + lambda_r))))"
      ]
     },
     "metadata": {},
     "output_type": "display_data"
    },
    {
     "data": {
      "text/latex": [
       "Уравнение относительно $x_1$ на поиск ПР в пл-ти $x_2 = 0$:"
      ],
      "text/plain": [
       "<IPython.core.display.Latex object>"
      ]
     },
     "metadata": {},
     "output_type": "display_data"
    },
    {
     "data": {
      "text/latex": [
       "$\\displaystyle - \\frac{k_{c} \\lambda_{t} x_{1}^{0.75} \\left(k_{r} - \\left(K_{c} + 1\\right) \\left(\\gamma_{c} x_{1} + \\lambda_{r}\\right)\\right) \\left(k_{r} - \\left(K_{t} + 1\\right) \\left(\\gamma_{c} x_{1} + \\lambda_{r}\\right)\\right) \\left(\\left(\\frac{x_{1}}{C_{0}}\\right)^{0.25} - 1\\right) + k_{r} k_{t} \\lambda_{c} x_{1} \\left(\\gamma_{c} x_{1} + \\lambda_{r}\\right)}{\\lambda_{t} \\left(k_{r} - \\left(K_{c} + 1\\right) \\left(\\gamma_{c} x_{1} + \\lambda_{r}\\right)\\right) \\left(k_{r} - \\left(K_{t} + 1\\right) \\left(\\gamma_{c} x_{1} + \\lambda_{r}\\right)\\right)}$"
      ],
      "text/plain": [
       "-(k_c*lambda_t*x_1**0.75*(k_r - (K_c + 1)*(gamma_c*x_1 + lambda_r))*(k_r - (K_t + 1)*(gamma_c*x_1 + lambda_r))*((x_1/C_0)**0.25 - 1) + k_r*k_t*lambda_c*x_1*(gamma_c*x_1 + lambda_r))/(lambda_t*(k_r - (K_c + 1)*(gamma_c*x_1 + lambda_r))*(k_r - (K_t + 1)*(gamma_c*x_1 + lambda_r)))"
      ]
     },
     "metadata": {},
     "output_type": "display_data"
    },
    {
     "data": {
      "text/latex": [
       "$\\displaystyle - \\frac{k_{c} \\lambda_{t} x_{1}^{0.75} \\left(k_{r} - \\left(K_{c} + 1\\right) \\left(\\gamma_{c} x_{1} + \\lambda_{r}\\right)\\right) \\left(k_{r} - \\left(K_{t} + 1\\right) \\left(\\gamma_{c} x_{1} + \\lambda_{r}\\right)\\right) \\left(\\left(\\frac{x_{1}}{C_{0}}\\right)^{0.25} - 1\\right) + k_{r} k_{t} \\lambda_{c} x_{1} \\left(\\gamma_{c} x_{1} + \\lambda_{r}\\right)}{x_{1}^{0.75}}$"
      ],
      "text/plain": [
       "-x_1**(-0.75)*(k_c*lambda_t*x_1**0.75*(k_r - (K_c + 1)*(gamma_c*x_1 + lambda_r))*(k_r - (K_t + 1)*(gamma_c*x_1 + lambda_r))*((x_1/C_0)**0.25 - 1) + k_r*k_t*lambda_c*x_1*(gamma_c*x_1 + lambda_r))"
      ]
     },
     "metadata": {},
     "output_type": "display_data"
    }
   ],
   "source": [
    "F2 = F.subs(x[2], 0)\n",
    "display(F2)\n",
    "\n",
    "display(Latex(\"1) Рассмотрим случай равенства $x_1 = 0$\"))\n",
    "F21 = F2.subs(x[1], 0)\n",
    "display(F21)\n",
    "x3 = sp.solve(F21[2], x[3])\n",
    "x3 = x3[0]\n",
    "display(sp.Equality(x[3], sp.Array(x3)))\n",
    "\n",
    "display(Latex(\"Подставим полученное выражение для $x_3$ в четвертое уравнение:\"))\n",
    "e = F21[3].subs(x[3], x3)\n",
    "display(e)\n",
    "x4 = sp.solve(e, x[4])\n",
    "x4 = x4[0]\n",
    "display(sp.Equality(x[4], x4))\n",
    "\n",
    "display(Latex(\"Таким образом, найдено положение равновесия в плоскости $x_2 = 0$:\"))\n",
    "display(sp.Matrix([0, 0, x3, x4]))\n",
    "\n",
    "display(Latex(\"2) Пусть $x_1 \\\\neq 0$\"))\n",
    "x3 = sp.solve(F2[2], x[3])\n",
    "x3 = x3[0] # solve возвращает лист, первый элемент которого - искомое символьное выражение\n",
    "display(sp.Equality(x[3], sp.Array(x3)))\n",
    "x4 = sp.solve(F2[3], x[4])\n",
    "x4 = x4[0] \n",
    "display(sp.Equality(x[4], sp.Array(x4)))\n",
    "x4 = x4.subs(x[3], x3)\n",
    "display(sp.Equality(x[4], sp.simplify(sp.Array(x4))))\n",
    "\n",
    "eq = F2[0].subs( {x[3] : x3, x[4] : x4} )\n",
    "eq = sp.simplify(eq)\n",
    "# eq = sp.Equality(eq, 0)\n",
    "\n",
    "display(Latex('Уравнение относительно $x_1$ на поиск ПР в пл-ти $x_2 = 0$:'))\n",
    "display(sp.Array(eq))\n",
    "\n",
    "# A = sp.Symbol('A')\n",
    "# eq = eq.subs(gamma_c*x[1] + lambda_r, A)\n",
    "\n",
    "eq, d = sp.fraction(eq)\n",
    "eq /= (x[1])**(3/4)\n",
    "eq = sp.simplify(eq)\n",
    "display(eq)\n",
    "\n"
   ]
  },
  {
   "cell_type": "code",
   "execution_count": null,
   "metadata": {},
   "outputs": [],
   "source": []
  },
  {
   "cell_type": "code",
   "execution_count": null,
   "metadata": {},
   "outputs": [],
   "source": []
  }
 ],
 "metadata": {
  "kernelspec": {
   "display_name": "Python 3",
   "language": "python",
   "name": "python3"
  },
  "language_info": {
   "codemirror_mode": {
    "name": "ipython",
    "version": 3
   },
   "file_extension": ".py",
   "mimetype": "text/x-python",
   "name": "python",
   "nbconvert_exporter": "python",
   "pygments_lexer": "ipython3",
   "version": "3.7.4"
  }
 },
 "nbformat": 4,
 "nbformat_minor": 2
}
