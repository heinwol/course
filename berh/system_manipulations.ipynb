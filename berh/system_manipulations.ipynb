{
 "cells": [
  {
   "cell_type": "code",
   "execution_count": 1,
   "metadata": {},
   "outputs": [
    {
     "data": {
      "text/latex": [
       "$\\displaystyle \\left[\\begin{matrix}- \\frac{\\lambda_{c} x_{1} x_{4}}{K_{c} - x_{3} + 1} + x_{1}^{\\frac{3}{4}} \\left(1 - \\sqrt[4]{\\frac{x_{1}}{C_{0}}}\\right) \\left(k_{c} + \\mu_{c} x_{2}\\right)\\\\- \\lambda_{p} x_{2} + x_{2} \\left(1 - \\frac{x_{2}}{P_{0}}\\right) \\left(k_{p} + \\frac{\\mu_{p} x_{1}}{K_{p} + x_{1}}\\right)\\\\k_{r} - x_{3} \\left(\\gamma_{c} x_{1} + \\gamma_{p} x_{2} + \\lambda_{r}\\right)\\\\\\frac{k_{t} x_{3}}{K_{t} - x_{3} + 1} - \\lambda_{t} x_{4}\\end{matrix}\\right]$"
      ],
      "text/plain": [
       "Matrix([\n",
       "[-lambda_c*x_1*x_4/(K_c - x_3 + 1) + x_1**(3/4)*(1 - (x_1/C_0)**(1/4))*(k_c + mu_c*x_2)],\n",
       "[                        -lambda_p*x_2 + x_2*(1 - x_2/P_0)*(k_p + mu_p*x_1/(K_p + x_1))],\n",
       "[                                      k_r - x_3*(gamma_c*x_1 + gamma_p*x_2 + lambda_r)],\n",
       "[                                                k_t*x_3/(K_t - x_3 + 1) - lambda_t*x_4]])"
      ]
     },
     "metadata": {},
     "output_type": "display_data"
    }
   ],
   "source": [
    "from init_ODEsystem import *\n",
    "from config import *\n",
    "\n",
    "display(F)"
   ]
  },
  {
   "cell_type": "code",
   "execution_count": 2,
   "metadata": {},
   "outputs": [
    {
     "data": {
      "text/latex": [
       "$\\displaystyle \\left[\\begin{matrix}k_{c} x_{1}^{\\frac{3}{4}} \\left(1 - \\sqrt[4]{\\frac{x_{1}}{C_{0}}}\\right) - \\frac{\\lambda_{c} x_{1} x_{4}}{K_{c} - x_{3} + 1}\\\\0\\\\k_{r} - x_{3} \\left(\\gamma_{c} x_{1} + \\lambda_{r}\\right)\\\\\\frac{k_{t} x_{3}}{K_{t} - x_{3} + 1} - \\lambda_{t} x_{4}\\end{matrix}\\right]$"
      ],
      "text/plain": [
       "Matrix([\n",
       "[k_c*x_1**(3/4)*(1 - (x_1/C_0)**(1/4)) - lambda_c*x_1*x_4/(K_c - x_3 + 1)],\n",
       "[                                                                       0],\n",
       "[                                      k_r - x_3*(gamma_c*x_1 + lambda_r)],\n",
       "[                                  k_t*x_3/(K_t - x_3 + 1) - lambda_t*x_4]])"
      ]
     },
     "metadata": {},
     "output_type": "display_data"
    },
    {
     "data": {
      "text/latex": [
       "1) Рассмотрим случай равенства $x_1 = 0$"
      ],
      "text/plain": [
       "<IPython.core.display.Latex object>"
      ]
     },
     "metadata": {},
     "output_type": "display_data"
    },
    {
     "data": {
      "text/latex": [
       "$\\displaystyle \\left[\\begin{matrix}0\\\\0\\\\k_{r} - \\lambda_{r} x_{3}\\\\\\frac{k_{t} x_{3}}{K_{t} - x_{3} + 1} - \\lambda_{t} x_{4}\\end{matrix}\\right]$"
      ],
      "text/plain": [
       "Matrix([\n",
       "[                                     0],\n",
       "[                                     0],\n",
       "[                    k_r - lambda_r*x_3],\n",
       "[k_t*x_3/(K_t - x_3 + 1) - lambda_t*x_4]])"
      ]
     },
     "metadata": {},
     "output_type": "display_data"
    },
    {
     "data": {
      "text/latex": [
       "$\\displaystyle x_{3} = \\frac{k_{r}}{\\lambda_{r}}$"
      ],
      "text/plain": [
       "Eq(x_3, k_r/lambda_r)"
      ]
     },
     "metadata": {},
     "output_type": "display_data"
    },
    {
     "data": {
      "text/latex": [
       "Подставим полученное выражение для $x_3$ в четвертое уравнение:"
      ],
      "text/plain": [
       "<IPython.core.display.Latex object>"
      ]
     },
     "metadata": {},
     "output_type": "display_data"
    },
    {
     "data": {
      "text/latex": [
       "$\\displaystyle \\frac{k_{r} k_{t}}{\\lambda_{r} \\left(K_{t} - \\frac{k_{r}}{\\lambda_{r}} + 1\\right)} - \\lambda_{t} x_{4}$"
      ],
      "text/plain": [
       "k_r*k_t/(lambda_r*(K_t - k_r/lambda_r + 1)) - lambda_t*x_4"
      ]
     },
     "metadata": {},
     "output_type": "display_data"
    },
    {
     "data": {
      "text/latex": [
       "$\\displaystyle x_{4} = \\frac{k_{r} k_{t}}{\\lambda_{t} \\left(K_{t} \\lambda_{r} - k_{r} + \\lambda_{r}\\right)}$"
      ],
      "text/plain": [
       "Eq(x_4, k_r*k_t/(lambda_t*(K_t*lambda_r - k_r + lambda_r)))"
      ]
     },
     "metadata": {},
     "output_type": "display_data"
    },
    {
     "data": {
      "text/latex": [
       "Таким образом, найдено положение равновесия в плоскости $x_2 = 0$:"
      ],
      "text/plain": [
       "<IPython.core.display.Latex object>"
      ]
     },
     "metadata": {},
     "output_type": "display_data"
    },
    {
     "data": {
      "text/latex": [
       "$\\displaystyle \\left[\\begin{matrix}0\\\\0\\\\\\frac{k_{r}}{\\lambda_{r}}\\\\\\frac{k_{r} k_{t}}{\\lambda_{t} \\left(K_{t} \\lambda_{r} - k_{r} + \\lambda_{r}\\right)}\\end{matrix}\\right]$"
      ],
      "text/plain": [
       "Matrix([\n",
       "[                                                 0],\n",
       "[                                                 0],\n",
       "[                                      k_r/lambda_r],\n",
       "[k_r*k_t/(lambda_t*(K_t*lambda_r - k_r + lambda_r))]])"
      ]
     },
     "metadata": {},
     "output_type": "display_data"
    },
    {
     "data": {
      "text/latex": [
       "2) Пусть $x_1 \\neq 0$"
      ],
      "text/plain": [
       "<IPython.core.display.Latex object>"
      ]
     },
     "metadata": {},
     "output_type": "display_data"
    },
    {
     "data": {
      "text/latex": [
       "$\\displaystyle x_{3} = \\frac{k_{r}}{\\gamma_{c} x_{1} + \\lambda_{r}}$"
      ],
      "text/plain": [
       "Eq(x_3, k_r/(gamma_c*x_1 + lambda_r))"
      ]
     },
     "metadata": {},
     "output_type": "display_data"
    },
    {
     "data": {
      "text/latex": [
       "$\\displaystyle x_{4} = \\frac{k_{t} x_{3}}{\\lambda_{t} \\left(K_{t} - x_{3} + 1\\right)}$"
      ],
      "text/plain": [
       "Eq(x_4, k_t*x_3/(lambda_t*(K_t - x_3 + 1)))"
      ]
     },
     "metadata": {},
     "output_type": "display_data"
    },
    {
     "data": {
      "text/latex": [
       "$\\displaystyle x_{4} = \\frac{k_{r} k_{t}}{\\lambda_{t} \\left(- k_{r} + \\left(K_{t} + 1\\right) \\left(\\gamma_{c} x_{1} + \\lambda_{r}\\right)\\right)}$"
      ],
      "text/plain": [
       "Eq(x_4, k_r*k_t/(lambda_t*(-k_r + (K_t + 1)*(gamma_c*x_1 + lambda_r))))"
      ]
     },
     "metadata": {},
     "output_type": "display_data"
    },
    {
     "data": {
      "text/latex": [
       "Уравнение относительно $x_1$ на поиск ПР в пл-ти $x_2 = 0$:"
      ],
      "text/plain": [
       "<IPython.core.display.Latex object>"
      ]
     },
     "metadata": {},
     "output_type": "display_data"
    },
    {
     "data": {
      "text/latex": [
       "$\\displaystyle - k_{c} \\lambda_{t} x_{1}^{\\frac{3}{4}} \\left(k_{r} - \\left(K_{c} + 1\\right) \\left(\\gamma_{c} x_{1} + \\lambda_{r}\\right)\\right) \\left(k_{r} - \\left(K_{t} + 1\\right) \\left(\\gamma_{c} x_{1} + \\lambda_{r}\\right)\\right) \\left(\\sqrt[4]{\\frac{x_{1}}{C_{0}}} - 1\\right) - k_{r} k_{t} \\lambda_{c} x_{1} \\left(\\gamma_{c} x_{1} + \\lambda_{r}\\right) = 0$"
      ],
      "text/plain": [
       "Eq(-k_c*lambda_t*x_1**(3/4)*(k_r - (K_c + 1)*(gamma_c*x_1 + lambda_r))*(k_r - (K_t + 1)*(gamma_c*x_1 + lambda_r))*((x_1/C_0)**(1/4) - 1) - k_r*k_t*lambda_c*x_1*(gamma_c*x_1 + lambda_r), 0)"
      ]
     },
     "metadata": {},
     "output_type": "display_data"
    },
    {
     "data": {
      "text/latex": [
       "$\\displaystyle - k_{c} \\lambda_{t} \\left(k_{r} - \\left(K_{c} + 1\\right) \\left(\\gamma_{c} y^{4} + \\lambda_{r}\\right)\\right) \\left(k_{r} - \\left(K_{t} + 1\\right) \\left(\\gamma_{c} y^{4} + \\lambda_{r}\\right)\\right) \\left(\\sqrt[4]{\\frac{y^{4}}{C_{0}}} - 1\\right) \\left(y^{4}\\right)^{\\frac{3}{4}} - k_{r} k_{t} \\lambda_{c} y^{4} \\left(\\gamma_{c} y^{4} + \\lambda_{r}\\right) = 0$"
      ],
      "text/plain": [
       "Eq(-k_c*lambda_t*(k_r - (K_c + 1)*(gamma_c*y**4 + lambda_r))*(k_r - (K_t + 1)*(gamma_c*y**4 + lambda_r))*((y**4/C_0)**(1/4) - 1)*(y**4)**(3/4) - k_r*k_t*lambda_c*y**4*(gamma_c*y**4 + lambda_r), 0)"
      ]
     },
     "metadata": {},
     "output_type": "display_data"
    },
    {
     "data": {
      "text/latex": [
       "$\\displaystyle - \\sqrt[4]{C_{0}} k_{r} k_{t} \\lambda_{c} y \\left(\\gamma_{c} y^{4} + \\lambda_{r}\\right) + k_{c} \\lambda_{t} \\left(\\sqrt[4]{C_{0}} - y\\right) \\left(- k_{r} + \\left(K_{c} + 1\\right) \\left(\\gamma_{c} y^{4} + \\lambda_{r}\\right)\\right) \\left(- k_{r} + \\left(K_{t} + 1\\right) \\left(\\gamma_{c} y^{4} + \\lambda_{r}\\right)\\right)$"
      ],
      "text/plain": [
       "-C_0**(1/4)*k_r*k_t*lambda_c*y*(gamma_c*y**4 + lambda_r) + k_c*lambda_t*(C_0**(1/4) - y)*(-k_r + (K_c + 1)*(gamma_c*y**4 + lambda_r))*(-k_r + (K_t + 1)*(gamma_c*y**4 + lambda_r))"
      ]
     },
     "metadata": {},
     "output_type": "display_data"
    }
   ],
   "source": [
    "F2 = F.subs(x[2], 0)\n",
    "display(F2)\n",
    "\n",
    "display(Latex(\"1) Рассмотрим случай равенства $x_1 = 0$\"))\n",
    "F21 = F2.subs(x[1], 0)\n",
    "display(F21)\n",
    "x3 = sp.solve(F21[2], x[3])\n",
    "x3 = x3[0]\n",
    "display(sp.Equality(x[3], sp.Array(x3)))\n",
    "\n",
    "display(Latex(\"Подставим полученное выражение для $x_3$ в четвертое уравнение:\"))\n",
    "e = F21[3].subs(x[3], x3)\n",
    "display(e)\n",
    "x4 = sp.solve(e, x[4])\n",
    "x4 = x4[0]\n",
    "display(sp.Equality(x[4], x4))\n",
    "\n",
    "display(Latex(\"Таким образом, найдено положение равновесия в плоскости $x_2 = 0$:\"))\n",
    "display(sp.Matrix([0, 0, x3, x4]))\n",
    "\n",
    "display(Latex(\"2) Пусть $x_1 \\\\neq 0$\"))\n",
    "x3 = sp.solve(F2[2], x[3])\n",
    "x3 = x3[0] # solve возвращает лист, первый элемент которого - искомое символьное выражение\n",
    "display(sp.Equality(x[3], sp.Array(x3)))\n",
    "x4 = sp.solve(F2[3], x[4])\n",
    "x4 = x4[0] \n",
    "display(sp.Equality(x[4], sp.Array(x4)))\n",
    "x4 = x4.subs(x[3], x3)\n",
    "display(sp.Equality(x[4], sp.simplify(sp.Array(x4))))\n",
    "\n",
    "eq = F2[0].subs( {x[3] : x3, x[4] : x4} )\n",
    "eq = sp.simplify(eq)\n",
    "# eq = sp.Equality(eq, 0)\n",
    "\n",
    "display(Latex('Уравнение относительно $x_1$ на поиск ПР в пл-ти $x_2 = 0$:'))\n",
    "eq, d = sp.fraction(eq)\n",
    "display(sp.Equality(sp.Array(eq), 0))\n",
    "y = sp.Symbol('y')\n",
    "eq = eq.subs(x[1], y**4)\n",
    "eq = sp.simplify(eq)\n",
    "display(sp.Equality(eq, 0))\n",
    "\n",
    "# A = sp.Symbol('A')\n",
    "# eq = eq.subs(gamma_c*x[1] + lambda_r, A)\n",
    "\n",
    "# eq, d = sp.fraction(eq)\n",
    "# eq /= (x[1])**(3/4)\n",
    "# eq = sp.simplify(eq)\n",
    "# display(eq)\n",
    "\n",
    "x1_poly = k_c*(C_0**xpr('1/4') - y)*lambda_t*((K_t + 1)*(gamma_c*y**4 + lambda_r) - k_r)*\\\n",
    "((K_c + 1)*(gamma_c*y**4 + lambda_r) - k_r) - C_0**xpr('1/4')*k_r*k_t*lambda_c*y*(gamma_c*y**4 + lambda_r)\n",
    "display(x1_poly)\n",
    "\n",
    "\n",
    "\n"
   ]
  },
  {
   "cell_type": "code",
   "execution_count": 60,
   "metadata": {},
   "outputs": [
    {
     "data": {
      "text/latex": [
       "$\\displaystyle \\left[\\begin{matrix}x_{1}^{\\frac{3}{4}} \\left(1 - \\sqrt[4]{\\frac{x_{1}}{C_{0}}}\\right) \\left(k_{c} + \\mu_{c} x_{2}\\right) - \\frac{\\lambda_{c} x_{1} x_{4}}{K_{c}}\\\\- \\lambda_{p} x_{2} + x_{2} \\left(1 - \\frac{x_{2}}{P_{0}}\\right) \\left(k_{p} + \\frac{\\mu_{p} x_{1}}{K_{p} + x_{1}}\\right)\\\\- \\gamma_{c} x_{1} - \\gamma_{p} x_{2} + k_{r} - \\lambda_{r}\\\\- \\lambda_{t} x_{4} + \\frac{k_{t}}{K_{t}}\\end{matrix}\\right]$"
      ],
      "text/plain": [
       "Matrix([\n",
       "[x_1**(3/4)*(1 - (x_1/C_0)**(1/4))*(k_c + mu_c*x_2) - lambda_c*x_1*x_4/K_c],\n",
       "[           -lambda_p*x_2 + x_2*(1 - x_2/P_0)*(k_p + mu_p*x_1/(K_p + x_1))],\n",
       "[                              -gamma_c*x_1 - gamma_p*x_2 + k_r - lambda_r],\n",
       "[                                                  -lambda_t*x_4 + k_t/K_t]])"
      ]
     },
     "metadata": {},
     "output_type": "display_data"
    },
    {
     "data": {
      "text/latex": [
       "$\\displaystyle - \\lambda_{p} x_{2} + x_{2} \\left(1 - \\frac{x_{2}}{P_{0}}\\right) \\left(k_{p} + \\frac{\\mu_{p} x_{1}}{K_{p} + x_{1}}\\right) = 0$"
      ],
      "text/plain": [
       "Eq(-lambda_p*x_2 + x_2*(1 - x_2/P_0)*(k_p + mu_p*x_1/(K_p + x_1)), 0)"
      ]
     },
     "metadata": {},
     "output_type": "display_data"
    },
    {
     "data": {
      "text/latex": [
       "$\\displaystyle \\frac{x_{2} \\left(- P_{0} \\lambda_{p} \\left(K_{p} + x_{1}\\right) + \\left(P_{0} - x_{2}\\right) \\left(k_{p} \\left(K_{p} + x_{1}\\right) + \\mu_{p} x_{1}\\right)\\right)}{P_{0} \\left(K_{p} + x_{1}\\right)} = 0$"
      ],
      "text/plain": [
       "Eq(x_2*(-P_0*lambda_p*(K_p + x_1) + (P_0 - x_2)*(k_p*(K_p + x_1) + mu_p*x_1))/(P_0*(K_p + x_1)), 0)"
      ]
     },
     "metadata": {},
     "output_type": "display_data"
    },
    {
     "data": {
      "text/latex": [
       "$\\displaystyle \\left[\\begin{matrix}k_{c} x_{1}^{\\frac{3}{4}} \\left(1 - \\sqrt[4]{\\frac{x_{1}}{C_{0}}}\\right) - \\frac{\\lambda_{c} x_{1} x_{4}}{K_{c}}\\\\0\\\\- \\gamma_{c} x_{1} + k_{r} - \\lambda_{r}\\\\- \\lambda_{t} x_{4} + \\frac{k_{t}}{K_{t}}\\end{matrix}\\right]$"
      ],
      "text/plain": [
       "Matrix([\n",
       "[k_c*x_1**(3/4)*(1 - (x_1/C_0)**(1/4)) - lambda_c*x_1*x_4/K_c],\n",
       "[                                                           0],\n",
       "[                               -gamma_c*x_1 + k_r - lambda_r],\n",
       "[                                     -lambda_t*x_4 + k_t/K_t]])"
      ]
     },
     "metadata": {},
     "output_type": "display_data"
    },
    {
     "data": {
      "text/latex": [
       "$\\displaystyle x_{1} = \\frac{k_{r} - \\lambda_{r}}{\\gamma_{c}}$"
      ],
      "text/plain": [
       "Eq(x_1, (k_r - lambda_r)/gamma_c)"
      ]
     },
     "metadata": {},
     "output_type": "display_data"
    },
    {
     "data": {
      "text/latex": [
       "$\\displaystyle x_{4} = \\frac{k_{t}}{K_{t} \\lambda_{t}}$"
      ],
      "text/plain": [
       "Eq(x_4, k_t/(K_t*lambda_t))"
      ]
     },
     "metadata": {},
     "output_type": "display_data"
    },
    {
     "data": {
      "text/latex": [
       "$\\displaystyle - \\frac{K_{c} K_{t} \\gamma_{c} k_{c} \\lambda_{t} \\left(\\frac{k_{r} - \\lambda_{r}}{\\gamma_{c}}\\right)^{\\frac{3}{4}} \\left(\\sqrt[4]{\\frac{k_{r} - \\lambda_{r}}{C_{0} \\gamma_{c}}} - 1\\right) + k_{t} \\lambda_{c} \\left(k_{r} - \\lambda_{r}\\right)}{K_{c} K_{t} \\gamma_{c} \\lambda_{t}}$"
      ],
      "text/plain": [
       "-(K_c*K_t*gamma_c*k_c*lambda_t*((k_r - lambda_r)/gamma_c)**(3/4)*(((k_r - lambda_r)/(C_0*gamma_c))**(1/4) - 1) + k_t*lambda_c*(k_r - lambda_r))/(K_c*K_t*gamma_c*lambda_t)"
      ]
     },
     "metadata": {},
     "output_type": "display_data"
    },
    {
     "data": {
      "text/latex": [
       "$\\displaystyle \\frac{- P_{0} \\lambda_{p} \\left(K_{p} + x_{1}\\right) + \\left(P_{0} - x_{2}\\right) \\left(k_{p} \\left(K_{p} + x_{1}\\right) + \\mu_{p} x_{1}\\right)}{P_{0} \\left(K_{p} + x_{1}\\right)} = 0$"
      ],
      "text/plain": [
       "Eq((-P_0*lambda_p*(K_p + x_1) + (P_0 - x_2)*(k_p*(K_p + x_1) + mu_p*x_1))/(P_0*(K_p + x_1)), 0)"
      ]
     },
     "metadata": {},
     "output_type": "display_data"
    },
    {
     "data": {
      "text/latex": [
       "$\\displaystyle \\left[\\begin{matrix}x_{1}^{\\frac{3}{4}} \\left(1 - \\sqrt[4]{\\frac{x_{1}}{C_{0}}}\\right) \\left(k_{c} + \\mu_{c} x_{2}\\right) - \\frac{\\lambda_{c} x_{1} x_{4}}{K_{c}} = 0\\\\\\frac{- P_{0} \\lambda_{p} \\left(K_{p} + x_{1}\\right) + \\left(P_{0} - x_{2}\\right) \\left(k_{p} \\left(K_{p} + x_{1}\\right) + \\mu_{p} x_{1}\\right)}{P_{0} \\left(K_{p} + x_{1}\\right)} = 0\\\\- \\gamma_{c} x_{1} - \\gamma_{p} x_{2} + k_{r} - \\lambda_{r} = 0\\\\x_{4} = \\frac{k_{t}}{K_{t} \\lambda_{t}}\\end{matrix}\\right]$"
      ],
      "text/plain": [
       "Matrix([\n",
       "[               Eq(x_1**(3/4)*(1 - (x_1/C_0)**(1/4))*(k_c + mu_c*x_2) - lambda_c*x_1*x_4/K_c, 0)],\n",
       "[Eq((-P_0*lambda_p*(K_p + x_1) + (P_0 - x_2)*(k_p*(K_p + x_1) + mu_p*x_1))/(P_0*(K_p + x_1)), 0)],\n",
       "[                                             Eq(-gamma_c*x_1 - gamma_p*x_2 + k_r - lambda_r, 0)],\n",
       "[                                                                    Eq(x_4, k_t/(K_t*lambda_t))]])"
      ]
     },
     "metadata": {},
     "output_type": "display_data"
    },
    {
     "data": {
      "text/latex": [
       "$\\displaystyle \\left[\\begin{matrix}x_{1}^{\\frac{3}{4}} \\left(1 - \\sqrt[4]{\\frac{x_{1}}{C_{0}}}\\right) \\left(k_{c} + \\mu_{c} x_{2}\\right) - \\frac{k_{t} \\lambda_{c} x_{1}}{K_{c} K_{t} \\lambda_{t}} = 0\\\\- P_{0} \\lambda_{p} \\left(K_{p} + x_{1}\\right) + \\left(P_{0} - x_{2}\\right) \\left(k_{p} \\left(K_{p} + x_{1}\\right) + \\mu_{p} x_{1}\\right) = 0\\\\- \\gamma_{c} x_{1} - \\gamma_{p} x_{2} + k_{r} - \\lambda_{r} = 0\\\\x_{4} = \\frac{k_{t}}{K_{t} \\lambda_{t}}\\end{matrix}\\right]$"
      ],
      "text/plain": [
       "Matrix([\n",
       "[Eq(x_1**(3/4)*(1 - (x_1/C_0)**(1/4))*(k_c + mu_c*x_2) - k_t*lambda_c*x_1/(K_c*K_t*lambda_t), 0)],\n",
       "[                    Eq(-P_0*lambda_p*(K_p + x_1) + (P_0 - x_2)*(k_p*(K_p + x_1) + mu_p*x_1), 0)],\n",
       "[                                             Eq(-gamma_c*x_1 - gamma_p*x_2 + k_r - lambda_r, 0)],\n",
       "[                                                                    Eq(x_4, k_t/(K_t*lambda_t))]])"
      ]
     },
     "metadata": {},
     "output_type": "display_data"
    },
    {
     "data": {
      "text/plain": [
       "[(-(gamma_p*((K_p*gamma_c*k_p + P_0*gamma_p*k_p - P_0*gamma_p*lambda_p + P_0*gamma_p*mu_p + k_p*k_r - k_p*lambda_r + k_r*mu_p - lambda_r*mu_p)/(2*gamma_p*(k_p + mu_p)) - sqrt(K_p**2*gamma_c**2*k_p**2 - 2*K_p*P_0*gamma_c*gamma_p*k_p**2 + 2*K_p*P_0*gamma_c*gamma_p*k_p*lambda_p - 2*K_p*P_0*gamma_c*gamma_p*k_p*mu_p + 4*K_p*P_0*gamma_c*gamma_p*lambda_p*mu_p + 2*K_p*gamma_c*k_p**2*k_r - 2*K_p*gamma_c*k_p**2*lambda_r + 2*K_p*gamma_c*k_p*k_r*mu_p - 2*K_p*gamma_c*k_p*lambda_r*mu_p + P_0**2*gamma_p**2*k_p**2 - 2*P_0**2*gamma_p**2*k_p*lambda_p + 2*P_0**2*gamma_p**2*k_p*mu_p + P_0**2*gamma_p**2*lambda_p**2 - 2*P_0**2*gamma_p**2*lambda_p*mu_p + P_0**2*gamma_p**2*mu_p**2 - 2*P_0*gamma_p*k_p**2*k_r + 2*P_0*gamma_p*k_p**2*lambda_r + 2*P_0*gamma_p*k_p*k_r*lambda_p - 4*P_0*gamma_p*k_p*k_r*mu_p - 2*P_0*gamma_p*k_p*lambda_p*lambda_r + 4*P_0*gamma_p*k_p*lambda_r*mu_p + 2*P_0*gamma_p*k_r*lambda_p*mu_p - 2*P_0*gamma_p*k_r*mu_p**2 - 2*P_0*gamma_p*lambda_p*lambda_r*mu_p + 2*P_0*gamma_p*lambda_r*mu_p**2 + k_p**2*k_r**2 - 2*k_p**2*k_r*lambda_r + k_p**2*lambda_r**2 + 2*k_p*k_r**2*mu_p - 4*k_p*k_r*lambda_r*mu_p + 2*k_p*lambda_r**2*mu_p + k_r**2*mu_p**2 - 2*k_r*lambda_r*mu_p**2 + lambda_r**2*mu_p**2)/(2*gamma_p*(k_p + mu_p))) - k_r + lambda_r)/gamma_c,\n",
       "  (K_p*gamma_c*k_p + P_0*gamma_p*k_p - P_0*gamma_p*lambda_p + P_0*gamma_p*mu_p + k_p*k_r - k_p*lambda_r + k_r*mu_p - lambda_r*mu_p)/(2*gamma_p*(k_p + mu_p)) - sqrt(K_p**2*gamma_c**2*k_p**2 - 2*K_p*P_0*gamma_c*gamma_p*k_p**2 + 2*K_p*P_0*gamma_c*gamma_p*k_p*lambda_p - 2*K_p*P_0*gamma_c*gamma_p*k_p*mu_p + 4*K_p*P_0*gamma_c*gamma_p*lambda_p*mu_p + 2*K_p*gamma_c*k_p**2*k_r - 2*K_p*gamma_c*k_p**2*lambda_r + 2*K_p*gamma_c*k_p*k_r*mu_p - 2*K_p*gamma_c*k_p*lambda_r*mu_p + P_0**2*gamma_p**2*k_p**2 - 2*P_0**2*gamma_p**2*k_p*lambda_p + 2*P_0**2*gamma_p**2*k_p*mu_p + P_0**2*gamma_p**2*lambda_p**2 - 2*P_0**2*gamma_p**2*lambda_p*mu_p + P_0**2*gamma_p**2*mu_p**2 - 2*P_0*gamma_p*k_p**2*k_r + 2*P_0*gamma_p*k_p**2*lambda_r + 2*P_0*gamma_p*k_p*k_r*lambda_p - 4*P_0*gamma_p*k_p*k_r*mu_p - 2*P_0*gamma_p*k_p*lambda_p*lambda_r + 4*P_0*gamma_p*k_p*lambda_r*mu_p + 2*P_0*gamma_p*k_r*lambda_p*mu_p - 2*P_0*gamma_p*k_r*mu_p**2 - 2*P_0*gamma_p*lambda_p*lambda_r*mu_p + 2*P_0*gamma_p*lambda_r*mu_p**2 + k_p**2*k_r**2 - 2*k_p**2*k_r*lambda_r + k_p**2*lambda_r**2 + 2*k_p*k_r**2*mu_p - 4*k_p*k_r*lambda_r*mu_p + 2*k_p*lambda_r**2*mu_p + k_r**2*mu_p**2 - 2*k_r*lambda_r*mu_p**2 + lambda_r**2*mu_p**2)/(2*gamma_p*(k_p + mu_p))),\n",
       " (-(gamma_p*((K_p*gamma_c*k_p + P_0*gamma_p*k_p - P_0*gamma_p*lambda_p + P_0*gamma_p*mu_p + k_p*k_r - k_p*lambda_r + k_r*mu_p - lambda_r*mu_p)/(2*gamma_p*(k_p + mu_p)) + sqrt(K_p**2*gamma_c**2*k_p**2 - 2*K_p*P_0*gamma_c*gamma_p*k_p**2 + 2*K_p*P_0*gamma_c*gamma_p*k_p*lambda_p - 2*K_p*P_0*gamma_c*gamma_p*k_p*mu_p + 4*K_p*P_0*gamma_c*gamma_p*lambda_p*mu_p + 2*K_p*gamma_c*k_p**2*k_r - 2*K_p*gamma_c*k_p**2*lambda_r + 2*K_p*gamma_c*k_p*k_r*mu_p - 2*K_p*gamma_c*k_p*lambda_r*mu_p + P_0**2*gamma_p**2*k_p**2 - 2*P_0**2*gamma_p**2*k_p*lambda_p + 2*P_0**2*gamma_p**2*k_p*mu_p + P_0**2*gamma_p**2*lambda_p**2 - 2*P_0**2*gamma_p**2*lambda_p*mu_p + P_0**2*gamma_p**2*mu_p**2 - 2*P_0*gamma_p*k_p**2*k_r + 2*P_0*gamma_p*k_p**2*lambda_r + 2*P_0*gamma_p*k_p*k_r*lambda_p - 4*P_0*gamma_p*k_p*k_r*mu_p - 2*P_0*gamma_p*k_p*lambda_p*lambda_r + 4*P_0*gamma_p*k_p*lambda_r*mu_p + 2*P_0*gamma_p*k_r*lambda_p*mu_p - 2*P_0*gamma_p*k_r*mu_p**2 - 2*P_0*gamma_p*lambda_p*lambda_r*mu_p + 2*P_0*gamma_p*lambda_r*mu_p**2 + k_p**2*k_r**2 - 2*k_p**2*k_r*lambda_r + k_p**2*lambda_r**2 + 2*k_p*k_r**2*mu_p - 4*k_p*k_r*lambda_r*mu_p + 2*k_p*lambda_r**2*mu_p + k_r**2*mu_p**2 - 2*k_r*lambda_r*mu_p**2 + lambda_r**2*mu_p**2)/(2*gamma_p*(k_p + mu_p))) - k_r + lambda_r)/gamma_c,\n",
       "  (K_p*gamma_c*k_p + P_0*gamma_p*k_p - P_0*gamma_p*lambda_p + P_0*gamma_p*mu_p + k_p*k_r - k_p*lambda_r + k_r*mu_p - lambda_r*mu_p)/(2*gamma_p*(k_p + mu_p)) + sqrt(K_p**2*gamma_c**2*k_p**2 - 2*K_p*P_0*gamma_c*gamma_p*k_p**2 + 2*K_p*P_0*gamma_c*gamma_p*k_p*lambda_p - 2*K_p*P_0*gamma_c*gamma_p*k_p*mu_p + 4*K_p*P_0*gamma_c*gamma_p*lambda_p*mu_p + 2*K_p*gamma_c*k_p**2*k_r - 2*K_p*gamma_c*k_p**2*lambda_r + 2*K_p*gamma_c*k_p*k_r*mu_p - 2*K_p*gamma_c*k_p*lambda_r*mu_p + P_0**2*gamma_p**2*k_p**2 - 2*P_0**2*gamma_p**2*k_p*lambda_p + 2*P_0**2*gamma_p**2*k_p*mu_p + P_0**2*gamma_p**2*lambda_p**2 - 2*P_0**2*gamma_p**2*lambda_p*mu_p + P_0**2*gamma_p**2*mu_p**2 - 2*P_0*gamma_p*k_p**2*k_r + 2*P_0*gamma_p*k_p**2*lambda_r + 2*P_0*gamma_p*k_p*k_r*lambda_p - 4*P_0*gamma_p*k_p*k_r*mu_p - 2*P_0*gamma_p*k_p*lambda_p*lambda_r + 4*P_0*gamma_p*k_p*lambda_r*mu_p + 2*P_0*gamma_p*k_r*lambda_p*mu_p - 2*P_0*gamma_p*k_r*mu_p**2 - 2*P_0*gamma_p*lambda_p*lambda_r*mu_p + 2*P_0*gamma_p*lambda_r*mu_p**2 + k_p**2*k_r**2 - 2*k_p**2*k_r*lambda_r + k_p**2*lambda_r**2 + 2*k_p*k_r**2*mu_p - 4*k_p*k_r*lambda_r*mu_p + 2*k_p*lambda_r**2*mu_p + k_r**2*mu_p**2 - 2*k_r*lambda_r*mu_p**2 + lambda_r**2*mu_p**2)/(2*gamma_p*(k_p + mu_p)))]"
      ]
     },
     "metadata": {},
     "output_type": "display_data"
    }
   ],
   "source": [
    "F3 = F.subs(x[3], 1)\n",
    "display(F3) # научить выводить \n",
    "#Рассмотрим второе уравнение\n",
    "F32 = F3[1]\n",
    "display(sp.Equality(F32, 0))\n",
    "F32 = sp.simplify(F32)\n",
    "display(sp.Equality(F32, 0))\n",
    "# Поделим на x2, поскольку x2 = 0 рассматривается в другом пункте\n",
    "# или нет? рассмотрим случай x3 = 1 И x2 = 0\n",
    "G = F.subs( {x[3] : 1, x[2] : 0})\n",
    "display(G)\n",
    "x1 = sp.solve(G[2], x[1])\n",
    "x1 = x1[0] # x1 нулевое потому, что сам x1 - список,а  элементы - сим. выраж.\n",
    "display(sp.Equality(x[1], x1)) \n",
    "x4 = sp.solve(G[3], x[4])\n",
    "x4 = x4[0]\n",
    "display(sp.Equality(x[4], x4)) \n",
    "# Проверим, выполняется ли при этом первое уравнение\n",
    "display(sp.simplify(G[0].subs({x[1] : x1, x[4] : x4}))) # не выполняется\n",
    "# тогда имеем x3 = 1 И x2 != 0\n",
    "F32 /= x[2]\n",
    "display(sp.Equality(F32, 0))\n",
    "x4 = sp.solve(G[3], x[4])\n",
    "x4 = x4[0]\n",
    "F3[1] = F32\n",
    "e, d = sp.fraction(F3[1])\n",
    "sys = sp.Matrix( [sp.Equality(F3[i], 0) for i in range(4)] )\n",
    "sys[3] = sp.Equality(x[4], x4)\n",
    "display(sys)\n",
    "sys[0] = sys[0].subs(x[4], x4)\n",
    "sys[1] = sp.Equality(e, 0)\n",
    "display(sys)\n",
    "\n",
    "slv = sp.solve( [sys[1], sys[2]], (x[1], x[2])) # мда ...\n",
    "\n"
   ]
  },
  {
   "cell_type": "code",
   "execution_count": null,
   "metadata": {},
   "outputs": [],
   "source": []
  },
  {
   "cell_type": "code",
   "execution_count": null,
   "metadata": {},
   "outputs": [],
   "source": []
  }
 ],
 "metadata": {
  "kernelspec": {
   "display_name": "Python 3",
   "language": "python",
   "name": "python3"
  },
  "language_info": {
   "codemirror_mode": {
    "name": "ipython",
    "version": 3
   },
   "file_extension": ".py",
   "mimetype": "text/x-python",
   "name": "python",
   "nbconvert_exporter": "python",
   "pygments_lexer": "ipython3",
   "version": "3.7.4"
  }
 },
 "nbformat": 4,
 "nbformat_minor": 2
}
