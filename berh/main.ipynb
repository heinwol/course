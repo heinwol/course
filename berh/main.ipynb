{
 "cells": [
  {
   "cell_type": "code",
   "execution_count": 1,
   "metadata": {},
   "outputs": [
    {
     "data": {
      "text/html": [
       "<style>\n",
       ".output {\n",
       "    font-size:18pt !important;\n",
       "}\n",
       ".prompt {\n",
       "    min-width:unset !important;\n",
       "}\n",
       ".output_subarea {\n",
       "    overflow-x:unset !important;\n",
       "}\n",
       ".MathJax {\n",
       "    font-size: 1.0em;\n",
       "}\n",
       "</style>\n"
      ],
      "text/plain": [
       "<IPython.core.display.HTML object>"
      ]
     },
     "metadata": {},
     "output_type": "display_data"
    }
   ],
   "source": [
    "%%html\n",
    "<style>\n",
    ".output {\n",
    "    font-size:18pt !important;\n",
    "}\n",
    ".prompt {\n",
    "    min-width:unset !important;\n",
    "}\n",
    ".output_subarea {\n",
    "    overflow-x:unset !important;\n",
    "}\n",
    ".MathJax {\n",
    "    font-size: 1.0em;\n",
    "}\n",
    "</style>"
   ]
  },
  {
   "cell_type": "code",
   "execution_count": 44,
   "metadata": {},
   "outputs": [
    {
     "data": {
      "text/latex": [
       "$\\displaystyle \\left[\\begin{matrix}0\\\\\\frac{k_{r}}{\\lambda_{r}}\\\\\\frac{k_{r} k_{t}}{\\lambda_{t} \\left(K_{t} \\lambda_{r} - k_{r} + \\lambda_{r}\\right)}\\end{matrix}\\right]$"
      ],
      "text/plain": [
       "Matrix([\n",
       "[                                                 0],\n",
       "[                                      k_r/lambda_r],\n",
       "[k_r*k_t/(lambda_t*(K_t*lambda_r - k_r + lambda_r))]])"
      ]
     },
     "metadata": {},
     "output_type": "display_data"
    },
    {
     "data": {
      "text/latex": [
       "$\\displaystyle \\left[\\begin{matrix}0\\\\0\\\\0\\\\0\\end{matrix}\\right]$"
      ],
      "text/plain": [
       "Matrix([\n",
       "[0],\n",
       "[0],\n",
       "[0],\n",
       "[0]])"
      ]
     },
     "metadata": {},
     "output_type": "display_data"
    },
    {
     "data": {
      "text/latex": [
       "$\\displaystyle \\left[\\begin{matrix}\\frac{P_{0} \\left(k_{p} - \\lambda_{p}\\right)}{k_{p}}\\\\\\frac{k_{p} k_{r}}{P_{0} \\gamma_{p} k_{p} - P_{0} \\gamma_{p} \\lambda_{p} + k_{p} \\lambda_{r}}\\\\\\frac{k_{p} k_{r} k_{t}}{\\lambda_{t} \\left(K_{t} P_{0} \\gamma_{p} k_{p} - K_{t} P_{0} \\gamma_{p} \\lambda_{p} + K_{t} k_{p} \\lambda_{r} + P_{0} \\gamma_{p} k_{p} - P_{0} \\gamma_{p} \\lambda_{p} - k_{p} k_{r} + k_{p} \\lambda_{r}\\right)}\\end{matrix}\\right]$"
      ],
      "text/plain": [
       "Matrix([\n",
       "[                                                                                                                                    P_0*(k_p - lambda_p)/k_p],\n",
       "[                                                                                             k_p*k_r/(P_0*gamma_p*k_p - P_0*gamma_p*lambda_p + k_p*lambda_r)],\n",
       "[k_p*k_r*k_t/(lambda_t*(K_t*P_0*gamma_p*k_p - K_t*P_0*gamma_p*lambda_p + K_t*k_p*lambda_r + P_0*gamma_p*k_p - P_0*gamma_p*lambda_p - k_p*k_r + k_p*lambda_r))]])"
      ]
     },
     "metadata": {},
     "output_type": "display_data"
    },
    {
     "data": {
      "text/latex": [
       "$\\displaystyle \\left[\\begin{matrix}0\\\\0\\\\0\\\\0\\end{matrix}\\right]$"
      ],
      "text/plain": [
       "Matrix([\n",
       "[0],\n",
       "[0],\n",
       "[0],\n",
       "[0]])"
      ]
     },
     "metadata": {},
     "output_type": "display_data"
    },
    {
     "ename": "UnboundLocalError",
     "evalue": "local variable 'solved_syms' referenced before assignment",
     "output_type": "error",
     "traceback": [
      "\u001b[0;31m---------------------------------------------------------------------------\u001b[0m",
      "\u001b[0;31mUnboundLocalError\u001b[0m                         Traceback (most recent call last)",
      "\u001b[0;32m<ipython-input-44-39bd753b2aaf>\u001b[0m in \u001b[0;36m<module>\u001b[0;34m\u001b[0m\n\u001b[1;32m     45\u001b[0m \u001b[0;34m\u001b[0m\u001b[0m\n\u001b[1;32m     46\u001b[0m \u001b[0mF_4\u001b[0m \u001b[0;34m=\u001b[0m \u001b[0mF\u001b[0m\u001b[0;34m.\u001b[0m\u001b[0msubs\u001b[0m\u001b[0;34m(\u001b[0m\u001b[0mx\u001b[0m\u001b[0;34m[\u001b[0m\u001b[0;36m4\u001b[0m\u001b[0;34m]\u001b[0m\u001b[0;34m,\u001b[0m \u001b[0;36m0\u001b[0m\u001b[0;34m)\u001b[0m\u001b[0;34m\u001b[0m\u001b[0;34m\u001b[0m\u001b[0m\n\u001b[0;32m---> 47\u001b[0;31m \u001b[0msolution4\u001b[0m \u001b[0;34m=\u001b[0m \u001b[0msp\u001b[0m\u001b[0;34m.\u001b[0m\u001b[0msolve\u001b[0m\u001b[0;34m(\u001b[0m\u001b[0mF_4\u001b[0m\u001b[0;34m,\u001b[0m \u001b[0;34m[\u001b[0m\u001b[0mx\u001b[0m\u001b[0;34m[\u001b[0m\u001b[0;36m1\u001b[0m\u001b[0;34m]\u001b[0m\u001b[0;34m,\u001b[0m \u001b[0mx\u001b[0m\u001b[0;34m[\u001b[0m\u001b[0;36m2\u001b[0m\u001b[0;34m]\u001b[0m\u001b[0;34m,\u001b[0m \u001b[0mx\u001b[0m\u001b[0;34m[\u001b[0m\u001b[0;36m3\u001b[0m\u001b[0;34m]\u001b[0m\u001b[0;34m]\u001b[0m\u001b[0;34m)\u001b[0m\u001b[0;34m\u001b[0m\u001b[0;34m\u001b[0m\u001b[0m\n\u001b[0m\u001b[1;32m     48\u001b[0m \u001b[0;34m\u001b[0m\u001b[0m\n\u001b[1;32m     49\u001b[0m \u001b[0;31m# for solution in solution4:\u001b[0m\u001b[0;34m\u001b[0m\u001b[0;34m\u001b[0m\u001b[0;34m\u001b[0m\u001b[0m\n",
      "\u001b[0;32m/Library/Frameworks/Python.framework/Versions/3.7/lib/python3.7/site-packages/sympy/solvers/solvers.py\u001b[0m in \u001b[0;36msolve\u001b[0;34m(f, *symbols, **flags)\u001b[0m\n\u001b[1;32m   1171\u001b[0m         \u001b[0msolution\u001b[0m \u001b[0;34m=\u001b[0m \u001b[0m_solve\u001b[0m\u001b[0;34m(\u001b[0m\u001b[0mf\u001b[0m\u001b[0;34m[\u001b[0m\u001b[0;36m0\u001b[0m\u001b[0;34m]\u001b[0m\u001b[0;34m,\u001b[0m \u001b[0;34m*\u001b[0m\u001b[0msymbols\u001b[0m\u001b[0;34m,\u001b[0m \u001b[0;34m**\u001b[0m\u001b[0mflags\u001b[0m\u001b[0;34m)\u001b[0m\u001b[0;34m\u001b[0m\u001b[0;34m\u001b[0m\u001b[0m\n\u001b[1;32m   1172\u001b[0m     \u001b[0;32melse\u001b[0m\u001b[0;34m:\u001b[0m\u001b[0;34m\u001b[0m\u001b[0;34m\u001b[0m\u001b[0m\n\u001b[0;32m-> 1173\u001b[0;31m         \u001b[0msolution\u001b[0m \u001b[0;34m=\u001b[0m \u001b[0m_solve_system\u001b[0m\u001b[0;34m(\u001b[0m\u001b[0mf\u001b[0m\u001b[0;34m,\u001b[0m \u001b[0msymbols\u001b[0m\u001b[0;34m,\u001b[0m \u001b[0;34m**\u001b[0m\u001b[0mflags\u001b[0m\u001b[0;34m)\u001b[0m\u001b[0;34m\u001b[0m\u001b[0;34m\u001b[0m\u001b[0m\n\u001b[0m\u001b[1;32m   1174\u001b[0m \u001b[0;34m\u001b[0m\u001b[0m\n\u001b[1;32m   1175\u001b[0m     \u001b[0;31m#\u001b[0m\u001b[0;34m\u001b[0m\u001b[0;34m\u001b[0m\u001b[0;34m\u001b[0m\u001b[0m\n",
      "\u001b[0;32m/Library/Frameworks/Python.framework/Versions/3.7/lib/python3.7/site-packages/sympy/solvers/solvers.py\u001b[0m in \u001b[0;36m_solve_system\u001b[0;34m(exprs, symbols, **flags)\u001b[0m\n\u001b[1;32m   1882\u001b[0m             \u001b[0;32mreturn\u001b[0m \u001b[0mrv\u001b[0m\u001b[0;34m\u001b[0m\u001b[0;34m\u001b[0m\u001b[0m\n\u001b[1;32m   1883\u001b[0m \u001b[0;34m\u001b[0m\u001b[0m\n\u001b[0;32m-> 1884\u001b[0;31m         \u001b[0msolved_syms\u001b[0m \u001b[0;34m=\u001b[0m \u001b[0mset\u001b[0m\u001b[0;34m(\u001b[0m\u001b[0msolved_syms\u001b[0m\u001b[0;34m)\u001b[0m  \u001b[0;31m# set of symbols we have solved for\u001b[0m\u001b[0;34m\u001b[0m\u001b[0;34m\u001b[0m\u001b[0m\n\u001b[0m\u001b[1;32m   1885\u001b[0m         \u001b[0mlegal\u001b[0m \u001b[0;34m=\u001b[0m \u001b[0mset\u001b[0m\u001b[0;34m(\u001b[0m\u001b[0msymbols\u001b[0m\u001b[0;34m)\u001b[0m  \u001b[0;31m# what we are interested in\u001b[0m\u001b[0;34m\u001b[0m\u001b[0;34m\u001b[0m\u001b[0m\n\u001b[1;32m   1886\u001b[0m         \u001b[0;31m# sort so equation with the fewest potential symbols is first\u001b[0m\u001b[0;34m\u001b[0m\u001b[0;34m\u001b[0m\u001b[0;34m\u001b[0m\u001b[0m\n",
      "\u001b[0;31mUnboundLocalError\u001b[0m: local variable 'solved_syms' referenced before assignment"
     ]
    }
   ],
   "source": [
    "import sympy as sp\n",
    "import numpy as np\n",
    "import matplotlib.pyplot as plt\n",
    "from IPython.display import Latex\n",
    "from sympy.interactive import printing\n",
    "from sympy.parsing.sympy_parser import parse_expr\n",
    "from sympy.printing.latex import latex\n",
    "import typing\n",
    "\n",
    "x = sp.symarray('x', 5)\n",
    "#C, P, R, T == x[1], x[2], x[3], x[4] respectively\n",
    "\n",
    "#equation parameters\n",
    "k_c, mu_c,     C_0,     lambda_c, K_c      = sp.symbols(\"k_c, mu_c, C_0, lambda_c, K_c\")\n",
    "k_p, mu_p,     K_p,     P_0,      lambda_p = sp.symbols(\"k_p, mu_p, K_p, P_0, lambda_p\")\n",
    "k_r, lambda_r, gamma_p, gamma_c            = sp.symbols(\"k_r, lambda_r, gamma_p, gamma_c\")\n",
    "k_t, K_t,      lambda_t                    = sp.symbols(\"k_t, K_t, lambda_t\")\n",
    "\n",
    "params = {'C_0' : 10**6, 'P_0' : 10**5,'k_c' : 7.5e-2, 'K_c' : 0.1, 'lambda_c' : 10**(-7), \\\n",
    "    'k_p' : 0.2, 'lambda_p' : 0.15, 'k_r' : 0.2, 'lambda_r' : 0.22, 'k_t' : 3300, 'lambda_t' : 0.3}\n",
    "params['mu_c'] = 20*params['k_c'] / params['P_0']\n",
    "params['mu_p'] = 20*params['k_p']\n",
    "params['K_p'] = params['C_0'] / 100\n",
    "params['gamma_p'] = 0.02 * params['lambda_r'] / (params['P_0'] * (1 - params['lambda_p'] / params['k_p']))\n",
    "params['gamma_c'] = params['gamma_p']\n",
    "params['K_t'] = params['K_c']\n",
    "\n",
    "\n",
    "f1 = (k_c + mu_c*x[2]) * x[1]**(3/4) * (1 - x[1]/C_0)**(1/4) - \\\n",
    "        (lambda_c * x[1]*x[4]) / (K_c + 1 - x[3])\n",
    "f2 = x[2] * (1 - x[2] / P_0) * (k_p + mu_p*x[1] / (K_p + x[1]) ) - lambda_p*x[2]\n",
    "f3 = k_r - x[3] * (lambda_r + gamma_p*x[2] + gamma_c*x[1])\n",
    "f4 = k_t*x[3] / (K_t - x[3] + 1) - lambda_t*x[4]\n",
    "\n",
    "F = sp.Matrix([f1, f2, f3, f4])\n",
    "zeros = sp.Matrix([0,0,0,0])\n",
    "\n",
    "# F_1 = F.subs(x[1], 0)\n",
    "solution1 = sp.solve(F_1, [x[2], x[3], x[4]])\n",
    "\n",
    "#убедимся, что sol12, sol11 - ПР:\n",
    "for solution in solution1:\n",
    "    display( sp.Matrix(solution))\n",
    "    display( sp.simplify (F.subs( {x[1] : 0, x[2] : sol[0], x[3] : sol[1], x[4] : sol[2]} )))\n",
    "\n",
    "F_4 = F.subs(x[4], 0)\n",
    "solution4 = sp.solve(F_4, [x[1], x[2], x[3]])\n",
    "\n",
    "# for solution in solution4:\n",
    "#     display(sp.Matrix(solution))\n",
    "#     display(sp.simplify (F.subs( {x[1] : solution[0], x[1] : solution[1], x[2] : solution[2], x[4] : 0} )))\n",
    "\n",
    "# Jacobian = F.jacobian([ x[1], x[2], x[3], x[4] ]) # видимо, надо указывать очередность аргументов, по которым дифф-е\n",
    "# display(Jacobian)\n",
    "\n"
   ]
  },
  {
   "cell_type": "code",
   "execution_count": null,
   "metadata": {},
   "outputs": [],
   "source": []
  }
 ],
 "metadata": {
  "file_extension": ".py",
  "kernelspec": {
   "display_name": "Python 3",
   "language": "python",
   "name": "python3"
  },
  "language_info": {
   "codemirror_mode": {
    "name": "ipython",
    "version": 3
   },
   "file_extension": ".py",
   "mimetype": "text/x-python",
   "name": "python",
   "nbconvert_exporter": "python",
   "pygments_lexer": "ipython3",
   "version": "3.7.4"
  },
  "mimetype": "text/x-python",
  "name": "python",
  "npconvert_exporter": "python",
  "pygments_lexer": "ipython3",
  "version": 3
 },
 "nbformat": 4,
 "nbformat_minor": 4
}
