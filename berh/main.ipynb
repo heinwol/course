{
 "cells": [
  {
   "cell_type": "code",
   "execution_count": 1,
   "metadata": {},
   "outputs": [
    {
     "data": {
      "text/html": [
       "<style>\n",
       ".output {\n",
       "    font-size:18pt !important;\n",
       "}\n",
       ".prompt {\n",
       "    min-width:unset !important;\n",
       "}\n",
       ".output_subarea {\n",
       "    overflow-x:unset !important;\n",
       "}\n",
       ".MathJax {\n",
       "    font-size: 1.0em;\n",
       "}\n",
       "</style>\n"
      ],
      "text/plain": [
       "<IPython.core.display.HTML object>"
      ]
     },
     "metadata": {},
     "output_type": "display_data"
    }
   ],
   "source": [
    "%%html\n",
    "<style>\n",
    ".output {\n",
    "    font-size:18pt !important;\n",
    "}\n",
    ".prompt {\n",
    "    min-width:unset !important;\n",
    "}\n",
    ".output_subarea {\n",
    "    overflow-x:unset !important;\n",
    "}\n",
    ".MathJax {\n",
    "    font-size: 1.0em;\n",
    "}\n",
    "</style>"
   ]
  },
  {
   "cell_type": "code",
   "execution_count": 2,
   "metadata": {
    "slideshow": {
     "slide_type": "fragment"
    }
   },
   "outputs": [
    {
     "data": {
      "text/latex": [
       "$\\displaystyle \\left[\\begin{matrix}- \\frac{\\lambda_{c} x_{1} x_{4}}{K_{c} - x_{3} + 1} + x_{1}^{\\frac{3}{4}} \\left(1 - \\sqrt[4]{\\frac{x_{1}}{C_{0}}}\\right) \\left(k_{c} + \\mu_{c} x_{2}\\right)\\\\- \\lambda_{p} x_{2} + x_{2} \\left(1 - \\frac{x_{2}}{P_{0}}\\right) \\left(k_{p} + \\frac{\\mu_{p} x_{1}}{K_{p} + x_{1}}\\right)\\\\k_{r} - x_{3} \\left(\\gamma_{c} x_{1} + \\gamma_{p} x_{2} + \\lambda_{r}\\right)\\\\\\frac{k_{t} x_{3}}{K_{t} - x_{3} + 1} - \\lambda_{t} x_{4}\\end{matrix}\\right]$"
      ],
      "text/plain": [
       "Matrix([\n",
       "[-lambda_c*x_1*x_4/(K_c - x_3 + 1) + x_1**(3/4)*(1 - (x_1/C_0)**(1/4))*(k_c + mu_c*x_2)],\n",
       "[                        -lambda_p*x_2 + x_2*(1 - x_2/P_0)*(k_p + mu_p*x_1/(K_p + x_1))],\n",
       "[                                      k_r - x_3*(gamma_c*x_1 + gamma_p*x_2 + lambda_r)],\n",
       "[                                                k_t*x_3/(K_t - x_3 + 1) - lambda_t*x_4]])"
      ]
     },
     "metadata": {},
     "output_type": "display_data"
    }
   ],
   "source": [
    "from res import *\n",
    "#from sympy.interactive import printing\n",
    "#printing.init_printing(use_latex=True)\n",
    "\n",
    "# import sys\n",
    "# sys.path.append('../')\n",
    "\n",
    "## main ##\n",
    "\n",
    "x = sp.symarray('x', 5)\n",
    "\n",
    "#C, P, R, T == x[1], x[2], x[3], x[4] respectively\n",
    "\n",
    "#equation parameters\n",
    "k_c, mu_c,     C_0,     lambda_c, K_c      = sp.symbols(\"k_c, mu_c, C_0, lambda_c, K_c\")\n",
    "k_p, mu_p,     K_p,     P_0,      lambda_p = sp.symbols(\"k_p, mu_p, K_p, P_0, lambda_p\")\n",
    "k_r, lambda_r, gamma_p, gamma_c            = sp.symbols(\"k_r, lambda_r, gamma_p, gamma_c\")\n",
    "k_t, K_t,      lambda_t                    = sp.symbols(\"k_t, K_t, lambda_t\")\n",
    "\n",
    "F = sp.Matrix([\n",
    "    (k_c + mu_c*x[2])*x[1]**(xpr(\"3/4\"))*(1 - (x[1]/C_0)**xpr(\"1/4\")) - \\\n",
    "        (lambda_c*x[1]*x[4])/(K_c + (1 - x[3])),\n",
    "    (k_p + (mu_p*x[1])/(K_p + x[1]))*x[2]*(1 - x[2]/P_0) - lambda_p*x[2],\n",
    "    k_r - (lambda_r + gamma_p*x[2] + gamma_c*x[1])*x[3],\n",
    "    (k_t*x[3])/(K_t + (1 - x[3])) - lambda_t*x[4]\n",
    "])\n",
    "\n",
    "display(F)"
   ]
  },
  {
   "cell_type": "code",
   "execution_count": 3,
   "metadata": {},
   "outputs": [
    {
     "data": {
      "text/latex": [
       "$\\displaystyle \\left[\\begin{matrix}\\left[\\begin{matrix}- \\frac{\\lambda_{c} x_{4}}{K_{c} - x_{3} + 1} - \\frac{\\sqrt[4]{\\frac{x_{1}}{C_{0}}} \\left(k_{c} + \\mu_{c} x_{2}\\right)}{4 \\sqrt[4]{x_{1}}} + \\frac{3 \\left(1 - \\sqrt[4]{\\frac{x_{1}}{C_{0}}}\\right) \\left(k_{c} + \\mu_{c} x_{2}\\right)}{4 \\sqrt[4]{x_{1}}}\\\\x_{2} \\left(1 - \\frac{x_{2}}{P_{0}}\\right) \\left(- \\frac{\\mu_{p} x_{1}}{\\left(K_{p} + x_{1}\\right)^{2}} + \\frac{\\mu_{p}}{K_{p} + x_{1}}\\right)\\\\- \\gamma_{c} x_{3}\\\\0\\end{matrix}\\right] & \\left[\\begin{matrix}\\mu_{c} x_{1}^{\\frac{3}{4}} \\left(1 - \\sqrt[4]{\\frac{x_{1}}{C_{0}}}\\right)\\\\- \\lambda_{p} + \\left(1 - \\frac{x_{2}}{P_{0}}\\right) \\left(k_{p} + \\frac{\\mu_{p} x_{1}}{K_{p} + x_{1}}\\right) - \\frac{x_{2} \\left(k_{p} + \\frac{\\mu_{p} x_{1}}{K_{p} + x_{1}}\\right)}{P_{0}}\\\\- \\gamma_{p} x_{3}\\\\0\\end{matrix}\\right] & \\left[\\begin{matrix}- \\frac{\\lambda_{c} x_{1} x_{4}}{\\left(K_{c} - x_{3} + 1\\right)^{2}}\\\\0\\\\- \\gamma_{c} x_{1} - \\gamma_{p} x_{2} - \\lambda_{r}\\\\\\frac{k_{t} x_{3}}{\\left(K_{t} - x_{3} + 1\\right)^{2}} + \\frac{k_{t}}{K_{t} - x_{3} + 1}\\end{matrix}\\right] & \\left[\\begin{matrix}- \\frac{\\lambda_{c} x_{1}}{K_{c} - x_{3} + 1}\\\\0\\\\0\\\\- \\lambda_{t}\\end{matrix}\\right]\\end{matrix}\\right]$"
      ],
      "text/plain": [
       "[[[-lambda_c*x_4/(K_c - x_3 + 1) - (x_1/C_0)**(1/4)*(k_c + mu_c*x_2)/(4*x_1**(1/4)) + 3*(1 - (x_1/C_0)**(1/4))*(k_c + mu_c*x_2)/(4*x_1**(1/4))], [x_2*(1 - x_2/P_0)*(-mu_p*x_1/(K_p + x_1)**2 + mu_p/(K_p + x_1))], [-gamma_c*x_3], [0]], [[mu_c*x_1**(3/4)*(1 - (x_1/C_0)**(1/4))], [-lambda_p + (1 - x_2/P_0)*(k_p + mu_p*x_1/(K_p + x_1)) - x_2*(k_p + mu_p*x_1/(K_p + x_1))/P_0], [-gamma_p*x_3], [0]], [[-lambda_c*x_1*x_4/(K_c - x_3 + 1)**2], [0], [-gamma_c*x_1 - gamma_p*x_2 - lambda_r], [k_t*x_3/(K_t - x_3 + 1)**2 + k_t/(K_t - x_3 + 1)]], [[-lambda_c*x_1/(K_c - x_3 + 1)], [0], [0], [-lambda_t]]]"
      ]
     },
     "metadata": {},
     "output_type": "display_data"
    }
   ],
   "source": [
    "display(sp.derive_by_array(F, (x[1],x[2],x[3],x[4])))"
   ]
  },
  {
   "cell_type": "code",
   "execution_count": 4,
   "metadata": {},
   "outputs": [
    {
     "data": {
      "text/markdown": [
       "Докажем инвариантность первого октанта, для этого рассмотрим отдельно все координатные плоскости.\n",
       "\n",
       "Положим $x_1 = 0:$\n"
      ],
      "text/plain": [
       "<IPython.core.display.Markdown object>"
      ]
     },
     "metadata": {},
     "output_type": "display_data"
    }
   ],
   "source": [
    "%%markdown\n",
    "Докажем инвариантность первого октанта, для этого рассмотрим отдельно все координатные плоскости.\n",
    "\n",
    "Положим $x_1 = 0:$"
   ]
  },
  {
   "cell_type": "code",
   "execution_count": 5,
   "metadata": {
    "scrolled": true
   },
   "outputs": [
    {
     "data": {
      "text/latex": [
       "$\\displaystyle \\left[\\begin{matrix}0\\\\k_{p} x_{2} \\left(1 - \\frac{x_{2}}{P_{0}}\\right) - \\lambda_{p} x_{2}\\\\k_{r} - x_{3} \\left(\\gamma_{p} x_{2} + \\lambda_{r}\\right)\\\\\\frac{k_{t} x_{3}}{K_{t} - x_{3} + 1} - \\lambda_{t} x_{4}\\end{matrix}\\right]$"
      ],
      "text/plain": [
       "Matrix([\n",
       "[                                     0],\n",
       "[  k_p*x_2*(1 - x_2/P_0) - lambda_p*x_2],\n",
       "[    k_r - x_3*(gamma_p*x_2 + lambda_r)],\n",
       "[k_t*x_3/(K_t - x_3 + 1) - lambda_t*x_4]])"
      ]
     },
     "metadata": {},
     "output_type": "display_data"
    }
   ],
   "source": [
    "F_new = F.subs(x[1], 0)\n",
    "display(F_new)"
   ]
  },
  {
   "cell_type": "code",
   "execution_count": 6,
   "metadata": {},
   "outputs": [
    {
     "data": {
      "text/markdown": [
       "$x_2 = 0:$\n"
      ],
      "text/plain": [
       "<IPython.core.display.Markdown object>"
      ]
     },
     "metadata": {},
     "output_type": "display_data"
    }
   ],
   "source": [
    "%%markdown\n",
    "$x_2 = 0:$"
   ]
  },
  {
   "cell_type": "code",
   "execution_count": 7,
   "metadata": {},
   "outputs": [
    {
     "data": {
      "text/latex": [
       "$\\displaystyle \\left[\\begin{matrix}k_{c} x_{1}^{\\frac{3}{4}} \\left(1 - \\sqrt[4]{\\frac{x_{1}}{C_{0}}}\\right) - \\frac{\\lambda_{c} x_{1} x_{4}}{K_{c} - x_{3} + 1}\\\\0\\\\k_{r} - x_{3} \\left(\\gamma_{c} x_{1} + \\lambda_{r}\\right)\\\\\\frac{k_{t} x_{3}}{K_{t} - x_{3} + 1} - \\lambda_{t} x_{4}\\end{matrix}\\right]$"
      ],
      "text/plain": [
       "Matrix([\n",
       "[k_c*x_1**(3/4)*(1 - (x_1/C_0)**(1/4)) - lambda_c*x_1*x_4/(K_c - x_3 + 1)],\n",
       "[                                                                       0],\n",
       "[                                      k_r - x_3*(gamma_c*x_1 + lambda_r)],\n",
       "[                                  k_t*x_3/(K_t - x_3 + 1) - lambda_t*x_4]])"
      ]
     },
     "metadata": {},
     "output_type": "display_data"
    }
   ],
   "source": [
    "F_new = F.subs(x[2], 0)\n",
    "display(F_new)"
   ]
  },
  {
   "cell_type": "code",
   "execution_count": 8,
   "metadata": {},
   "outputs": [
    {
     "data": {
      "text/markdown": [
       "$x_3 = 0:$\n"
      ],
      "text/plain": [
       "<IPython.core.display.Markdown object>"
      ]
     },
     "metadata": {},
     "output_type": "display_data"
    }
   ],
   "source": [
    "%%markdown\n",
    "$x_3 = 0:$"
   ]
  },
  {
   "cell_type": "code",
   "execution_count": 9,
   "metadata": {},
   "outputs": [
    {
     "data": {
      "text/latex": [
       "$\\displaystyle \\left[\\begin{matrix}- \\frac{\\lambda_{c} x_{1} x_{4}}{K_{c} + 1} + x_{1}^{\\frac{3}{4}} \\left(1 - \\sqrt[4]{\\frac{x_{1}}{C_{0}}}\\right) \\left(k_{c} + \\mu_{c} x_{2}\\right)\\\\- \\lambda_{p} x_{2} + x_{2} \\left(1 - \\frac{x_{2}}{P_{0}}\\right) \\left(k_{p} + \\frac{\\mu_{p} x_{1}}{K_{p} + x_{1}}\\right)\\\\k_{r}\\\\- \\lambda_{t} x_{4}\\end{matrix}\\right]$"
      ],
      "text/plain": [
       "Matrix([\n",
       "[-lambda_c*x_1*x_4/(K_c + 1) + x_1**(3/4)*(1 - (x_1/C_0)**(1/4))*(k_c + mu_c*x_2)],\n",
       "[                  -lambda_p*x_2 + x_2*(1 - x_2/P_0)*(k_p + mu_p*x_1/(K_p + x_1))],\n",
       "[                                                                             k_r],\n",
       "[                                                                   -lambda_t*x_4]])"
      ]
     },
     "metadata": {},
     "output_type": "display_data"
    }
   ],
   "source": [
    "F_new = F.subs(x[3], 0)\n",
    "display(F_new)"
   ]
  },
  {
   "cell_type": "code",
   "execution_count": 10,
   "metadata": {},
   "outputs": [
    {
     "data": {
      "text/markdown": [
       "$x_4 = 0:$\n"
      ],
      "text/plain": [
       "<IPython.core.display.Markdown object>"
      ]
     },
     "metadata": {},
     "output_type": "display_data"
    }
   ],
   "source": [
    "%%markdown\n",
    "$x_4 = 0:$"
   ]
  },
  {
   "cell_type": "code",
   "execution_count": 11,
   "metadata": {},
   "outputs": [
    {
     "data": {
      "text/latex": [
       "$\\displaystyle \\left[\\begin{matrix}x_{1}^{\\frac{3}{4}} \\left(1 - \\sqrt[4]{\\frac{x_{1}}{C_{0}}}\\right) \\left(k_{c} + \\mu_{c} x_{2}\\right)\\\\- \\lambda_{p} x_{2} + x_{2} \\left(1 - \\frac{x_{2}}{P_{0}}\\right) \\left(k_{p} + \\frac{\\mu_{p} x_{1}}{K_{p} + x_{1}}\\right)\\\\k_{r} - x_{3} \\left(\\gamma_{c} x_{1} + \\gamma_{p} x_{2} + \\lambda_{r}\\right)\\\\\\frac{k_{t} x_{3}}{K_{t} - x_{3} + 1}\\end{matrix}\\right]$"
      ],
      "text/plain": [
       "Matrix([\n",
       "[            x_1**(3/4)*(1 - (x_1/C_0)**(1/4))*(k_c + mu_c*x_2)],\n",
       "[-lambda_p*x_2 + x_2*(1 - x_2/P_0)*(k_p + mu_p*x_1/(K_p + x_1))],\n",
       "[              k_r - x_3*(gamma_c*x_1 + gamma_p*x_2 + lambda_r)],\n",
       "[                                       k_t*x_3/(K_t - x_3 + 1)]])"
      ]
     },
     "metadata": {},
     "output_type": "display_data"
    }
   ],
   "source": [
    "F_new = F.subs(x[4], 0)\n",
    "display(F_new)"
   ]
  },
  {
   "cell_type": "code",
   "execution_count": null,
   "metadata": {},
   "outputs": [],
   "source": []
  },
  {
   "cell_type": "code",
   "execution_count": 12,
   "metadata": {},
   "outputs": [
    {
     "data": {
      "text/markdown": [
       "----------------------------------------------\n",
       "---------------------------------------------\n",
       "Пока что оставим этот вопрос и попробуем найти положение равновесия:\n"
      ],
      "text/plain": [
       "<IPython.core.display.Markdown object>"
      ]
     },
     "metadata": {},
     "output_type": "display_data"
    }
   ],
   "source": [
    "%%markdown\n",
    "----------------------------------------------\n",
    "---------------------------------------------\n",
    "Пока что оставим этот вопрос и попробуем найти положение равновесия:"
   ]
  },
  {
   "cell_type": "code",
   "execution_count": 13,
   "metadata": {},
   "outputs": [
    {
     "data": {
      "text/latex": [
       "$\\displaystyle \\left[\\begin{matrix}- \\frac{\\lambda_{c} x_{1} x_{4}}{K_{c} - x_{3} + 1} + x_{1}^{\\frac{3}{4}} \\left(1 - \\sqrt[4]{\\frac{x_{1}}{C_{0}}}\\right) \\left(k_{c} + \\mu_{c} x_{2}\\right) = 0\\\\- \\lambda_{p} x_{2} + x_{2} \\left(1 - \\frac{x_{2}}{P_{0}}\\right) \\left(k_{p} + \\frac{\\mu_{p} x_{1}}{K_{p} + x_{1}}\\right) = 0\\\\k_{r} - x_{3} \\left(\\gamma_{c} x_{1} + \\gamma_{p} x_{2} + \\lambda_{r}\\right) = 0\\\\\\frac{k_{t} x_{3}}{K_{t} - x_{3} + 1} - \\lambda_{t} x_{4} = 0\\end{matrix}\\right]$"
      ],
      "text/plain": [
       "Matrix([\n",
       "[Eq(-lambda_c*x_1*x_4/(K_c - x_3 + 1) + x_1**(3/4)*(1 - (x_1/C_0)**(1/4))*(k_c + mu_c*x_2), 0)],\n",
       "[                        Eq(-lambda_p*x_2 + x_2*(1 - x_2/P_0)*(k_p + mu_p*x_1/(K_p + x_1)), 0)],\n",
       "[                                      Eq(k_r - x_3*(gamma_c*x_1 + gamma_p*x_2 + lambda_r), 0)],\n",
       "[                                                Eq(k_t*x_3/(K_t - x_3 + 1) - lambda_t*x_4, 0)]])"
      ]
     },
     "metadata": {},
     "output_type": "display_data"
    }
   ],
   "source": [
    "stat_eqn = sp.Matrix([Eqn(F[i],0) for i in range(0, 4)])\n",
    "display(stat_eqn)"
   ]
  },
  {
   "cell_type": "code",
   "execution_count": null,
   "metadata": {},
   "outputs": [],
   "source": []
  },
  {
   "cell_type": "code",
   "execution_count": null,
   "metadata": {},
   "outputs": [],
   "source": [
    "\n",
    "\n",
    "\n",
    "\n",
    "\n",
    "\n",
    "\n",
    "\n",
    "\n",
    "\n",
    "\n",
    "\n"
   ]
  },
  {
   "cell_type": "code",
   "execution_count": 14,
   "metadata": {},
   "outputs": [],
   "source": [
    "# Использование предположений\n",
    "#Воспользовавшись предположениями о значениях параметров, входящих в уравнение, получим:"
   ]
  },
  {
   "cell_type": "code",
   "execution_count": 22,
   "metadata": {},
   "outputs": [
    {
     "data": {
      "text/latex": [
       "$\\displaystyle \\left[\\begin{matrix}\\frac{0.0316227766016838 x_{1}^{0.75} \\left(1000000 - x_{1}\\right)^{0.25} \\left(1.5 \\cdot 10^{-5} x_{2} + 0.075\\right) \\left(x_{3} - 1.1\\right) + 1.0 \\cdot 10^{-7} x_{1} x_{4}}{x_{3} - 1.1}\\\\- \\frac{x_{2} \\left(15000.0 x_{1} + \\left(4.2 x_{1} + 2000.0\\right) \\left(x_{2} - 100000\\right) + 150000000.0\\right)}{100000 x_{1} + 1000000000.0}\\\\- x_{3} \\left(1.76 \\cdot 10^{-7} x_{1} + 1.76 \\cdot 10^{-7} x_{2} + 0.22\\right) + 0.2\\\\- \\frac{3300 x_{3} + 0.3 x_{4} \\left(x_{3} - 1.1\\right)}{x_{3} - 1.1}\\end{matrix}\\right]$"
      ],
      "text/plain": [
       "Matrix([\n",
       "[(0.0316227766016838*x_1**0.75*(1000000 - x_1)**0.25*(1.5e-5*x_2 + 0.075)*(x_3 - 1.1) + 1.0e-7*x_1*x_4)/(x_3 - 1.1)],\n",
       "[                  -x_2*(15000.0*x_1 + (4.2*x_1 + 2000.0)*(x_2 - 100000) + 150000000.0)/(100000*x_1 + 1000000000.0)],\n",
       "[                                                                     -x_3*(1.76e-7*x_1 + 1.76e-7*x_2 + 0.22) + 0.2],\n",
       "[                                                                     -(3300*x_3 + 0.3*x_4*(x_3 - 1.1))/(x_3 - 1.1)]])"
      ]
     },
     "metadata": {},
     "output_type": "display_data"
    },
    {
     "name": "stdout",
     "output_type": "stream",
     "text": [
      "{P_0: 100000.000000000, C_0: 1000000.00000000, k_c: 0.0750000000000000, mu_c: 1.50000000000000e-5, K_c: 0.100000000000000, lambda_c: 1.00000000000000e-7, k_p: 0.200000000000000, mu_p: 4.00000000000000, K_p: 10000.0000000000, lambda_p: 0.150000000000000, k_r: 0.200000000000000, lambda_r: 0.220000000000000, gamma_p: 1.76000000000000e-7, gamma_c: 1.76000000000000e-7, k_t: 3200.00000000000, K_t: 0.100000000000000, lambda_t: 0.300000000000000}\n"
     ]
    },
    {
     "data": {
      "text/latex": [
       "$\\displaystyle \\left[\\begin{matrix}\\frac{0.0316227766016838 x_{1}^{0.75} \\left(1000000 - x_{1}\\right)^{0.25} \\left(1.5 \\cdot 10^{-5} x_{2} + 0.075\\right) \\left(x_{3} - 1.1\\right) + 1.0 \\cdot 10^{-7} x_{1} x_{4}}{x_{3} - 1.1}\\\\- \\frac{x_{2} \\left(15000.0 x_{1} + \\left(4.2 x_{1} + 2000.0\\right) \\left(x_{2} - 100000\\right) + 150000000.0\\right)}{100000 x_{1} + 1000000000.0}\\\\- x_{3} \\left(1.76 \\cdot 10^{-7} x_{1} + 1.76 \\cdot 10^{-7} x_{2} + 0.22\\right) + 0.2\\\\- \\frac{3300 x_{3} + 0.3 x_{4} \\left(x_{3} - 1.1\\right)}{x_{3} - 1.1}\\end{matrix}\\right]$"
      ],
      "text/plain": [
       "Matrix([\n",
       "[(0.0316227766016838*x_1**0.75*(1000000 - x_1)**0.25*(1.5e-5*x_2 + 0.075)*(x_3 - 1.1) + 1.0e-7*x_1*x_4)/(x_3 - 1.1)],\n",
       "[                  -x_2*(15000.0*x_1 + (4.2*x_1 + 2000.0)*(x_2 - 100000) + 150000000.0)/(100000*x_1 + 1000000000.0)],\n",
       "[                                                                     -x_3*(1.76e-7*x_1 + 1.76e-7*x_2 + 0.22) + 0.2],\n",
       "[                                                                     -(3300*x_3 + 0.3*x_4*(x_3 - 1.1))/(x_3 - 1.1)]])"
      ]
     },
     "metadata": {},
     "output_type": "display_data"
    }
   ],
   "source": [
    "flatex(\"sd ${}$\", F[0])\n",
    "display(F)\n",
    "\n",
    "P_s = xpr(\"1.0*10**5\")*(1 - xpr(\"0.15\")/xpr(\"0.2\"))\n",
    "exchange_dict = {\n",
    "    P_0 : xpr(\"1.0*10**5\"),\n",
    "    C_0 : xpr(\"1.0*10**6\"),\n",
    "    k_c : xpr(\"7.5*10**(-2)\"),\n",
    "    mu_c : xpr(\"20.0\")*xpr(\"7.5*10**(-2)\")/xpr(\"1.0*10**5\"),\n",
    "    K_c : xpr(\"0.1\"),\n",
    "    lambda_c : xpr(\"1.0*10**(-7)\"),\n",
    "    k_p : xpr(\"0.2\"),\n",
    "    mu_p : xpr(\"20.0*0.2\"),\n",
    "    K_p : xpr(\"1.0*10**6\")/xpr(\"100.0\"),\n",
    "    lambda_p : xpr(\"0.15\"),\n",
    "    k_r : xpr(\"0.2\"),\n",
    "    lambda_r : xpr(\"0.22\"),\n",
    "    gamma_p : xpr(\"0.02\")*xpr(\"0.22\")/P_s,\n",
    "    gamma_c : xpr(\"0.02\")*xpr(\"0.22\")/P_s,\n",
    "    k_t : xpr(\"3200.0\"),\n",
    "    K_t : xpr(\"0.1\"),\n",
    "    lambda_t : xpr(\"0.3\")\n",
    "}\n",
    "print(exchange_dict)\n",
    "F = sp.simplify(F.subs(exchange_dict))\n",
    "display(F)"
   ]
  },
  {
   "cell_type": "code",
   "execution_count": 29,
   "metadata": {},
   "outputs": [
    {
     "name": "stdout",
     "output_type": "stream",
     "text": [
      "{'C_0': 1000000, 'P_0': 100000, 'k_c': 0.075, 'K_c': 0.1, 'lambda_c': 1e-07, 'k_p': 0.2, 'lambda_p': 0.15, 'k_r': 0.2, 'lambda_r': 0.22, 'k_t': 3300, 'lambda_t': 0.3, 'mu_c': 1.5e-05, 'mu_p': 4.0, 'K_p': 10000.0, 'gamma_p': 1.7599999999999993e-07, 'gamma_c': 1.7599999999999993e-07, 'K_t': 0.1}\n",
      "Matrix([[0], [k_p*x_2*(1 - x_2/P_0) - lambda_p*x_2], [k_r - x_3*(gamma_p*x_2 + lambda_r)], [k_t*x_3/(K_t - x_3 + 1) - lambda_t*x_4]])\n"
     ]
    },
    {
     "data": {
      "text/latex": [
       "$\\displaystyle \\left[\\begin{matrix}0\\\\\\frac{k_{r}}{\\lambda_{r}}\\\\\\frac{k_{r} k_{t}}{\\lambda_{t} \\left(K_{t} \\lambda_{r} - k_{r} + \\lambda_{r}\\right)}\\end{matrix}\\right]$"
      ],
      "text/plain": [
       "Matrix([\n",
       "[                                                 0],\n",
       "[                                      k_r/lambda_r],\n",
       "[k_r*k_t/(lambda_t*(K_t*lambda_r - k_r + lambda_r))]])"
      ]
     },
     "metadata": {},
     "output_type": "display_data"
    },
    {
     "data": {
      "text/latex": [
       "$\\displaystyle \\left[\\begin{matrix}\\frac{P_{0} \\left(k_{p} - \\lambda_{p}\\right)}{k_{p}}\\\\\\frac{k_{p} k_{r}}{P_{0} \\gamma_{p} k_{p} - P_{0} \\gamma_{p} \\lambda_{p} + k_{p} \\lambda_{r}}\\\\\\frac{k_{p} k_{r} k_{t}}{\\lambda_{t} \\left(K_{t} P_{0} \\gamma_{p} k_{p} - K_{t} P_{0} \\gamma_{p} \\lambda_{p} + K_{t} k_{p} \\lambda_{r} + P_{0} \\gamma_{p} k_{p} - P_{0} \\gamma_{p} \\lambda_{p} - k_{p} k_{r} + k_{p} \\lambda_{r}\\right)}\\end{matrix}\\right]$"
      ],
      "text/plain": [
       "Matrix([\n",
       "[                                                                                                                                    P_0*(k_p - lambda_p)/k_p],\n",
       "[                                                                                             k_p*k_r/(P_0*gamma_p*k_p - P_0*gamma_p*lambda_p + k_p*lambda_r)],\n",
       "[k_p*k_r*k_t/(lambda_t*(K_t*P_0*gamma_p*k_p - K_t*P_0*gamma_p*lambda_p + K_t*k_p*lambda_r + P_0*gamma_p*k_p - P_0*gamma_p*lambda_p - k_p*k_r + k_p*lambda_r))]])"
      ]
     },
     "metadata": {},
     "output_type": "display_data"
    }
   ],
   "source": [
    "import sympy as sp\n",
    "import numpy as np\n",
    "import matplotlib.pyplot as plt\n",
    "from IPython.display import Latex\n",
    "from sympy.interactive import printing\n",
    "from sympy.parsing.sympy_parser import parse_expr\n",
    "from sympy.printing.latex import latex\n",
    "import typing\n",
    "\n",
    "x = sp.symarray('x', 5)\n",
    "#C, P, R, T == x[1], x[2], x[3], x[4] respectively\n",
    "\n",
    "#equation parameters\n",
    "k_c, mu_c,     C_0,     lambda_c, K_c      = sp.symbols(\"k_c, mu_c, C_0, lambda_c, K_c\")\n",
    "k_p, mu_p,     K_p,     P_0,      lambda_p = sp.symbols(\"k_p, mu_p, K_p, P_0, lambda_p\")\n",
    "k_r, lambda_r, gamma_p, gamma_c            = sp.symbols(\"k_r, lambda_r, gamma_p, gamma_c\")\n",
    "k_t, K_t,      lambda_t                    = sp.symbols(\"k_t, K_t, lambda_t\")\n",
    "\n",
    "params = {'C_0' : 10**6, 'P_0' : 10**5,'k_c' : 7.5e-2, 'K_c' : 0.1, 'lambda_c' : 10**(-7), \\\n",
    "    'k_p' : 0.2, 'lambda_p' : 0.15, 'k_r' : 0.2, 'lambda_r' : 0.22, 'k_t' : 3300, 'lambda_t' : 0.3}\n",
    "params['mu_c'] = 20*params['k_c'] / params['P_0']\n",
    "params['mu_p'] = 20*params['k_p']\n",
    "params['K_p'] = params['C_0'] / 100\n",
    "params['gamma_p'] = 0.02 * params['lambda_r'] / (params['P_0'] * (1 - params['lambda_p'] / params['k_p']))\n",
    "params['gamma_c'] = params['gamma_p']\n",
    "params['K_t'] = params['K_c']\n",
    "print(params)\n",
    "\n",
    "f1 = (k_c + mu_c*x[2]) * x[1]**(3/4) * (1 - x[1]/C_0)**(1/4) - \\\n",
    "        (lambda_c * x[1]*x[4]) / (K_c + 1 - x[3])\n",
    "f2 = x[2] * (1 - x[2] / P_0) * (k_p + mu_p*x[1] / (K_p + x[1]) ) - lambda_p*x[2]\n",
    "f3 = k_r - x[3] * (lambda_r + gamma_p*x[2] + gamma_c*x[1])\n",
    "f4 = k_t*x[3] / (K_t - x[3] + 1) - lambda_t*x[4]\n",
    "\n",
    "F = sp.Matrix([f1, f2, f3, f4])\n",
    "zeros = sp.Matrix([0,0,0,0])\n",
    "\n",
    "# F_2 = F.subs(x[2], 0)\n",
    "#sol2 = sp.solve( sp.Equality(F_2, zeros) )\n",
    "\n",
    "F_1 = F.subs(x[1], 0)\n",
    "print(F_1)\n",
    "sol1 = sp.solve( sp.Equality(F_1, zeros), [x[2], x[3], x[4]] )\n",
    "\n",
    "sol12 = sol1[1]\n",
    "sol11 = sol1[0]\n",
    "display(sp.Matrix(sol11))\n",
    "display( sp.Matrix(sol12))\n",
    "\n",
    "\n",
    "\n",
    "\n",
    "# F = sp.Matrix([\n",
    "#     (k_c + mu_c*x[2])*x[1]**(xpr(\"3/4\"))*(1 - (x[1]/C_0)**xpr(\"1/4\")) - \\\n",
    "#         (lambda_c*x[1]*x[4])/(K_c + (1 - x[3])),\n",
    "#     (k_p + (mu_p*x[1])/(K_p + x[1]))*x[2]*(1 - x[2]/P_0) - lambda_p*x[2],\n",
    "#     k_r - (lambda_r + gamma_p*x[2] + gamma_c*x[1])*x[3],\n",
    "#     (k_t*x[3])/(K_t + (1 - x[3])) - lambda_t*x[4]\n",
    "# ])"
   ]
  },
  {
   "cell_type": "code",
   "execution_count": null,
   "metadata": {},
   "outputs": [],
   "source": []
  }
 ],
 "metadata": {
  "file_extension": ".py",
  "kernelspec": {
   "display_name": "Python 3",
   "language": "python",
   "name": "python3"
  },
  "language_info": {
   "codemirror_mode": {
    "name": "ipython",
    "version": 3
   },
   "file_extension": ".py",
   "mimetype": "text/x-python",
   "name": "python",
   "nbconvert_exporter": "python",
   "pygments_lexer": "ipython3",
   "version": "3.7.4"
  },
  "mimetype": "text/x-python",
  "name": "python",
  "npconvert_exporter": "python",
  "pygments_lexer": "ipython3",
  "version": 3
 },
 "nbformat": 4,
 "nbformat_minor": 4
}
