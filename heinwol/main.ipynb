{
 "cells": [
  {
   "cell_type": "code",
   "execution_count": 3,
   "metadata": {},
   "outputs": [
    {
     "data": {
      "text/html": [
       "<style>\n",
       ".output {\n",
       "    font-size:15pt !important;\n",
       "}\n",
       ".prompt {\n",
       "    min-width:unset !important;\n",
       "}\n",
       ".output_subarea {\n",
       "    overflow-x:unset !important;\n",
       "}\n",
       ".MathJax {\n",
       "    font-size: 1em;\n",
       "# .td {\n",
       "#   font-size: 150px !important;\n",
       "# }\n",
       "}\n",
       "</style>\n"
      ],
      "text/plain": [
       "<IPython.core.display.HTML object>"
      ]
     },
     "metadata": {},
     "output_type": "display_data"
    }
   ],
   "source": [
    "%%html\n",
    "<style>\n",
    ".output {\n",
    "    font-size:15pt !important;\n",
    "}\n",
    ".prompt {\n",
    "    min-width:unset !important;\n",
    "}\n",
    ".output_subarea {\n",
    "    overflow-x:unset !important;\n",
    "}\n",
    ".MathJax {\n",
    "    font-size: 1em;\n",
    "# .td {\n",
    "#   font-size: 150px !important;\n",
    "# }\n",
    "}\n",
    "</style>"
   ]
  },
  {
   "cell_type": "code",
   "execution_count": 4,
   "metadata": {
    "slideshow": {
     "slide_type": "fragment"
    }
   },
   "outputs": [
    {
     "data": {
      "text/latex": [
       "$\\displaystyle \\left[\\begin{matrix}- \\frac{\\lambda_{c} x_{1} x_{4}}{K_{c} - x_{3} + 1} + x_{1}^{\\frac{3}{4}} \\left(1 - \\sqrt[4]{\\frac{x_{1}}{C_{0}}}\\right) \\left(k_{c} + \\mu_{c} x_{2}\\right)\\\\- \\lambda_{p} x_{2} + x_{2} \\left(1 - \\frac{x_{2}}{P_{0}}\\right) \\left(k_{p} + \\frac{\\mu_{p} x_{1}}{K_{p} + x_{1}}\\right)\\\\k_{r} - x_{3} \\left(\\gamma_{c} x_{1} + \\gamma_{p} x_{2} + \\lambda_{r}\\right)\\\\\\frac{k_{t} x_{3}}{K_{t} - x_{3} + 1} - \\lambda_{t} x_{4}\\end{matrix}\\right]$"
      ],
      "text/plain": [
       "Matrix([\n",
       "[-lambda_c*x_1*x_4/(K_c - x_3 + 1) + x_1**(3/4)*(1 - (x_1/C_0)**(1/4))*(k_c + mu_c*x_2)],\n",
       "[                        -lambda_p*x_2 + x_2*(1 - x_2/P_0)*(k_p + mu_p*x_1/(K_p + x_1))],\n",
       "[                                      k_r - x_3*(gamma_c*x_1 + gamma_p*x_2 + lambda_r)],\n",
       "[                                                k_t*x_3/(K_t - x_3 + 1) - lambda_t*x_4]])"
      ]
     },
     "metadata": {},
     "output_type": "display_data"
    }
   ],
   "source": [
    "from res import *\n",
    "#from sympy.interactive import printing\n",
    "#printing.init_printing(use_latex=True)\n",
    "\n",
    "# import sys\n",
    "# sys.path.append('../')\n",
    "\n",
    "## main ##\n",
    "\n",
    "x = sp.symarray('x', 5)\n",
    "\n",
    "#C, P, R, T == x[1], x[2], x[3], x[4] respectively\n",
    "\n",
    "#equation parameters\n",
    "k_c, mu_c,     C_0,     lambda_c, K_c      = sp.symbols(\"k_c, mu_c, C_0, lambda_c, K_c\")\n",
    "k_p, mu_p,     K_p,     P_0,      lambda_p = sp.symbols(\"k_p, mu_p, K_p, P_0, lambda_p\")\n",
    "k_r, lambda_r, gamma_p, gamma_c            = sp.symbols(\"k_r, lambda_r, gamma_p, gamma_c\")\n",
    "k_t, K_t,      lambda_t                    = sp.symbols(\"k_t, K_t, lambda_t\")\n",
    "\n",
    "F = sp.Matrix([\n",
    "    (k_c + mu_c*x[2])*x[1]**(xpr(\"3/4\"))*(1 - (x[1]/C_0)**xpr(\"1/4\")) - \\\n",
    "        (lambda_c*x[1]*x[4])/(K_c + (1 - x[3])),\n",
    "    (k_p + (mu_p*x[1])/(K_p + x[1]))*x[2]*(1 - x[2]/P_0) - lambda_p*x[2],\n",
    "    k_r - (lambda_r + gamma_p*x[2] + gamma_c*x[1])*x[3],\n",
    "    (k_t*x[3])/(K_t + (1 - x[3])) - lambda_t*x[4]\n",
    "])\n",
    "\n",
    "display(F)"
   ]
  },
  {
   "cell_type": "code",
   "execution_count": 5,
   "metadata": {},
   "outputs": [],
   "source": [
    "#display(Jacobi(F, (x[1], x[2], x[3], x[4])))"
   ]
  },
  {
   "cell_type": "markdown",
   "metadata": {},
   "source": [
    "%%markdown\n",
    "Докажем инвариантность первого октанта, для этого рассмотрим отдельно все координатные плоскости.\n",
    "\n",
    "Положим $x_1 = 0:$"
   ]
  },
  {
   "cell_type": "markdown",
   "metadata": {
    "scrolled": true
   },
   "source": [
    "F_new = F.subs(x[1], 0)\n",
    "display(F_new)"
   ]
  },
  {
   "cell_type": "markdown",
   "metadata": {},
   "source": [
    "%%markdown\n",
    "$x_2 = 0:$"
   ]
  },
  {
   "cell_type": "markdown",
   "metadata": {},
   "source": [
    "F_new = F.subs(x[2], 0)\n",
    "display(F_new)"
   ]
  },
  {
   "cell_type": "markdown",
   "metadata": {},
   "source": [
    "%%markdown\n",
    "$x_3 = 0:$"
   ]
  },
  {
   "cell_type": "markdown",
   "metadata": {},
   "source": [
    "F_new = F.subs(x[3], 0)\n",
    "display(F_new)"
   ]
  },
  {
   "cell_type": "markdown",
   "metadata": {},
   "source": [
    "%%markdown\n",
    "$x_4 = 0:$"
   ]
  },
  {
   "cell_type": "markdown",
   "metadata": {},
   "source": [
    "F_new = F.subs(x[4], 0)\n",
    "display(F_new)"
   ]
  },
  {
   "cell_type": "markdown",
   "metadata": {},
   "source": [
    "----------------------------------------------\n",
    "---------------------------------------------\n",
    "# Нахождение положений равновесия:"
   ]
  },
  {
   "cell_type": "code",
   "execution_count": 6,
   "metadata": {},
   "outputs": [
    {
     "data": {
      "text/latex": [
       "$\\displaystyle \\left[\\begin{matrix}- \\frac{\\lambda_{c} x_{1} x_{4}}{K_{c} - x_{3} + 1} + x_{1}^{\\frac{3}{4}} \\left(1 - \\sqrt[4]{\\frac{x_{1}}{C_{0}}}\\right) \\left(k_{c} + \\mu_{c} x_{2}\\right) = 0\\\\- \\lambda_{p} x_{2} + x_{2} \\left(1 - \\frac{x_{2}}{P_{0}}\\right) \\left(k_{p} + \\frac{\\mu_{p} x_{1}}{K_{p} + x_{1}}\\right) = 0\\\\k_{r} - x_{3} \\left(\\gamma_{c} x_{1} + \\gamma_{p} x_{2} + \\lambda_{r}\\right) = 0\\\\\\frac{k_{t} x_{3}}{K_{t} - x_{3} + 1} - \\lambda_{t} x_{4} = 0\\end{matrix}\\right]$"
      ],
      "text/plain": [
       "Matrix([\n",
       "[Eq(-lambda_c*x_1*x_4/(K_c - x_3 + 1) + x_1**(3/4)*(1 - (x_1/C_0)**(1/4))*(k_c + mu_c*x_2), 0)],\n",
       "[                        Eq(-lambda_p*x_2 + x_2*(1 - x_2/P_0)*(k_p + mu_p*x_1/(K_p + x_1)), 0)],\n",
       "[                                      Eq(k_r - x_3*(gamma_c*x_1 + gamma_p*x_2 + lambda_r), 0)],\n",
       "[                                                Eq(k_t*x_3/(K_t - x_3 + 1) - lambda_t*x_4, 0)]])"
      ]
     },
     "metadata": {},
     "output_type": "display_data"
    }
   ],
   "source": [
    "stat_eqn = sp.Matrix([Eqn(F[i],0) for i in range(0, 4)])\n",
    "display(stat_eqn)"
   ]
  },
  {
   "cell_type": "markdown",
   "metadata": {},
   "source": [
    "### Найдем положения равновесия в координатных плоскостях и $\\{x_3 = 1\\}$"
   ]
  },
  {
   "cell_type": "code",
   "execution_count": 7,
   "metadata": {},
   "outputs": [
    {
     "data": {
      "text/latex": [
       "$x_1 = 0:$"
      ],
      "text/plain": [
       "<IPython.core.display.Latex object>"
      ]
     },
     "metadata": {},
     "output_type": "display_data"
    },
    {
     "data": {
      "text/latex": [
       "$\\displaystyle \\left[\\begin{matrix}\\text{True}\\\\k_{p} x_{2} \\left(1 - \\frac{x_{2}}{P_{0}}\\right) - \\lambda_{p} x_{2} = 0\\\\k_{r} - x_{3} \\left(\\gamma_{p} x_{2} + \\lambda_{r}\\right) = 0\\\\\\frac{k_{t} x_{3}}{K_{t} - x_{3} + 1} - \\lambda_{t} x_{4} = 0\\end{matrix}\\right]$"
      ],
      "text/plain": [
       "Matrix([\n",
       "[                                         True],\n",
       "[  Eq(k_p*x_2*(1 - x_2/P_0) - lambda_p*x_2, 0)],\n",
       "[    Eq(k_r - x_3*(gamma_p*x_2 + lambda_r), 0)],\n",
       "[Eq(k_t*x_3/(K_t - x_3 + 1) - lambda_t*x_4, 0)]])"
      ]
     },
     "metadata": {},
     "output_type": "display_data"
    }
   ],
   "source": [
    "F_null = F.subs(x[1], 0)\n",
    "stat_eqn_coord = sp.Matrix([Eqn(F_null[i], 0) for i in range(0, 4)])\n",
    "display(Latex(\"$x_1 = 0:$\"))\n",
    "display(stat_eqn_coord)"
   ]
  },
  {
   "cell_type": "markdown",
   "metadata": {},
   "source": [
    "$\\phantom{tab}$ а) $x_2 = 0 \\Rightarrow (3) \\Rightarrow x_3 = \\dfrac{k_r}{\\lambda_r} < 1, \\;\n",
    "\\text{по крайней мере, если подставить значения из приложения.}$ <br>\n",
    "$ \\text{Тогда}\\; (4) \\Rightarrow x_4 = \\dfrac{k_t k_r}{\\lambda_t(\\lambda_r K_t + \\lambda_r - k_r)}. \\text{}$ <br>\n",
    "$\\phantom{tab}$ б) $x_2 \\neq 0 \\Rightarrow$"
   ]
  },
  {
   "cell_type": "code",
   "execution_count": 8,
   "metadata": {},
   "outputs": [
    {
     "data": {
      "text/latex": [
       "$(2) \\Rightarrow x_2 = \\frac{P_{0} \\left(k_{p} - \\lambda_{p}\\right)}{k_{p}} \\;\\; (*);$"
      ],
      "text/plain": [
       "<IPython.core.display.Latex object>"
      ]
     },
     "metadata": {},
     "output_type": "display_data"
    },
    {
     "data": {
      "text/latex": [
       "$(3),(*) \\Rightarrow x_3 = \\frac{k_{p} k_{r}}{P_{0} \\gamma_{p} \\left(k_{p} - \\lambda_{p}\\right) + k_{p} \\lambda_{r}} \\;\\; (**);$"
      ],
      "text/plain": [
       "<IPython.core.display.Latex object>"
      ]
     },
     "metadata": {},
     "output_type": "display_data"
    },
    {
     "data": {
      "text/latex": [
       "$(4),(**) \\Rightarrow x_3 = \\frac{k_{p} k_{r} k_{t}}{\\lambda_{t} \\left(- k_{p} k_{r} + \\left(K_{t} + 1\\right) \\left(P_{0} \\gamma_{p} \\left(k_{p} - \\lambda_{p}\\right) + k_{p} \\lambda_{r}\\right)\\right)}.$"
      ],
      "text/plain": [
       "<IPython.core.display.Latex object>"
      ]
     },
     "metadata": {},
     "output_type": "display_data"
    },
    {
     "name": "stdout",
     "output_type": "stream",
     "text": [
      "Мы нашли все 2 положения равновесия в первой координатной плоскости.\n"
     ]
    }
   ],
   "source": [
    "x_2 = sp.solve(F_null[1], x[2])[1]\n",
    "display(flatex(\"$(2) \\\\Rightarrow x_2 = {} \\;\\; (*);$\",x_2))\n",
    "x_3 = sp.simplify(sp.solve(F_null[2], x[3])[0].subs(x[2], x_2))\n",
    "display(flatex(\"$(3),(*) \\\\Rightarrow x_3 = {} \\;\\; (**);$\",x_3))\n",
    "x_3 = sp.simplify(sp.solve(F_null[3], x[4])[0].subs(x[3], x_3))\n",
    "display(flatex(\"$(4),(**) \\\\Rightarrow x_3 = {}.$\",x_3))\n",
    "print(\"Мы нашли все 2 положения равновесия в первой координатной плоскости.\")"
   ]
  },
  {
   "cell_type": "code",
   "execution_count": 9,
   "metadata": {},
   "outputs": [
    {
     "data": {
      "text/latex": [
       "$x_2 = 0:$"
      ],
      "text/plain": [
       "<IPython.core.display.Latex object>"
      ]
     },
     "metadata": {},
     "output_type": "display_data"
    },
    {
     "data": {
      "text/latex": [
       "$\\displaystyle \\left[\\begin{matrix}k_{c} x_{1}^{\\frac{3}{4}} \\left(1 - \\sqrt[4]{\\frac{x_{1}}{C_{0}}}\\right) - \\frac{\\lambda_{c} x_{1} x_{4}}{K_{c} - x_{3} + 1} = 0\\\\\\text{True}\\\\k_{r} - x_{3} \\left(\\gamma_{c} x_{1} + \\lambda_{r}\\right) = 0\\\\\\frac{k_{t} x_{3}}{K_{t} - x_{3} + 1} - \\lambda_{t} x_{4} = 0\\end{matrix}\\right]$"
      ],
      "text/plain": [
       "Matrix([\n",
       "[Eq(k_c*x_1**(3/4)*(1 - (x_1/C_0)**(1/4)) - lambda_c*x_1*x_4/(K_c - x_3 + 1), 0)],\n",
       "[                                                                           True],\n",
       "[                                      Eq(k_r - x_3*(gamma_c*x_1 + lambda_r), 0)],\n",
       "[                                  Eq(k_t*x_3/(K_t - x_3 + 1) - lambda_t*x_4, 0)]])"
      ]
     },
     "metadata": {},
     "output_type": "display_data"
    },
    {
     "data": {
      "text/latex": [
       "$(3) \\Rightarrow x_3 = \\frac{k_{r}}{\\gamma_{c} x_{1} + \\lambda_{r}} \\;\\; (*);$"
      ],
      "text/plain": [
       "<IPython.core.display.Latex object>"
      ]
     },
     "metadata": {},
     "output_type": "display_data"
    },
    {
     "data": {
      "text/latex": [
       "$(4),(*) \\Rightarrow x_4 = \\frac{k_{r} k_{t}}{\\lambda_{t} \\left(- k_{r} + \\left(K_{t} + 1\\right) \\left(\\gamma_{c} x_{1} + \\lambda_{r}\\right)\\right)};$"
      ],
      "text/plain": [
       "<IPython.core.display.Latex object>"
      ]
     },
     "metadata": {},
     "output_type": "display_data"
    },
    {
     "name": "stdout",
     "output_type": "stream",
     "text": [
      "Подставив в (1), получим:\n"
     ]
    },
    {
     "data": {
      "text/latex": [
       "$\\displaystyle k_{c} x_{1}^{\\frac{3}{4}} \\left(1 - \\sqrt[4]{\\frac{x_{1}}{C_{0}}}\\right) - \\frac{k_{r} k_{t} \\lambda_{c} x_{1}}{\\lambda_{t} \\left(- k_{r} + \\left(K_{t} + 1\\right) \\left(\\gamma_{c} x_{1} + \\lambda_{r}\\right)\\right) \\left(K_{c} - \\frac{k_{r}}{\\gamma_{c} x_{1} + \\lambda_{r}} + 1\\right)} = 0$"
      ],
      "text/plain": [
       "Eq(k_c*x_1**(3/4)*(1 - (x_1/C_0)**(1/4)) - k_r*k_t*lambda_c*x_1/(lambda_t*(-k_r + (K_t + 1)*(gamma_c*x_1 + lambda_r))*(K_c - k_r/(gamma_c*x_1 + lambda_r) + 1)), 0)"
      ]
     },
     "metadata": {},
     "output_type": "display_data"
    }
   ],
   "source": [
    "F_null = F.subs(x[2], 0)\n",
    "stat_eqn_coord = sp.Matrix([Eqn(F_null[i], 0) for i in range(0, 4)])\n",
    "display(Latex(\"$x_2 = 0:$\"))\n",
    "display(stat_eqn_coord)\n",
    "\n",
    "x_3 = sp.solve(F_null[2], x[3])[0]\n",
    "display(flatex(\"$(3) \\\\Rightarrow x_3 = {} \\;\\; (*);$\",x_3))\n",
    "x_4 = sp.simplify(sp.solve(F_null[3], x[4])[0].subs(x[3], x_3))\n",
    "display(flatex(\"$(4),(*) \\\\Rightarrow x_4 = {};$\",x_4))\n",
    "print(\"Подставив в (1), получим:\")\n",
    "x_1_eqn = Eqn(F_null[0].subs(x[3], x_3).subs(x[4], x_4), 0)\n",
    "display(x_1_eqn)"
   ]
  },
  {
   "cell_type": "markdown",
   "metadata": {},
   "source": [
    "Полагая $x_1 \\neq 0$ (данный случай уже рассмотрен) , разделим на $x_1^{\\frac{3}{4}}$ <br>\n",
    "Затем, осуществив замену $x_1 = y^4$, а также приведя все дроби к общему знаменателю, получим эквивалентное уравнение:"
   ]
  },
  {
   "cell_type": "code",
   "execution_count": 10,
   "metadata": {},
   "outputs": [
    {
     "data": {
      "text/latex": [
       "$- \\sqrt[4]{C_{0}} k_{r} k_{t} \\lambda_{c} y \\left(\\gamma_{c} y^{4} + \\lambda_{r}\\right) + k_{c} \\lambda_{t} \\left(\\sqrt[4]{C_{0}} - y\\right) \\left(- k_{r} + \\left(K_{c} + 1\\right) \\left(\\gamma_{c} y^{4} + \\lambda_{r}\\right)\\right) \\left(- k_{r} + \\left(K_{t} + 1\\right) \\left(\\gamma_{c} y^{4} + \\lambda_{r}\\right)\\right) = 0$"
      ],
      "text/plain": [
       "<IPython.core.display.Latex object>"
      ]
     },
     "metadata": {},
     "output_type": "display_data"
    }
   ],
   "source": [
    "y = sp.symbols(\"y\")\n",
    "x_1_poly = k_c*(C_0**xpr('1/4') - y)*lambda_t*((K_t + 1)*(gamma_c*y**4 + lambda_r) - k_r)*\\\n",
    "           ((K_c + 1)*(gamma_c*y**4 + lambda_r) - k_r) - C_0**xpr('1/4')*k_r*k_t*lambda_c*y*(gamma_c*y**4 + lambda_r)\n",
    "display(flatex(\"${} = 0$\", x_1_poly))"
   ]
  },
  {
   "cell_type": "code",
   "execution_count": 11,
   "metadata": {},
   "outputs": [
    {
     "data": {
      "text/latex": [
       "$x_3 = 0:$"
      ],
      "text/plain": [
       "<IPython.core.display.Latex object>"
      ]
     },
     "metadata": {},
     "output_type": "display_data"
    },
    {
     "data": {
      "text/latex": [
       "$\\displaystyle \\left[\\begin{matrix}- \\frac{\\lambda_{c} x_{1} x_{4}}{K_{c} + 1} + x_{1}^{\\frac{3}{4}} \\left(1 - \\sqrt[4]{\\frac{x_{1}}{C_{0}}}\\right) \\left(k_{c} + \\mu_{c} x_{2}\\right) = 0\\\\- \\lambda_{p} x_{2} + x_{2} \\left(1 - \\frac{x_{2}}{P_{0}}\\right) \\left(k_{p} + \\frac{\\mu_{p} x_{1}}{K_{p} + x_{1}}\\right) = 0\\\\k_{r} = 0\\\\- \\lambda_{t} x_{4} = 0\\end{matrix}\\right]$"
      ],
      "text/plain": [
       "Matrix([\n",
       "[Eq(-lambda_c*x_1*x_4/(K_c + 1) + x_1**(3/4)*(1 - (x_1/C_0)**(1/4))*(k_c + mu_c*x_2), 0)],\n",
       "[                  Eq(-lambda_p*x_2 + x_2*(1 - x_2/P_0)*(k_p + mu_p*x_1/(K_p + x_1)), 0)],\n",
       "[                                                                             Eq(k_r, 0)],\n",
       "[                                                                   Eq(-lambda_t*x_4, 0)]])"
      ]
     },
     "metadata": {},
     "output_type": "display_data"
    },
    {
     "name": "stdout",
     "output_type": "stream",
     "text": [
      "То есть нет решений в 3-ей координатной плоскости\n"
     ]
    }
   ],
   "source": [
    "F_null = F.subs(x[3], 0)\n",
    "stat_eqn_coord = sp.Matrix([Eqn(F_null[i], 0) for i in range(0, 4)])\n",
    "display(Latex(\"$x_3 = 0:$\"))\n",
    "display(stat_eqn_coord)\n",
    "print(\"То есть нет решений в 3-ей координатной плоскости\")"
   ]
  },
  {
   "cell_type": "code",
   "execution_count": 12,
   "metadata": {},
   "outputs": [
    {
     "data": {
      "text/latex": [
       "$x_4 = 0:$"
      ],
      "text/plain": [
       "<IPython.core.display.Latex object>"
      ]
     },
     "metadata": {},
     "output_type": "display_data"
    },
    {
     "data": {
      "text/latex": [
       "$\\displaystyle \\left[\\begin{matrix}x_{1}^{\\frac{3}{4}} \\left(1 - \\sqrt[4]{\\frac{x_{1}}{C_{0}}}\\right) \\left(k_{c} + \\mu_{c} x_{2}\\right) = 0\\\\- \\lambda_{p} x_{2} + x_{2} \\left(1 - \\frac{x_{2}}{P_{0}}\\right) \\left(k_{p} + \\frac{\\mu_{p} x_{1}}{K_{p} + x_{1}}\\right) = 0\\\\k_{r} - x_{3} \\left(\\gamma_{c} x_{1} + \\gamma_{p} x_{2} + \\lambda_{r}\\right) = 0\\\\\\frac{k_{t} x_{3}}{K_{t} - x_{3} + 1} = 0\\end{matrix}\\right]$"
      ],
      "text/plain": [
       "Matrix([\n",
       "[            Eq(x_1**(3/4)*(1 - (x_1/C_0)**(1/4))*(k_c + mu_c*x_2), 0)],\n",
       "[Eq(-lambda_p*x_2 + x_2*(1 - x_2/P_0)*(k_p + mu_p*x_1/(K_p + x_1)), 0)],\n",
       "[              Eq(k_r - x_3*(gamma_c*x_1 + gamma_p*x_2 + lambda_r), 0)],\n",
       "[                                       Eq(k_t*x_3/(K_t - x_3 + 1), 0)]])"
      ]
     },
     "metadata": {},
     "output_type": "display_data"
    },
    {
     "name": "stdout",
     "output_type": "stream",
     "text": [
      "Аналогично, нет решений в 4-ой координатной плоскости\n"
     ]
    }
   ],
   "source": [
    "F_null = F.subs(x[4], 0)\n",
    "stat_eqn_coord = sp.Matrix([Eqn(F_null[i], 0) for i in range(0, 4)])\n",
    "display(Latex(\"$x_4 = 0:$\"))\n",
    "display(stat_eqn_coord)\n",
    "print(\"Аналогично, нет решений в 4-ой координатной плоскости\")"
   ]
  },
  {
   "cell_type": "code",
   "execution_count": 13,
   "metadata": {},
   "outputs": [
    {
     "data": {
      "text/latex": [
       "$x_3 = 1:$"
      ],
      "text/plain": [
       "<IPython.core.display.Latex object>"
      ]
     },
     "metadata": {},
     "output_type": "display_data"
    },
    {
     "data": {
      "text/latex": [
       "$\\displaystyle \\left[\\begin{matrix}x_{1}^{\\frac{3}{4}} \\left(1 - \\sqrt[4]{\\frac{x_{1}}{C_{0}}}\\right) \\left(k_{c} + \\mu_{c} x_{2}\\right) - \\frac{\\lambda_{c} x_{1} x_{4}}{K_{c}} = 0\\\\- \\lambda_{p} x_{2} + x_{2} \\left(1 - \\frac{x_{2}}{P_{0}}\\right) \\left(k_{p} + \\frac{\\mu_{p} x_{1}}{K_{p} + x_{1}}\\right) = 0\\\\- \\gamma_{c} x_{1} - \\gamma_{p} x_{2} + k_{r} - \\lambda_{r} = 0\\\\- \\lambda_{t} x_{4} + \\frac{k_{t}}{K_{t}} = 0\\end{matrix}\\right]$"
      ],
      "text/plain": [
       "Matrix([\n",
       "[Eq(x_1**(3/4)*(1 - (x_1/C_0)**(1/4))*(k_c + mu_c*x_2) - lambda_c*x_1*x_4/K_c, 0)],\n",
       "[           Eq(-lambda_p*x_2 + x_2*(1 - x_2/P_0)*(k_p + mu_p*x_1/(K_p + x_1)), 0)],\n",
       "[                              Eq(-gamma_c*x_1 - gamma_p*x_2 + k_r - lambda_r, 0)],\n",
       "[                                                  Eq(-lambda_t*x_4 + k_t/K_t, 0)]])"
      ]
     },
     "metadata": {},
     "output_type": "display_data"
    },
    {
     "data": {
      "text/latex": [
       "Второе уравнение:"
      ],
      "text/plain": [
       "<IPython.core.display.Latex object>"
      ]
     },
     "metadata": {},
     "output_type": "display_data"
    },
    {
     "data": {
      "text/latex": [
       "$\\displaystyle - \\lambda_{p} x_{2} + x_{2} \\left(1 - \\frac{x_{2}}{P_{0}}\\right) \\left(k_{p} + \\frac{\\mu_{p} x_{1}}{K_{p} + x_{1}}\\right) = 0$"
      ],
      "text/plain": [
       "Eq(-lambda_p*x_2 + x_2*(1 - x_2/P_0)*(k_p + mu_p*x_1/(K_p + x_1)), 0)"
      ]
     },
     "metadata": {},
     "output_type": "display_data"
    },
    {
     "data": {
      "text/latex": [
       "$\\displaystyle \\frac{x_{2} \\left(- P_{0} \\lambda_{p} \\left(K_{p} + x_{1}\\right) + \\left(P_{0} - x_{2}\\right) \\left(k_{p} \\left(K_{p} + x_{1}\\right) + \\mu_{p} x_{1}\\right)\\right)}{P_{0} \\left(K_{p} + x_{1}\\right)} = 0$"
      ],
      "text/plain": [
       "Eq(x_2*(-P_0*lambda_p*(K_p + x_1) + (P_0 - x_2)*(k_p*(K_p + x_1) + mu_p*x_1))/(P_0*(K_p + x_1)), 0)"
      ]
     },
     "metadata": {},
     "output_type": "display_data"
    },
    {
     "data": {
      "text/latex": [
       "а) Положим $x_2 = 0$, поскольку решение аналогичной задачи поиска ПР в плоскости $x_2=0$         привела к многочлену 9-й степени и пока не была решена"
      ],
      "text/plain": [
       "<IPython.core.display.Latex object>"
      ]
     },
     "metadata": {},
     "output_type": "display_data"
    },
    {
     "data": {
      "text/latex": [
       "$\\displaystyle \\left[\\begin{matrix}k_{c} x_{1}^{\\frac{3}{4}} \\left(1 - \\sqrt[4]{\\frac{x_{1}}{C_{0}}}\\right) - \\frac{\\lambda_{c} x_{1} x_{4}}{K_{c}} = 0\\\\\\text{True}\\\\- \\gamma_{c} x_{1} + k_{r} - \\lambda_{r} = 0\\\\- \\lambda_{t} x_{4} + \\frac{k_{t}}{K_{t}} = 0\\end{matrix}\\right]$"
      ],
      "text/plain": [
       "Matrix([\n",
       "[Eq(k_c*x_1**(3/4)*(1 - (x_1/C_0)**(1/4)) - lambda_c*x_1*x_4/K_c, 0)],\n",
       "[                                                               True],\n",
       "[                               Eq(-gamma_c*x_1 + k_r - lambda_r, 0)],\n",
       "[                                     Eq(-lambda_t*x_4 + k_t/K_t, 0)]])"
      ]
     },
     "metadata": {},
     "output_type": "display_data"
    },
    {
     "data": {
      "text/latex": [
       "Выразим $x_1$ и $x_4$ из третьего и четвертого уравнений:"
      ],
      "text/plain": [
       "<IPython.core.display.Latex object>"
      ]
     },
     "metadata": {},
     "output_type": "display_data"
    },
    {
     "data": {
      "text/latex": [
       "$\\displaystyle x_{1} = \\frac{k_{r} - \\lambda_{r}}{\\gamma_{c}}$"
      ],
      "text/plain": [
       "Eq(x_1, (k_r - lambda_r)/gamma_c)"
      ]
     },
     "metadata": {},
     "output_type": "display_data"
    },
    {
     "data": {
      "text/latex": [
       "$\\displaystyle x_{4} = \\frac{k_{t}}{K_{t} \\lambda_{t}}$"
      ],
      "text/plain": [
       "Eq(x_4, k_t/(K_t*lambda_t))"
      ]
     },
     "metadata": {},
     "output_type": "display_data"
    },
    {
     "data": {
      "text/latex": [
       "Проверим, выполняется ли при этом первое уравнение"
      ],
      "text/plain": [
       "<IPython.core.display.Latex object>"
      ]
     },
     "metadata": {},
     "output_type": "display_data"
    },
    {
     "data": {
      "text/latex": [
       "$\\displaystyle - \\frac{K_{c} K_{t} \\gamma_{c} k_{c} \\lambda_{t} \\left(\\frac{k_{r} - \\lambda_{r}}{\\gamma_{c}}\\right)^{\\frac{3}{4}} \\left(\\sqrt[4]{\\frac{k_{r} - \\lambda_{r}}{C_{0} \\gamma_{c}}} - 1\\right) + k_{t} \\lambda_{c} \\left(k_{r} - \\lambda_{r}\\right)}{K_{c} K_{t} \\gamma_{c} \\lambda_{t}}$"
      ],
      "text/plain": [
       "-(K_c*K_t*gamma_c*k_c*lambda_t*((k_r - lambda_r)/gamma_c)**(3/4)*(((k_r - lambda_r)/(C_0*gamma_c))**(1/4) - 1) + k_t*lambda_c*(k_r - lambda_r))/(K_c*K_t*gamma_c*lambda_t)"
      ]
     },
     "metadata": {},
     "output_type": "display_data"
    },
    {
     "data": {
      "text/latex": [
       "б) Пусть $x_2 \\neq 0$. Тогда разделим на $x_2$ второе уравнение системы $F_{\\big|x_3 = 1}$"
      ],
      "text/plain": [
       "<IPython.core.display.Latex object>"
      ]
     },
     "metadata": {},
     "output_type": "display_data"
    },
    {
     "data": {
      "text/latex": [
       "$\\displaystyle \\left[\\begin{matrix}x_{1}^{\\frac{3}{4}} \\left(1 - \\sqrt[4]{\\frac{x_{1}}{C_{0}}}\\right) \\left(k_{c} + \\mu_{c} x_{2}\\right) - \\frac{\\lambda_{c} x_{1} x_{4}}{K_{c}} = 0\\\\\\frac{- P_{0} \\lambda_{p} \\left(K_{p} + x_{1}\\right) + \\left(P_{0} - x_{2}\\right) \\left(k_{p} \\left(K_{p} + x_{1}\\right) + \\mu_{p} x_{1}\\right)}{P_{0} \\left(K_{p} + x_{1}\\right)} = 0\\\\- \\gamma_{c} x_{1} - \\gamma_{p} x_{2} + k_{r} - \\lambda_{r} = 0\\\\- \\lambda_{t} x_{4} + \\frac{k_{t}}{K_{t}} = 0\\end{matrix}\\right]$"
      ],
      "text/plain": [
       "Matrix([\n",
       "[               Eq(x_1**(3/4)*(1 - (x_1/C_0)**(1/4))*(k_c + mu_c*x_2) - lambda_c*x_1*x_4/K_c, 0)],\n",
       "[Eq((-P_0*lambda_p*(K_p + x_1) + (P_0 - x_2)*(k_p*(K_p + x_1) + mu_p*x_1))/(P_0*(K_p + x_1)), 0)],\n",
       "[                                             Eq(-gamma_c*x_1 - gamma_p*x_2 + k_r - lambda_r, 0)],\n",
       "[                                                                 Eq(-lambda_t*x_4 + k_t/K_t, 0)]])"
      ]
     },
     "metadata": {},
     "output_type": "display_data"
    },
    {
     "data": {
      "text/latex": [
       "$\\displaystyle \\left[\\begin{matrix}x_{1}^{\\frac{3}{4}} \\left(1 - \\sqrt[4]{\\frac{x_{1}}{C_{0}}}\\right) \\left(k_{c} + \\mu_{c} x_{2}\\right) - \\frac{k_{t} \\lambda_{c} x_{1}}{K_{c} K_{t} \\lambda_{t}} = 0\\\\- P_{0} \\lambda_{p} \\left(K_{p} + x_{1}\\right) + \\left(P_{0} - x_{2}\\right) \\left(k_{p} \\left(K_{p} + x_{1}\\right) + \\mu_{p} x_{1}\\right) = 0\\\\- \\gamma_{c} x_{1} - \\gamma_{p} x_{2} + k_{r} - \\lambda_{r} = 0\\end{matrix}\\right]$"
      ],
      "text/plain": [
       "Matrix([\n",
       "[Eq(x_1**(3/4)*(1 - (x_1/C_0)**(1/4))*(k_c + mu_c*x_2) - k_t*lambda_c*x_1/(K_c*K_t*lambda_t), 0)],\n",
       "[                    Eq(-P_0*lambda_p*(K_p + x_1) + (P_0 - x_2)*(k_p*(K_p + x_1) + mu_p*x_1), 0)],\n",
       "[                                             Eq(-gamma_c*x_1 - gamma_p*x_2 + k_r - lambda_r, 0)]])"
      ]
     },
     "metadata": {},
     "output_type": "display_data"
    },
    {
     "data": {
      "text/latex": [
       "Система не имеет решений. Из первого уравнения $x_2$ выражается как:  $x_2 = \\phi(x_1^{\\frac{3}{4}})$"
      ],
      "text/plain": [
       "<IPython.core.display.Latex object>"
      ]
     },
     "metadata": {},
     "output_type": "display_data"
    },
    {
     "data": {
      "text/latex": [
       "Видно, что это не удовлетворяет последнему уравнению системы. Таким образом, нет ПР в плоскости $x_3 = 1$"
      ],
      "text/plain": [
       "<IPython.core.display.Latex object>"
      ]
     },
     "metadata": {},
     "output_type": "display_data"
    }
   ],
   "source": [
    "F_null = F.subs(x[3], 1)\n",
    "stat_eqn_coord = sp.Matrix([Eqn(F_null[i], 0) for i in range(0, 4)])\n",
    "display(Latex(\"$x_3 = 1:$\"))\n",
    "display(stat_eqn_coord)\n",
    "#sol_x_3_1 = sp.solve(stat_eqn_coord, (x[1],x[2],x[4]))\n",
    "#for solution in sol_x_3_1: \n",
    "    #display(sp.simplify(sp.Matrix(solution)))\n",
    "\n",
    "## OSIP BEGINS HERE ##\n",
    "\n",
    "F3 = F.subs(x[3], 1)\n",
    "\n",
    "display(Latex('Второе уравнение:'))\n",
    "F32 = F3[1]\n",
    "display(sp.Equality(F32, 0))\n",
    "F32 = sp.simplify(F32)\n",
    "display(sp.Equality(F32, 0))\n",
    "\n",
    "display(Latex('а) Положим $x_2 = 0$, поскольку решение аналогичной задачи поиска ПР в плоскости $x_2=0$ \\\n",
    "        привела к многочлену 9-й степени и пока не была решена'))\n",
    "G = F.subs( {x[3] : 1, x[2] : 0})\n",
    "display(sp.Matrix( [sp.Equality(G[i], 0) for i in range(0, 4)] ))\n",
    "\n",
    "display(Latex('Выразим $x_1$ и $x_4$ из третьего и четвертого уравнений:'))\n",
    "x1 = sp.solve(G[2], x[1])\n",
    "x1 = x1[0] # x1 нулевое потому, что сам x1 - список,а  элементы - сим. выраж.\n",
    "display(sp.Equality(x[1], x1)) \n",
    "x4 = sp.solve(G[3], x[4])\n",
    "x4 = x4[0]\n",
    "display(sp.Equality(x[4], x4)) \n",
    "display(Latex('Проверим, выполняется ли при этом первое уравнение'))\n",
    "display(sp.simplify(G[0].subs({x[1] : x1, x[4] : x4}))) # не выполняется\n",
    "\n",
    "display(Latex('б) Пусть $x_2 \\\\neq 0$. Тогда разделим на $x_2$ второе уравнение системы $F_{\\\\big|x_3 = 1}$'))\n",
    "F32 /= x[2]\n",
    "F3[1] = F32\n",
    "display(sp.Matrix( [sp.Equality(F3[i], 0) for i in range(0, 4)] ))\n",
    "\n",
    "x4 = sp.solve(G[3], x[4])\n",
    "x4 = x4[0]\n",
    "F3[1] = F32\n",
    "e, d = sp.fraction(F3[1])\n",
    "sys = sp.Matrix( [sp.Equality(F3[i], 0) for i in range(4)] )\n",
    "sys[3] = sp.Equality(x[4], x4)\n",
    "sys[0] = sys[0].subs(x[4], x4)\n",
    "sys[1] = sp.Equality(e, 0)\n",
    "sys[0] = sys[0].subs({x[4] : x4})\n",
    "sys = sp.Matrix( [sys[0], sys[1], sys[2]])\n",
    "display(sys)\n",
    "display(Latex('Система не имеет решений. Из первого уравнения $x_2$ выражается как:  $x_2 = \\\\phi(x_1^{\\\\frac{3}{4}})$'))\n",
    "display(Latex('Видно, что это не удовлетворяет последнему уравнению системы. Таким образом, нет ПР в плоскости $x_3 = 1$'))\n",
    "\n",
    "## HERE'S WHERE OSIP IS TO FIND HIS END ##"
   ]
  },
  {
   "cell_type": "markdown",
   "metadata": {},
   "source": [
    "## Координатные функции"
   ]
  },
  {
   "cell_type": "markdown",
   "metadata": {},
   "source": [
    "Рассмотрим координатные функции вида $\\varphi_i = x_i\\,,\\; i = \\overline{1,4}$ <br>\n",
    "Вернемся для этого к уравнению $F(x_1,x_2,x_3,x_4) = 0:$"
   ]
  },
  {
   "cell_type": "code",
   "execution_count": 14,
   "metadata": {},
   "outputs": [
    {
     "data": {
      "text/latex": [
       "$\\displaystyle \\left[\\begin{matrix}- \\frac{\\lambda_{c} x_{1} x_{4}}{K_{c} - x_{3} + 1} + x_{1}^{\\frac{3}{4}} \\left(1 - \\sqrt[4]{\\frac{x_{1}}{C_{0}}}\\right) \\left(k_{c} + \\mu_{c} x_{2}\\right) = 0\\\\- \\lambda_{p} x_{2} + x_{2} \\left(1 - \\frac{x_{2}}{P_{0}}\\right) \\left(k_{p} + \\frac{\\mu_{p} x_{1}}{K_{p} + x_{1}}\\right) = 0\\\\k_{r} - x_{3} \\left(\\gamma_{c} x_{1} + \\gamma_{p} x_{2} + \\lambda_{r}\\right) = 0\\\\\\frac{k_{t} x_{3}}{K_{t} - x_{3} + 1} - \\lambda_{t} x_{4} = 0\\end{matrix}\\right]$"
      ],
      "text/plain": [
       "Matrix([\n",
       "[Eq(-lambda_c*x_1*x_4/(K_c - x_3 + 1) + x_1**(3/4)*(1 - (x_1/C_0)**(1/4))*(k_c + mu_c*x_2), 0)],\n",
       "[                        Eq(-lambda_p*x_2 + x_2*(1 - x_2/P_0)*(k_p + mu_p*x_1/(K_p + x_1)), 0)],\n",
       "[                                      Eq(k_r - x_3*(gamma_c*x_1 + gamma_p*x_2 + lambda_r), 0)],\n",
       "[                                                Eq(k_t*x_3/(K_t - x_3 + 1) - lambda_t*x_4, 0)]])"
      ]
     },
     "metadata": {},
     "output_type": "display_data"
    }
   ],
   "source": [
    "display(stat_eqn)"
   ]
  },
  {
   "cell_type": "markdown",
   "metadata": {},
   "source": [
    "Для первой координатной функции имеем: <br>\n",
    "$$ S_{\\varphi_1} = \\{ x_1 = 0\\}\\, \\cup \\, \n",
    "\\left\\{ x_1 = \n",
    "\\frac{C_{0} \\alpha^{4}{\\left(x_{2},x_{3} \\right)}}{\\left(\\sqrt[4]{C_{0}} \\lambda_{c} x_{4} + \\alpha{\\left(x_{2},x_{3} \\right)}\\right)^{4}}\n",
    "\\right\\} $$"
   ]
  },
  {
   "cell_type": "code",
   "execution_count": 15,
   "metadata": {},
   "outputs": [
    {
     "data": {
      "text/latex": [
       "$$ \\text{Явное выражение для } x_1: $$"
      ],
      "text/plain": [
       "<IPython.core.display.Latex object>"
      ]
     },
     "metadata": {},
     "output_type": "display_data"
    },
    {
     "data": {
      "text/latex": [
       "$ x_1 = \\frac{C_{0} \\alpha^{4}{\\left(x_{2},x_{3} \\right)}}{\\left(\\sqrt[4]{C_{0}} \\lambda_{c} x_{4} + \\alpha{\\left(x_{2},x_{3} \\right)}\\right)^{4}}$, где $\\alpha = \\left(k_{c} + \\mu_{c} x_{2}\\right) \\left(K_{c} - x_{3} + 1\\right) > 0$"
      ],
      "text/plain": [
       "<IPython.core.display.Latex object>"
      ]
     },
     "metadata": {},
     "output_type": "display_data"
    },
    {
     "data": {
      "text/latex": [
       "$\\nabla \\varphi_1 = \\left[\\begin{matrix}\\frac{4 C_{0}^{\\frac{5}{4}} \\lambda_{c} \\mu_{c} x_{4} \\left(k_{c} + \\mu_{c} x_{2}\\right)^{3} \\left(K_{c} - x_{3} + 1\\right)^{4}}{\\left(\\sqrt[4]{C_{0}} \\lambda_{c} x_{4} + \\left(k_{c} + \\mu_{c} x_{2}\\right) \\left(K_{c} - x_{3} + 1\\right)\\right)^{5}} & - \\frac{4 C_{0}^{\\frac{5}{4}} \\lambda_{c} x_{4} \\left(k_{c} + \\mu_{c} x_{2}\\right)^{4} \\left(K_{c} - x_{3} + 1\\right)^{3}}{\\left(\\sqrt[4]{C_{0}} \\lambda_{c} x_{4} + \\left(k_{c} + \\mu_{c} x_{2}\\right) \\left(K_{c} - x_{3} + 1\\right)\\right)^{5}} & - \\frac{4 C_{0}^{\\frac{5}{4}} \\lambda_{c} \\left(k_{c} + \\mu_{c} x_{2}\\right)^{4} \\left(K_{c} - x_{3} + 1\\right)^{4}}{\\left(\\sqrt[4]{C_{0}} \\lambda_{c} x_{4} + \\left(k_{c} + \\mu_{c} x_{2}\\right) \\left(K_{c} - x_{3} + 1\\right)\\right)^{5}}\\end{matrix}\\right] $"
      ],
      "text/plain": [
       "<IPython.core.display.Latex object>"
      ]
     },
     "metadata": {},
     "output_type": "display_data"
    }
   ],
   "source": [
    "#! N\n",
    "# solx_1 = sp.solve(stat_eqn[0], x[1])[0]\n",
    "\n",
    "alpha = sp.Function('alpha')(x[2],x[3])\n",
    "#alpha_val = -mu_c*x[2]*x[3] + mu_c*(K_c + 1)*x[2] - k_c*x[3] + k_c*(K_c + 1)\n",
    "alpha_val = (k_c + mu_c*x[2])*(K_c + 1 - x[3])\n",
    "\n",
    "phi_1 = C_0*(alpha/(C_0**xpr('1/4')*lambda_c*x[4] + alpha))**4\n",
    "\n",
    "display(Latex(\"$$ \\\\text{Явное выражение для } x_1: $$\"))\n",
    "display(flatex(\"$ x_1 = {}$, где $\\\\alpha = {} > 0$\", phi_1, alpha_val))\n",
    "\n",
    "# dphi_1 = grad(phi_1, x[2], x[3], x[4])\n",
    "# display(flatex(\"$\\\\nabla \\\\varphi_1 = {} $\", dphi_1))\n",
    "\n",
    "phi_1_detail = phi_1.subs(alpha, alpha_val)\n",
    "dphi_1_detail = sp.simplify(grad(phi_1_detail, x[2], x[3], x[4]))\n",
    "display(flatex(\"$\\\\nabla \\\\varphi_1 = {} $\", dphi_1_detail))"
   ]
  },
  {
   "cell_type": "markdown",
   "metadata": {},
   "source": [
    "Отсюда видно, что градиент ни в какой точке не обращается в нуль, потому что любая компонента нигде не ноль, поскольку \n",
    "$\\alpha > 0.$ <br>\n",
    "Конкретнее, $\\dfrac{\\partial \\varphi_1}{\\partial x_2} > 0,\\,\n",
    "             \\dfrac{\\partial \\varphi_1}{\\partial x_3} < 0,\\,\n",
    "             \\dfrac{\\partial \\varphi_1}{\\partial x_4} < 0.$\n",
    "<br>\n",
    "Очевидно, $\\varphi_{3 \\min} = 0$ (при $x_1 = 0$). Для установления супремума воспользуемся знаниями частных производных: значение будет тем больше, чем меньше $x_3$ и $x_4$ и чем больше $x_2$. Положив $x_3 = x_4 = 0$, получим $x_1 = C_0 \\Rightarrow \\varphi_{1 \\max} = C_0$"
   ]
  },
  {
   "cell_type": "markdown",
   "metadata": {},
   "source": [
    "Для второй координатной функции: <br>\n",
    "$$ S_{\\varphi_2} = \\{ x_2 = 0\\}\\, \\cup \\, \n",
    "\\left\\{ x_2 = \n",
    "\\dfrac{P_{0} \\left(K_{p} k_{p} - K_{p} \\lambda_{p} + x_{1} \\left(k_{p} - \\lambda_{p} + \\mu_{p}\\right)\\right)}{- K_{p} k_{p} + x_{1} \\left(k_{p} + \\mu_{p}\\right)}\n",
    "\\right\\} $$"
   ]
  },
  {
   "cell_type": "code",
   "execution_count": 54,
   "metadata": {},
   "outputs": [
    {
     "data": {
      "text/latex": [
       "$ \\text{Явное выражение для } x_2: $"
      ],
      "text/plain": [
       "<IPython.core.display.Latex object>"
      ]
     },
     "metadata": {},
     "output_type": "display_data"
    },
    {
     "data": {
      "text/latex": [
       "$$ x_2 = \\frac{P_{0} \\left(K_{p} k_{p} - K_{p} \\lambda_{p} + x_{1} \\left(k_{p} - \\lambda_{p} + \\mu_{p}\\right)\\right)}{- K_{p} k_{p} + x_{1} \\left(k_{p} + \\mu_{p}\\right)}$$"
      ],
      "text/plain": [
       "<IPython.core.display.Latex object>"
      ]
     },
     "metadata": {},
     "output_type": "display_data"
    },
    {
     "data": {
      "text/latex": [
       "$ x_2' = - \\frac{P_{0} \\left(\\left(k_{p} + \\mu_{p}\\right) \\left(K_{p} k_{p} - K_{p} \\lambda_{p} + x_{1} \\left(k_{p} - \\lambda_{p} + \\mu_{p}\\right)\\right) + \\left(K_{p} k_{p} - x_{1} \\left(k_{p} + \\mu_{p}\\right)\\right) \\left(k_{p} - \\lambda_{p} + \\mu_{p}\\right)\\right)}{\\left(K_{p} k_{p} - x_{1} \\left(k_{p} + \\mu_{p}\\right)\\right)^{2}} $"
      ],
      "text/plain": [
       "<IPython.core.display.Latex object>"
      ]
     },
     "metadata": {},
     "output_type": "display_data"
    }
   ],
   "source": [
    "phi_2 = P_0*(((k_p + mu_p - lambda_p)*x[1] + k_p*K_p - lambda_p*K_p)/((k_p + mu_p)*x[1] - k_p*K_p))\n",
    "display(Latex(\"$ \\\\text{Явное выражение для } x_2: $\"))\n",
    "display(flatex(\"$$ x_2 = {}$$\", phi_2))\n",
    "dphi_2 = sp.simplify(sp.diff(phi_2, x[1]))\n",
    "display(flatex(\"$ x_2' = {} $\",dphi_2))\n",
    "\n",
    "nom = sp.expand(sp.fraction(dphi_2)[0])\n",
    "# x_1_coeff = sp.simplify(sp.collect(nom, x[1], evaluate=False)[1])\n",
    "# display(x_1_coeff)\n",
    "# display(sp.expand(sp.simplify(nom - x_1_coeff*x[1])))\n",
    "#display(nom)"
   ]
  },
  {
   "cell_type": "markdown",
   "metadata": {},
   "source": [
    "А точнее, $ x_2' = K_p P_0 \\dfrac{k_p\\lambda_p + (k_p + \\mu_p)(\\lambda_p - 2k_p)}\n",
    "{\\left(K_{p} k_{p} - x_{1} \\left(k_{p} + \\mu_{p}\\right)\\right)^{2}} $"
   ]
  },
  {
   "cell_type": "code",
   "execution_count": 15,
   "metadata": {},
   "outputs": [
    {
     "data": {
      "text/latex": [
       "$ \\text{Явное выражение для } x_3: $"
      ],
      "text/plain": [
       "<IPython.core.display.Latex object>"
      ]
     },
     "metadata": {},
     "output_type": "display_data"
    },
    {
     "data": {
      "text/latex": [
       "$$ x_3 = \\frac{k_{r}}{\\gamma_{c} x_{1} + \\gamma_{p} x_{2} + \\lambda_{r}}$$"
      ],
      "text/plain": [
       "<IPython.core.display.Latex object>"
      ]
     },
     "metadata": {},
     "output_type": "display_data"
    },
    {
     "data": {
      "text/latex": [
       "$\\nabla x_3 = \\left[\\begin{matrix}- \\frac{\\gamma_{c} k_{r}}{\\left(\\gamma_{c} x_{1} + \\gamma_{p} x_{2} + \\lambda_{r}\\right)^{2}} & - \\frac{\\gamma_{p} k_{r}}{\\left(\\gamma_{c} x_{1} + \\gamma_{p} x_{2} + \\lambda_{r}\\right)^{2}}\\end{matrix}\\right] $"
      ],
      "text/plain": [
       "<IPython.core.display.Latex object>"
      ]
     },
     "metadata": {},
     "output_type": "display_data"
    }
   ],
   "source": [
    "solx_3 = sp.solve(stat_eqn[2], x[3])[0]\n",
    "display(Latex(\"$ \\\\text{Явное выражение для } x_3: $\"))\n",
    "display(flatex(\"$$ x_3 = {}$$\", solx_3))\n",
    "dphi_3 = grad(solx_3, x[1], x[2])\n",
    "display(flatex(\"$\\\\nabla x_3 = {} $\",dphi_3))"
   ]
  },
  {
   "cell_type": "markdown",
   "metadata": {},
   "source": [
    "Очевидно, что никогда не выполняется $\\nabla x_3 = 0\\,$ (раз все $x$ неотрицательны), так что функция $\\varphi_3(\\vec{x}) = x_3$ достигает своих экстремальных значений (на универсальном сечении) лишь на границе, либо не достигает их вовсе. <br>\n",
    "Действительно, видно, что достигается максимум при $x_1 = x_2 = 0,$ при этом $\\varphi_{3 \\max} = \\dfrac{k_r}{\\lambda_r}$ <br>\n",
    "А вот минимального значения $\\varphi_3$ не достигает, но $\\varphi_{3 \\inf} = 0$, очевидно."
   ]
  },
  {
   "cell_type": "code",
   "execution_count": 16,
   "metadata": {},
   "outputs": [
    {
     "data": {
      "text/latex": [
       "$ \\text{Явное выражение для } x_4: $"
      ],
      "text/plain": [
       "<IPython.core.display.Latex object>"
      ]
     },
     "metadata": {},
     "output_type": "display_data"
    },
    {
     "data": {
      "text/latex": [
       "$$ x_4 = \\frac{k_{t} x_{3}}{\\lambda_{t} \\left(K_{t} - x_{3} + 1\\right)}$$"
      ],
      "text/plain": [
       "<IPython.core.display.Latex object>"
      ]
     },
     "metadata": {},
     "output_type": "display_data"
    },
    {
     "data": {
      "text/latex": [
       "$x_4' = \\frac{k_{t} x_{3}}{\\lambda_{t} \\left(K_{t} - x_{3} + 1\\right)^{2}} + \\frac{k_{t}}{\\lambda_{t} \\left(K_{t} - x_{3} + 1\\right)} $"
      ],
      "text/plain": [
       "<IPython.core.display.Latex object>"
      ]
     },
     "metadata": {},
     "output_type": "display_data"
    }
   ],
   "source": [
    "solx_4 = sp.solve(stat_eqn[3], x[4])[0]\n",
    "display(Latex(\"$ \\\\text{Явное выражение для } x_4: $\"))\n",
    "display(flatex(\"$$ x_4 = {}$$\", solx_4))\n",
    "dphi_4 = sp.diff(solx_4, x[3])\n",
    "display(flatex(\"$x_4' = {} $\",dphi_4))"
   ]
  },
  {
   "cell_type": "markdown",
   "metadata": {},
   "source": [
    "Приходим к выводу, что $\\varphi_{4 \\min} = 0$ (достигается при $x_3 = 0$), а максимум достигается при \n",
    "$x_3 = 1,\\varphi_{4 \\max} = \\dfrac{k_t}{\\lambda_t K_t} $"
   ]
  },
  {
   "cell_type": "markdown",
   "metadata": {},
   "source": [
    "## Построение последовательности локализующих функций и множеств"
   ]
  },
  {
   "cell_type": "code",
   "execution_count": null,
   "metadata": {},
   "outputs": [],
   "source": []
  },
  {
   "cell_type": "code",
   "execution_count": null,
   "metadata": {},
   "outputs": [],
   "source": [
    "\n",
    "\n",
    "\n",
    "\n",
    "\n",
    "\n",
    "\n",
    "\n",
    "\n",
    "\n",
    "\n",
    "\n"
   ]
  },
  {
   "cell_type": "code",
   "execution_count": null,
   "metadata": {},
   "outputs": [],
   "source": [
    "# Использование предположений\n",
    "#Воспользовавшись предположениями о значениях параметров, входящих в уравнение, получим:"
   ]
  },
  {
   "cell_type": "code",
   "execution_count": null,
   "metadata": {},
   "outputs": [],
   "source": [
    "#flatex(\"sd ${}$\", F[0])\n",
    "# display(F)\n",
    "\n",
    "# P_s = xpr(\"1.0*10**5\")*(1 - xpr(\"0.15\")/xpr(\"0.2\"))\n",
    "# exchange_dict = {\n",
    "#     P_0 : xpr(\"1.0*10**5\"),\n",
    "#     C_0 : xpr(\"1.0*10**6\"),\n",
    "#     k_c : xpr(\"7.5*10**(-2)\"),\n",
    "#     mu_c : xpr(\"20.0\")*xpr(\"7.5*10**(-2)\")/xpr(\"1.0*10**5\"),\n",
    "#     K_c : xpr(\"0.1\"),\n",
    "#     lambda_c : xpr(\"1.0*10**(-7)\"),\n",
    "#     k_p : xpr(\"0.2\"),\n",
    "#     mu_p : xpr(\"20.0*0.2\"),\n",
    "#     K_p : xpr(\"1.0*10**6\")/xpr(\"100.0\"),\n",
    "#     lambda_p : xpr(\"0.15\"),\n",
    "#     k_r : xpr(\"0.2\"),\n",
    "#     lambda_r : xpr(\"0.22\"),\n",
    "#     gamma_p : xpr(\"0.02\")*xpr(\"0.22\")/P_s,\n",
    "#     gamma_c : xpr(\"0.02\")*xpr(\"0.22\")/P_s,\n",
    "#     k_t : xpr(\"3200.0\"),\n",
    "#     K_t : xpr(\"0.1\"),\n",
    "#     lambda_t : xpr(\"0.3\")\n",
    "# }\n",
    "# F = sp.simplify(F.subs(exchange_dict))\n",
    "# display(F)"
   ]
  }
 ],
 "metadata": {
  "file_extension": ".py",
  "kernelspec": {
   "display_name": "Python 3",
   "language": "python",
   "name": "python3"
  },
  "language_info": {
   "codemirror_mode": {
    "name": "ipython",
    "version": 3
   },
   "file_extension": ".py",
   "mimetype": "text/x-python",
   "name": "python",
   "nbconvert_exporter": "python",
   "pygments_lexer": "ipython3",
   "version": "3.7.4"
  },
  "mimetype": "text/x-python",
  "name": "python",
  "npconvert_exporter": "python",
  "pygments_lexer": "ipython3",
  "version": 3
 },
 "nbformat": 4,
 "nbformat_minor": 4
}
