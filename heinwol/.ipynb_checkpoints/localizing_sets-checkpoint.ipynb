{
 "cells": [
  {
   "cell_type": "code",
   "execution_count": 1,
   "metadata": {},
   "outputs": [
    {
     "data": {
      "text/html": [
       "<style>\n",
       ".output {\n",
       "    font-size:15pt !important;\n",
       "}\n",
       ".prompt {\n",
       "    min-width:unset !important;\n",
       "}\n",
       ".output_subarea {\n",
       "    overflow-x:unset !important;\n",
       "}\n",
       ".MathJax {\n",
       "    font-size: 1em;\n",
       "# .td {\n",
       "#   font-size: 150px !important;\n",
       "# }\n",
       "}\n",
       "</style>\n"
      ],
      "text/plain": [
       "<IPython.core.display.HTML object>"
      ]
     },
     "metadata": {},
     "output_type": "display_data"
    }
   ],
   "source": [
    "%%html\n",
    "<style>\n",
    ".output {\n",
    "    font-size:15pt !important;\n",
    "}\n",
    ".prompt {\n",
    "    min-width:unset !important;\n",
    "}\n",
    ".output_subarea {\n",
    "    overflow-x:unset !important;\n",
    "}\n",
    ".MathJax {\n",
    "    font-size: 1em;\n",
    "# .td {\n",
    "#   font-size: 150px !important;\n",
    "# }\n",
    "}\n",
    "</style>"
   ]
  },
  {
   "cell_type": "code",
   "execution_count": 2,
   "metadata": {},
   "outputs": [
    {
     "data": {
      "text/latex": [
       "$\\displaystyle \\left[\\begin{matrix}- \\frac{\\lambda_{c} x_{1} x_{4}}{K_{c} - x_{3} + 1} + x_{1}^{\\frac{3}{4}} \\left(1 - \\sqrt[4]{\\frac{x_{1}}{C_{0}}}\\right) \\left(k_{c} + \\mu_{c} x_{2}\\right)\\\\- \\lambda_{p} x_{2} + x_{2} \\left(1 - \\frac{x_{2}}{P_{0}}\\right) \\left(k_{p} + \\frac{\\mu_{p} x_{1}}{K_{p} + x_{1}}\\right)\\\\k_{r} - x_{3} \\left(\\gamma_{c} x_{1} + \\gamma_{p} x_{2} + \\lambda_{r}\\right)\\\\\\frac{k_{t} x_{3}}{K_{t} - x_{3} + 1} - \\lambda_{t} x_{4}\\end{matrix}\\right]$"
      ],
      "text/plain": [
       "Matrix([\n",
       "[-lambda_c*x_1*x_4/(K_c - x_3 + 1) + x_1**(3/4)*(1 - (x_1/C_0)**(1/4))*(k_c + mu_c*x_2)],\n",
       "[                        -lambda_p*x_2 + x_2*(1 - x_2/P_0)*(k_p + mu_p*x_1/(K_p + x_1))],\n",
       "[                                      k_r - x_3*(gamma_c*x_1 + gamma_p*x_2 + lambda_r)],\n",
       "[                                                k_t*x_3/(K_t - x_3 + 1) - lambda_t*x_4]])"
      ]
     },
     "metadata": {},
     "output_type": "display_data"
    }
   ],
   "source": [
    "from res import *\n",
    "#from sympy.interactive import printing\n",
    "#printing.init_printing(use_latex=True)\n",
    "\n",
    "# import sys\n",
    "# sys.path.append('../')\n",
    "\n",
    "## main ##\n",
    "\n",
    "x = sp.symarray('x', 5)\n",
    "\n",
    "#C, P, R, T == x[1], x[2], x[3], x[4] respectively\n",
    "\n",
    "#equation parameters\n",
    "k_c, mu_c,     C_0,     lambda_c, K_c      = sp.symbols(\"k_c, mu_c, C_0, lambda_c, K_c\")\n",
    "k_p, mu_p,     K_p,     P_0,      lambda_p = sp.symbols(\"k_p, mu_p, K_p, P_0, lambda_p\")\n",
    "k_r, lambda_r, gamma_p, gamma_c            = sp.symbols(\"k_r, lambda_r, gamma_p, gamma_c\")\n",
    "k_t, K_t,      lambda_t                    = sp.symbols(\"k_t, K_t, lambda_t\")\n",
    "\n",
    "F = sp.Matrix([\n",
    "    (k_c + mu_c*x[2])*x[1]**(xpr(\"3/4\"))*(1 - (x[1]/C_0)**xpr(\"1/4\")) - \\\n",
    "        (lambda_c*x[1]*x[4])/(K_c + (1 - x[3])),\n",
    "    (k_p + (mu_p*x[1])/(K_p + x[1]))*x[2]*(1 - x[2]/P_0) - lambda_p*x[2],\n",
    "    k_r - (lambda_r + gamma_p*x[2] + gamma_c*x[1])*x[3],\n",
    "    (k_t*x[3])/(K_t + (1 - x[3])) - lambda_t*x[4]\n",
    "])\n",
    "\n",
    "display(F)\n",
    "stat_eqn = sp.Matrix([Eqn(F[i],0) for i in range(0, 4)])\n"
   ]
  },
  {
   "cell_type": "markdown",
   "metadata": {},
   "source": [
    "Мы смогли получить все 4 координатные функции. Каждая координатная функция определяет, таким образом, соответствующее локализующее множество $\\Omega_i$, полученное из $\\overline{\\mathbb{R}_{+}^{4}}$ следующим образом (далее всюду подразумеваются подмножества $\\overline{\\mathbb{R}_{+}^{4}}$): <br>\n",
    "\\begin{equation*}    \n",
    "    \\begin{matrix}\n",
    "    \\Omega_1 = \\left\\{\n",
    "            x \\;|\\; x_1 \\in \\left[ 0, C_0  \\right]\n",
    "                \\right\\};\n",
    "    &\n",
    "    \\Omega_2 = \\left\\{\n",
    "            x \\;|\\; x_2 \\in \\left[ 0, \n",
    "            P_0 \\left( 1 - \\frac{\\lambda_p}{k_p}\\right)  \\right] \\vee x_2 = 0\n",
    "                \\right\\}\n",
    "    \\\\ \\\\\n",
    "    \\Omega_3 = \\left\\{\n",
    "        x \\;|\\; x_3 \\in \\left[ 0, \\dfrac{k_r}{\\lambda_r}  \\right]\n",
    "            \\right\\};\n",
    "    &\n",
    "    \\Omega_4 = \\left\\{\n",
    "        x \\;|\\; x_3 \\in \\left[ 0, \\dfrac{k_t}{\\lambda_t K_t} \\right]\n",
    "            \\right\\};\n",
    "    \\end{matrix}\n",
    "\\end{equation*}"
   ]
  },
  {
   "cell_type": "code",
   "execution_count": 3,
   "metadata": {},
   "outputs": [
    {
     "data": {
      "text/latex": [
       "$\\displaystyle \\frac{C_{0} \\alpha^{4}{\\left(x_{2},x_{3} \\right)}}{\\left(\\sqrt[4]{C_{0}} \\lambda_{c} x_{4} + \\alpha{\\left(x_{2},x_{3} \\right)}\\right)^{4}}$"
      ],
      "text/plain": [
       "C_0*alpha(x_2, x_3)**4/(C_0**(1/4)*lambda_c*x_4 + alpha(x_2, x_3))**4"
      ]
     },
     "metadata": {},
     "output_type": "display_data"
    },
    {
     "data": {
      "text/latex": [
       "$\\displaystyle \\frac{P_{0} \\left(K_{p} k_{p} - K_{p} \\lambda_{p} + x_{1} \\left(k_{p} - \\lambda_{p} + \\mu_{p}\\right)\\right)}{K_{p} k_{p} + x_{1} \\left(k_{p} + \\mu_{p}\\right)}$"
      ],
      "text/plain": [
       "P_0*(K_p*k_p - K_p*lambda_p + x_1*(k_p - lambda_p + mu_p))/(K_p*k_p + x_1*(k_p + mu_p))"
      ]
     },
     "metadata": {},
     "output_type": "display_data"
    },
    {
     "data": {
      "text/latex": [
       "$\\displaystyle \\frac{k_{r}}{\\gamma_{c} x_{1} + \\gamma_{p} x_{2} + \\lambda_{r}}$"
      ],
      "text/plain": [
       "k_r/(gamma_c*x_1 + gamma_p*x_2 + lambda_r)"
      ]
     },
     "metadata": {},
     "output_type": "display_data"
    },
    {
     "data": {
      "text/latex": [
       "$\\displaystyle \\frac{k_{t} x_{3}}{\\lambda_{t} \\left(K_{t} - x_{3} + 1\\right)}$"
      ],
      "text/plain": [
       "k_t*x_3/(lambda_t*(K_t - x_3 + 1))"
      ]
     },
     "metadata": {},
     "output_type": "display_data"
    }
   ],
   "source": [
    "alpha = sp.Function('alpha')(x[2],x[3])\n",
    "#alpha_val = -mu_c*x[2]*x[3] + mu_c*(K_c + 1)*x[2] - k_c*x[3] + k_c*(K_c + 1)\n",
    "alpha_val = (k_c + mu_c*x[2])*(K_c + 1 - x[3])\n",
    "\n",
    "phi = [0]*5\n",
    "\n",
    "phi[1] = C_0*(alpha/(C_0**xpr('1/4')*lambda_c*x[4] + alpha))**4\n",
    "phi_1_sqrt_4 = C_0**xpr('1/4')*(alpha/(C_0**xpr('1/4')*lambda_c*x[4] + alpha))\n",
    "phi[2] = P_0*(((k_p + mu_p - lambda_p)*x[1] + k_p*K_p - lambda_p*K_p)/((k_p + mu_p)*x[1] + k_p*K_p))\n",
    "phi[3] = sp.solve(stat_eqn[2], x[3])[0]\n",
    "phi[4] = sp.solve(stat_eqn[3], x[4])[0]\n",
    "for i in range(1, 5): display(phi[i])"
   ]
  },
  {
   "cell_type": "markdown",
   "metadata": {},
   "source": []
  },
  {
   "cell_type": "code",
   "execution_count": 4,
   "metadata": {},
   "outputs": [
    {
     "data": {
      "text/latex": [
       "$\\displaystyle \\frac{k_{p} k_{r} k_{t}}{\\lambda_{t} \\left(- k_{p} k_{r} + \\left(K_{t} + 1\\right) \\left(C_{0} \\gamma_{c} k_{p} + P_{0} \\gamma_{p} \\left(k_{p} - \\lambda_{p}\\right) + k_{p} \\lambda_{r}\\right)\\right)}$"
      ],
      "text/plain": [
       "k_p*k_r*k_t/(lambda_t*(-k_p*k_r + (K_t + 1)*(C_0*gamma_c*k_p + P_0*gamma_p*(k_p - lambda_p) + k_p*lambda_r)))"
      ]
     },
     "metadata": {},
     "output_type": "display_data"
    }
   ],
   "source": [
    "x_4_inf_2_2 = phi[4].subs(x[3], (k_r*k_p)/(gamma_c*C_0*k_p + gamma_p*P_0*(k_p - lambda_p) + lambda_r*k_p))\n",
    "x_4_inf_2_2 = sp.simplify(x_4_inf_2_2)\n",
    "display(x_4_inf_2_2)"
   ]
  },
  {
   "cell_type": "code",
   "execution_count": 5,
   "metadata": {},
   "outputs": [
    {
     "data": {
      "text/latex": [
       "$\\displaystyle \\frac{\\sqrt[4]{C_{0}} \\lambda_{t} \\left(k_{p} k_{r} - \\left(K_{c} + 1\\right) \\left(C_{0} \\gamma_{c} k_{p} + P_{0} \\gamma_{p} \\left(k_{p} - \\lambda_{p}\\right) + k_{p} \\lambda_{r}\\right)\\right) \\left(k_{p} k_{r} - \\left(K_{t} + 1\\right) \\left(C_{0} \\gamma_{c} k_{p} + P_{0} \\gamma_{p} \\left(k_{p} - \\lambda_{p}\\right) + k_{p} \\lambda_{r}\\right)\\right) \\left(P_{0} \\mu_{c} \\left(k_{p} - \\lambda_{p}\\right) + k_{c} k_{p}\\right)}{\\sqrt[4]{C_{0}} k_{p}^{2} k_{r} k_{t} \\lambda_{c} \\left(C_{0} \\gamma_{c} k_{p} + P_{0} \\gamma_{p} \\left(k_{p} - \\lambda_{p}\\right) + k_{p} \\lambda_{r}\\right) + \\lambda_{t} \\left(k_{p} k_{r} - \\left(K_{c} + 1\\right) \\left(C_{0} \\gamma_{c} k_{p} + P_{0} \\gamma_{p} \\left(k_{p} - \\lambda_{p}\\right) + k_{p} \\lambda_{r}\\right)\\right) \\left(k_{p} k_{r} - \\left(K_{t} + 1\\right) \\left(C_{0} \\gamma_{c} k_{p} + P_{0} \\gamma_{p} \\left(k_{p} - \\lambda_{p}\\right) + k_{p} \\lambda_{r}\\right)\\right) \\left(P_{0} \\mu_{c} \\left(k_{p} - \\lambda_{p}\\right) + k_{c} k_{p}\\right)}$"
      ],
      "text/plain": [
       "C_0**(1/4)*lambda_t*(k_p*k_r - (K_c + 1)*(C_0*gamma_c*k_p + P_0*gamma_p*(k_p - lambda_p) + k_p*lambda_r))*(k_p*k_r - (K_t + 1)*(C_0*gamma_c*k_p + P_0*gamma_p*(k_p - lambda_p) + k_p*lambda_r))*(P_0*mu_c*(k_p - lambda_p) + k_c*k_p)/(C_0**(1/4)*k_p**2*k_r*k_t*lambda_c*(C_0*gamma_c*k_p + P_0*gamma_p*(k_p - lambda_p) + k_p*lambda_r) + lambda_t*(k_p*k_r - (K_c + 1)*(C_0*gamma_c*k_p + P_0*gamma_p*(k_p - lambda_p) + k_p*lambda_r))*(k_p*k_r - (K_t + 1)*(C_0*gamma_c*k_p + P_0*gamma_p*(k_p - lambda_p) + k_p*lambda_r))*(P_0*mu_c*(k_p - lambda_p) + k_c*k_p))"
      ]
     },
     "metadata": {},
     "output_type": "display_data"
    }
   ],
   "source": [
    "alpha_3_2 = alpha_val.subs(x[2], P_0*(1 - lambda_p/k_p))\n",
    "alpha_3_2 = alpha_3_2.subs(x[3], (k_r*k_p)/(gamma_c*C_0*k_p + gamma_p*P_0*(k_p - lambda_p) + lambda_r*k_p))\n",
    "alpha_3_2 = sp.simplify(alpha_3_2)\n",
    "\n",
    "x_1_sup_3_2_sqrt_4 = phi_1_sqrt_4.subs(x[4], x_4_inf_2_2)\n",
    "#x_1_sup_3_2 = sp.simplify(x_1_sup_3_2)\n",
    "x_1_sup_3_2_sqrt_4 = x_1_sup_3_2_sqrt_4.subs(alpha, alpha_3_2)\n",
    "x_1_sup_3_2_sqrt_4 = sp.simplify(x_1_sup_3_2_sqrt_4)\n",
    "display(x_1_sup_3_2_sqrt_4)"
   ]
  },
  {
   "cell_type": "code",
   "execution_count": 7,
   "metadata": {},
   "outputs": [
    {
     "data": {
      "text/latex": [
       "$\\displaystyle \\sqrt[4]{C_{0}} \\lambda_{t} \\left(C_{0}^{2} K_{c} K_{t} P_{0} \\gamma_{c}^{2} k_{p}^{3} \\mu_{c} - C_{0}^{2} K_{c} K_{t} P_{0} \\gamma_{c}^{2} k_{p}^{2} \\lambda_{p} \\mu_{c} + C_{0}^{2} K_{c} K_{t} \\gamma_{c}^{2} k_{c} k_{p}^{3} + C_{0}^{2} K_{c} P_{0} \\gamma_{c}^{2} k_{p}^{3} \\mu_{c} - C_{0}^{2} K_{c} P_{0} \\gamma_{c}^{2} k_{p}^{2} \\lambda_{p} \\mu_{c} + C_{0}^{2} K_{c} \\gamma_{c}^{2} k_{c} k_{p}^{3} + C_{0}^{2} K_{t} P_{0} \\gamma_{c}^{2} k_{p}^{3} \\mu_{c} - C_{0}^{2} K_{t} P_{0} \\gamma_{c}^{2} k_{p}^{2} \\lambda_{p} \\mu_{c} + C_{0}^{2} K_{t} \\gamma_{c}^{2} k_{c} k_{p}^{3} + C_{0}^{2} P_{0} \\gamma_{c}^{2} k_{p}^{3} \\mu_{c} - C_{0}^{2} P_{0} \\gamma_{c}^{2} k_{p}^{2} \\lambda_{p} \\mu_{c} + C_{0}^{2} \\gamma_{c}^{2} k_{c} k_{p}^{3} + 2 C_{0} K_{c} K_{t} P_{0}^{2} \\gamma_{c} \\gamma_{p} k_{p}^{3} \\mu_{c} - 4 C_{0} K_{c} K_{t} P_{0}^{2} \\gamma_{c} \\gamma_{p} k_{p}^{2} \\lambda_{p} \\mu_{c} + 2 C_{0} K_{c} K_{t} P_{0}^{2} \\gamma_{c} \\gamma_{p} k_{p} \\lambda_{p}^{2} \\mu_{c} + 2 C_{0} K_{c} K_{t} P_{0} \\gamma_{c} \\gamma_{p} k_{c} k_{p}^{3} - 2 C_{0} K_{c} K_{t} P_{0} \\gamma_{c} \\gamma_{p} k_{c} k_{p}^{2} \\lambda_{p} + 2 C_{0} K_{c} K_{t} P_{0} \\gamma_{c} k_{p}^{3} \\lambda_{r} \\mu_{c} - 2 C_{0} K_{c} K_{t} P_{0} \\gamma_{c} k_{p}^{2} \\lambda_{p} \\lambda_{r} \\mu_{c} + 2 C_{0} K_{c} K_{t} \\gamma_{c} k_{c} k_{p}^{3} \\lambda_{r} + 2 C_{0} K_{c} P_{0}^{2} \\gamma_{c} \\gamma_{p} k_{p}^{3} \\mu_{c} - 4 C_{0} K_{c} P_{0}^{2} \\gamma_{c} \\gamma_{p} k_{p}^{2} \\lambda_{p} \\mu_{c} + 2 C_{0} K_{c} P_{0}^{2} \\gamma_{c} \\gamma_{p} k_{p} \\lambda_{p}^{2} \\mu_{c} + 2 C_{0} K_{c} P_{0} \\gamma_{c} \\gamma_{p} k_{c} k_{p}^{3} - 2 C_{0} K_{c} P_{0} \\gamma_{c} \\gamma_{p} k_{c} k_{p}^{2} \\lambda_{p} - C_{0} K_{c} P_{0} \\gamma_{c} k_{p}^{3} k_{r} \\mu_{c} + 2 C_{0} K_{c} P_{0} \\gamma_{c} k_{p}^{3} \\lambda_{r} \\mu_{c} + C_{0} K_{c} P_{0} \\gamma_{c} k_{p}^{2} k_{r} \\lambda_{p} \\mu_{c} - 2 C_{0} K_{c} P_{0} \\gamma_{c} k_{p}^{2} \\lambda_{p} \\lambda_{r} \\mu_{c} - C_{0} K_{c} \\gamma_{c} k_{c} k_{p}^{3} k_{r} + 2 C_{0} K_{c} \\gamma_{c} k_{c} k_{p}^{3} \\lambda_{r} + 2 C_{0} K_{t} P_{0}^{2} \\gamma_{c} \\gamma_{p} k_{p}^{3} \\mu_{c} - 4 C_{0} K_{t} P_{0}^{2} \\gamma_{c} \\gamma_{p} k_{p}^{2} \\lambda_{p} \\mu_{c} + 2 C_{0} K_{t} P_{0}^{2} \\gamma_{c} \\gamma_{p} k_{p} \\lambda_{p}^{2} \\mu_{c} + 2 C_{0} K_{t} P_{0} \\gamma_{c} \\gamma_{p} k_{c} k_{p}^{3} - 2 C_{0} K_{t} P_{0} \\gamma_{c} \\gamma_{p} k_{c} k_{p}^{2} \\lambda_{p} - C_{0} K_{t} P_{0} \\gamma_{c} k_{p}^{3} k_{r} \\mu_{c} + 2 C_{0} K_{t} P_{0} \\gamma_{c} k_{p}^{3} \\lambda_{r} \\mu_{c} + C_{0} K_{t} P_{0} \\gamma_{c} k_{p}^{2} k_{r} \\lambda_{p} \\mu_{c} - 2 C_{0} K_{t} P_{0} \\gamma_{c} k_{p}^{2} \\lambda_{p} \\lambda_{r} \\mu_{c} - C_{0} K_{t} \\gamma_{c} k_{c} k_{p}^{3} k_{r} + 2 C_{0} K_{t} \\gamma_{c} k_{c} k_{p}^{3} \\lambda_{r} + 2 C_{0} P_{0}^{2} \\gamma_{c} \\gamma_{p} k_{p}^{3} \\mu_{c} - 4 C_{0} P_{0}^{2} \\gamma_{c} \\gamma_{p} k_{p}^{2} \\lambda_{p} \\mu_{c} + 2 C_{0} P_{0}^{2} \\gamma_{c} \\gamma_{p} k_{p} \\lambda_{p}^{2} \\mu_{c} + 2 C_{0} P_{0} \\gamma_{c} \\gamma_{p} k_{c} k_{p}^{3} - 2 C_{0} P_{0} \\gamma_{c} \\gamma_{p} k_{c} k_{p}^{2} \\lambda_{p} - 2 C_{0} P_{0} \\gamma_{c} k_{p}^{3} k_{r} \\mu_{c} + 2 C_{0} P_{0} \\gamma_{c} k_{p}^{3} \\lambda_{r} \\mu_{c} + 2 C_{0} P_{0} \\gamma_{c} k_{p}^{2} k_{r} \\lambda_{p} \\mu_{c} - 2 C_{0} P_{0} \\gamma_{c} k_{p}^{2} \\lambda_{p} \\lambda_{r} \\mu_{c} - 2 C_{0} \\gamma_{c} k_{c} k_{p}^{3} k_{r} + 2 C_{0} \\gamma_{c} k_{c} k_{p}^{3} \\lambda_{r} + K_{c} K_{t} P_{0}^{3} \\gamma_{p}^{2} k_{p}^{3} \\mu_{c} - 3 K_{c} K_{t} P_{0}^{3} \\gamma_{p}^{2} k_{p}^{2} \\lambda_{p} \\mu_{c} + 3 K_{c} K_{t} P_{0}^{3} \\gamma_{p}^{2} k_{p} \\lambda_{p}^{2} \\mu_{c} - K_{c} K_{t} P_{0}^{3} \\gamma_{p}^{2} \\lambda_{p}^{3} \\mu_{c} + K_{c} K_{t} P_{0}^{2} \\gamma_{p}^{2} k_{c} k_{p}^{3} - 2 K_{c} K_{t} P_{0}^{2} \\gamma_{p}^{2} k_{c} k_{p}^{2} \\lambda_{p} + K_{c} K_{t} P_{0}^{2} \\gamma_{p}^{2} k_{c} k_{p} \\lambda_{p}^{2} + 2 K_{c} K_{t} P_{0}^{2} \\gamma_{p} k_{p}^{3} \\lambda_{r} \\mu_{c} - 4 K_{c} K_{t} P_{0}^{2} \\gamma_{p} k_{p}^{2} \\lambda_{p} \\lambda_{r} \\mu_{c} + 2 K_{c} K_{t} P_{0}^{2} \\gamma_{p} k_{p} \\lambda_{p}^{2} \\lambda_{r} \\mu_{c} + 2 K_{c} K_{t} P_{0} \\gamma_{p} k_{c} k_{p}^{3} \\lambda_{r} - 2 K_{c} K_{t} P_{0} \\gamma_{p} k_{c} k_{p}^{2} \\lambda_{p} \\lambda_{r} + K_{c} K_{t} P_{0} k_{p}^{3} \\lambda_{r}^{2} \\mu_{c} - K_{c} K_{t} P_{0} k_{p}^{2} \\lambda_{p} \\lambda_{r}^{2} \\mu_{c} + K_{c} K_{t} k_{c} k_{p}^{3} \\lambda_{r}^{2} + K_{c} P_{0}^{3} \\gamma_{p}^{2} k_{p}^{3} \\mu_{c} - 3 K_{c} P_{0}^{3} \\gamma_{p}^{2} k_{p}^{2} \\lambda_{p} \\mu_{c} + 3 K_{c} P_{0}^{3} \\gamma_{p}^{2} k_{p} \\lambda_{p}^{2} \\mu_{c} - K_{c} P_{0}^{3} \\gamma_{p}^{2} \\lambda_{p}^{3} \\mu_{c} + K_{c} P_{0}^{2} \\gamma_{p}^{2} k_{c} k_{p}^{3} - 2 K_{c} P_{0}^{2} \\gamma_{p}^{2} k_{c} k_{p}^{2} \\lambda_{p} + K_{c} P_{0}^{2} \\gamma_{p}^{2} k_{c} k_{p} \\lambda_{p}^{2} - K_{c} P_{0}^{2} \\gamma_{p} k_{p}^{3} k_{r} \\mu_{c} + 2 K_{c} P_{0}^{2} \\gamma_{p} k_{p}^{3} \\lambda_{r} \\mu_{c} + 2 K_{c} P_{0}^{2} \\gamma_{p} k_{p}^{2} k_{r} \\lambda_{p} \\mu_{c} - 4 K_{c} P_{0}^{2} \\gamma_{p} k_{p}^{2} \\lambda_{p} \\lambda_{r} \\mu_{c} - K_{c} P_{0}^{2} \\gamma_{p} k_{p} k_{r} \\lambda_{p}^{2} \\mu_{c} + 2 K_{c} P_{0}^{2} \\gamma_{p} k_{p} \\lambda_{p}^{2} \\lambda_{r} \\mu_{c} - K_{c} P_{0} \\gamma_{p} k_{c} k_{p}^{3} k_{r} + 2 K_{c} P_{0} \\gamma_{p} k_{c} k_{p}^{3} \\lambda_{r} + K_{c} P_{0} \\gamma_{p} k_{c} k_{p}^{2} k_{r} \\lambda_{p} - 2 K_{c} P_{0} \\gamma_{p} k_{c} k_{p}^{2} \\lambda_{p} \\lambda_{r} - K_{c} P_{0} k_{p}^{3} k_{r} \\lambda_{r} \\mu_{c} + K_{c} P_{0} k_{p}^{3} \\lambda_{r}^{2} \\mu_{c} + K_{c} P_{0} k_{p}^{2} k_{r} \\lambda_{p} \\lambda_{r} \\mu_{c} - K_{c} P_{0} k_{p}^{2} \\lambda_{p} \\lambda_{r}^{2} \\mu_{c} - K_{c} k_{c} k_{p}^{3} k_{r} \\lambda_{r} + K_{c} k_{c} k_{p}^{3} \\lambda_{r}^{2} + K_{t} P_{0}^{3} \\gamma_{p}^{2} k_{p}^{3} \\mu_{c} - 3 K_{t} P_{0}^{3} \\gamma_{p}^{2} k_{p}^{2} \\lambda_{p} \\mu_{c} + 3 K_{t} P_{0}^{3} \\gamma_{p}^{2} k_{p} \\lambda_{p}^{2} \\mu_{c} - K_{t} P_{0}^{3} \\gamma_{p}^{2} \\lambda_{p}^{3} \\mu_{c} + K_{t} P_{0}^{2} \\gamma_{p}^{2} k_{c} k_{p}^{3} - 2 K_{t} P_{0}^{2} \\gamma_{p}^{2} k_{c} k_{p}^{2} \\lambda_{p} + K_{t} P_{0}^{2} \\gamma_{p}^{2} k_{c} k_{p} \\lambda_{p}^{2} - K_{t} P_{0}^{2} \\gamma_{p} k_{p}^{3} k_{r} \\mu_{c} + 2 K_{t} P_{0}^{2} \\gamma_{p} k_{p}^{3} \\lambda_{r} \\mu_{c} + 2 K_{t} P_{0}^{2} \\gamma_{p} k_{p}^{2} k_{r} \\lambda_{p} \\mu_{c} - 4 K_{t} P_{0}^{2} \\gamma_{p} k_{p}^{2} \\lambda_{p} \\lambda_{r} \\mu_{c} - K_{t} P_{0}^{2} \\gamma_{p} k_{p} k_{r} \\lambda_{p}^{2} \\mu_{c} + 2 K_{t} P_{0}^{2} \\gamma_{p} k_{p} \\lambda_{p}^{2} \\lambda_{r} \\mu_{c} - K_{t} P_{0} \\gamma_{p} k_{c} k_{p}^{3} k_{r} + 2 K_{t} P_{0} \\gamma_{p} k_{c} k_{p}^{3} \\lambda_{r} + K_{t} P_{0} \\gamma_{p} k_{c} k_{p}^{2} k_{r} \\lambda_{p} - 2 K_{t} P_{0} \\gamma_{p} k_{c} k_{p}^{2} \\lambda_{p} \\lambda_{r} - K_{t} P_{0} k_{p}^{3} k_{r} \\lambda_{r} \\mu_{c} + K_{t} P_{0} k_{p}^{3} \\lambda_{r}^{2} \\mu_{c} + K_{t} P_{0} k_{p}^{2} k_{r} \\lambda_{p} \\lambda_{r} \\mu_{c} - K_{t} P_{0} k_{p}^{2} \\lambda_{p} \\lambda_{r}^{2} \\mu_{c} - K_{t} k_{c} k_{p}^{3} k_{r} \\lambda_{r} + K_{t} k_{c} k_{p}^{3} \\lambda_{r}^{2} + P_{0}^{3} \\gamma_{p}^{2} k_{p}^{3} \\mu_{c} - 3 P_{0}^{3} \\gamma_{p}^{2} k_{p}^{2} \\lambda_{p} \\mu_{c} + 3 P_{0}^{3} \\gamma_{p}^{2} k_{p} \\lambda_{p}^{2} \\mu_{c} - P_{0}^{3} \\gamma_{p}^{2} \\lambda_{p}^{3} \\mu_{c} + P_{0}^{2} \\gamma_{p}^{2} k_{c} k_{p}^{3} - 2 P_{0}^{2} \\gamma_{p}^{2} k_{c} k_{p}^{2} \\lambda_{p} + P_{0}^{2} \\gamma_{p}^{2} k_{c} k_{p} \\lambda_{p}^{2} - 2 P_{0}^{2} \\gamma_{p} k_{p}^{3} k_{r} \\mu_{c} + 2 P_{0}^{2} \\gamma_{p} k_{p}^{3} \\lambda_{r} \\mu_{c} + 4 P_{0}^{2} \\gamma_{p} k_{p}^{2} k_{r} \\lambda_{p} \\mu_{c} - 4 P_{0}^{2} \\gamma_{p} k_{p}^{2} \\lambda_{p} \\lambda_{r} \\mu_{c} - 2 P_{0}^{2} \\gamma_{p} k_{p} k_{r} \\lambda_{p}^{2} \\mu_{c} + 2 P_{0}^{2} \\gamma_{p} k_{p} \\lambda_{p}^{2} \\lambda_{r} \\mu_{c} - 2 P_{0} \\gamma_{p} k_{c} k_{p}^{3} k_{r} + 2 P_{0} \\gamma_{p} k_{c} k_{p}^{3} \\lambda_{r} + 2 P_{0} \\gamma_{p} k_{c} k_{p}^{2} k_{r} \\lambda_{p} - 2 P_{0} \\gamma_{p} k_{c} k_{p}^{2} \\lambda_{p} \\lambda_{r} + P_{0} k_{p}^{3} k_{r}^{2} \\mu_{c} - 2 P_{0} k_{p}^{3} k_{r} \\lambda_{r} \\mu_{c} + P_{0} k_{p}^{3} \\lambda_{r}^{2} \\mu_{c} - P_{0} k_{p}^{2} k_{r}^{2} \\lambda_{p} \\mu_{c} + 2 P_{0} k_{p}^{2} k_{r} \\lambda_{p} \\lambda_{r} \\mu_{c} - P_{0} k_{p}^{2} \\lambda_{p} \\lambda_{r}^{2} \\mu_{c} + k_{c} k_{p}^{3} k_{r}^{2} - 2 k_{c} k_{p}^{3} k_{r} \\lambda_{r} + k_{c} k_{p}^{3} \\lambda_{r}^{2}\\right)$"
      ],
      "text/plain": [
       "C_0**(1/4)*lambda_t*(C_0**2*K_c*K_t*P_0*gamma_c**2*k_p**3*mu_c - C_0**2*K_c*K_t*P_0*gamma_c**2*k_p**2*lambda_p*mu_c + C_0**2*K_c*K_t*gamma_c**2*k_c*k_p**3 + C_0**2*K_c*P_0*gamma_c**2*k_p**3*mu_c - C_0**2*K_c*P_0*gamma_c**2*k_p**2*lambda_p*mu_c + C_0**2*K_c*gamma_c**2*k_c*k_p**3 + C_0**2*K_t*P_0*gamma_c**2*k_p**3*mu_c - C_0**2*K_t*P_0*gamma_c**2*k_p**2*lambda_p*mu_c + C_0**2*K_t*gamma_c**2*k_c*k_p**3 + C_0**2*P_0*gamma_c**2*k_p**3*mu_c - C_0**2*P_0*gamma_c**2*k_p**2*lambda_p*mu_c + C_0**2*gamma_c**2*k_c*k_p**3 + 2*C_0*K_c*K_t*P_0**2*gamma_c*gamma_p*k_p**3*mu_c - 4*C_0*K_c*K_t*P_0**2*gamma_c*gamma_p*k_p**2*lambda_p*mu_c + 2*C_0*K_c*K_t*P_0**2*gamma_c*gamma_p*k_p*lambda_p**2*mu_c + 2*C_0*K_c*K_t*P_0*gamma_c*gamma_p*k_c*k_p**3 - 2*C_0*K_c*K_t*P_0*gamma_c*gamma_p*k_c*k_p**2*lambda_p + 2*C_0*K_c*K_t*P_0*gamma_c*k_p**3*lambda_r*mu_c - 2*C_0*K_c*K_t*P_0*gamma_c*k_p**2*lambda_p*lambda_r*mu_c + 2*C_0*K_c*K_t*gamma_c*k_c*k_p**3*lambda_r + 2*C_0*K_c*P_0**2*gamma_c*gamma_p*k_p**3*mu_c - 4*C_0*K_c*P_0**2*gamma_c*gamma_p*k_p**2*lambda_p*mu_c + 2*C_0*K_c*P_0**2*gamma_c*gamma_p*k_p*lambda_p**2*mu_c + 2*C_0*K_c*P_0*gamma_c*gamma_p*k_c*k_p**3 - 2*C_0*K_c*P_0*gamma_c*gamma_p*k_c*k_p**2*lambda_p - C_0*K_c*P_0*gamma_c*k_p**3*k_r*mu_c + 2*C_0*K_c*P_0*gamma_c*k_p**3*lambda_r*mu_c + C_0*K_c*P_0*gamma_c*k_p**2*k_r*lambda_p*mu_c - 2*C_0*K_c*P_0*gamma_c*k_p**2*lambda_p*lambda_r*mu_c - C_0*K_c*gamma_c*k_c*k_p**3*k_r + 2*C_0*K_c*gamma_c*k_c*k_p**3*lambda_r + 2*C_0*K_t*P_0**2*gamma_c*gamma_p*k_p**3*mu_c - 4*C_0*K_t*P_0**2*gamma_c*gamma_p*k_p**2*lambda_p*mu_c + 2*C_0*K_t*P_0**2*gamma_c*gamma_p*k_p*lambda_p**2*mu_c + 2*C_0*K_t*P_0*gamma_c*gamma_p*k_c*k_p**3 - 2*C_0*K_t*P_0*gamma_c*gamma_p*k_c*k_p**2*lambda_p - C_0*K_t*P_0*gamma_c*k_p**3*k_r*mu_c + 2*C_0*K_t*P_0*gamma_c*k_p**3*lambda_r*mu_c + C_0*K_t*P_0*gamma_c*k_p**2*k_r*lambda_p*mu_c - 2*C_0*K_t*P_0*gamma_c*k_p**2*lambda_p*lambda_r*mu_c - C_0*K_t*gamma_c*k_c*k_p**3*k_r + 2*C_0*K_t*gamma_c*k_c*k_p**3*lambda_r + 2*C_0*P_0**2*gamma_c*gamma_p*k_p**3*mu_c - 4*C_0*P_0**2*gamma_c*gamma_p*k_p**2*lambda_p*mu_c + 2*C_0*P_0**2*gamma_c*gamma_p*k_p*lambda_p**2*mu_c + 2*C_0*P_0*gamma_c*gamma_p*k_c*k_p**3 - 2*C_0*P_0*gamma_c*gamma_p*k_c*k_p**2*lambda_p - 2*C_0*P_0*gamma_c*k_p**3*k_r*mu_c + 2*C_0*P_0*gamma_c*k_p**3*lambda_r*mu_c + 2*C_0*P_0*gamma_c*k_p**2*k_r*lambda_p*mu_c - 2*C_0*P_0*gamma_c*k_p**2*lambda_p*lambda_r*mu_c - 2*C_0*gamma_c*k_c*k_p**3*k_r + 2*C_0*gamma_c*k_c*k_p**3*lambda_r + K_c*K_t*P_0**3*gamma_p**2*k_p**3*mu_c - 3*K_c*K_t*P_0**3*gamma_p**2*k_p**2*lambda_p*mu_c + 3*K_c*K_t*P_0**3*gamma_p**2*k_p*lambda_p**2*mu_c - K_c*K_t*P_0**3*gamma_p**2*lambda_p**3*mu_c + K_c*K_t*P_0**2*gamma_p**2*k_c*k_p**3 - 2*K_c*K_t*P_0**2*gamma_p**2*k_c*k_p**2*lambda_p + K_c*K_t*P_0**2*gamma_p**2*k_c*k_p*lambda_p**2 + 2*K_c*K_t*P_0**2*gamma_p*k_p**3*lambda_r*mu_c - 4*K_c*K_t*P_0**2*gamma_p*k_p**2*lambda_p*lambda_r*mu_c + 2*K_c*K_t*P_0**2*gamma_p*k_p*lambda_p**2*lambda_r*mu_c + 2*K_c*K_t*P_0*gamma_p*k_c*k_p**3*lambda_r - 2*K_c*K_t*P_0*gamma_p*k_c*k_p**2*lambda_p*lambda_r + K_c*K_t*P_0*k_p**3*lambda_r**2*mu_c - K_c*K_t*P_0*k_p**2*lambda_p*lambda_r**2*mu_c + K_c*K_t*k_c*k_p**3*lambda_r**2 + K_c*P_0**3*gamma_p**2*k_p**3*mu_c - 3*K_c*P_0**3*gamma_p**2*k_p**2*lambda_p*mu_c + 3*K_c*P_0**3*gamma_p**2*k_p*lambda_p**2*mu_c - K_c*P_0**3*gamma_p**2*lambda_p**3*mu_c + K_c*P_0**2*gamma_p**2*k_c*k_p**3 - 2*K_c*P_0**2*gamma_p**2*k_c*k_p**2*lambda_p + K_c*P_0**2*gamma_p**2*k_c*k_p*lambda_p**2 - K_c*P_0**2*gamma_p*k_p**3*k_r*mu_c + 2*K_c*P_0**2*gamma_p*k_p**3*lambda_r*mu_c + 2*K_c*P_0**2*gamma_p*k_p**2*k_r*lambda_p*mu_c - 4*K_c*P_0**2*gamma_p*k_p**2*lambda_p*lambda_r*mu_c - K_c*P_0**2*gamma_p*k_p*k_r*lambda_p**2*mu_c + 2*K_c*P_0**2*gamma_p*k_p*lambda_p**2*lambda_r*mu_c - K_c*P_0*gamma_p*k_c*k_p**3*k_r + 2*K_c*P_0*gamma_p*k_c*k_p**3*lambda_r + K_c*P_0*gamma_p*k_c*k_p**2*k_r*lambda_p - 2*K_c*P_0*gamma_p*k_c*k_p**2*lambda_p*lambda_r - K_c*P_0*k_p**3*k_r*lambda_r*mu_c + K_c*P_0*k_p**3*lambda_r**2*mu_c + K_c*P_0*k_p**2*k_r*lambda_p*lambda_r*mu_c - K_c*P_0*k_p**2*lambda_p*lambda_r**2*mu_c - K_c*k_c*k_p**3*k_r*lambda_r + K_c*k_c*k_p**3*lambda_r**2 + K_t*P_0**3*gamma_p**2*k_p**3*mu_c - 3*K_t*P_0**3*gamma_p**2*k_p**2*lambda_p*mu_c + 3*K_t*P_0**3*gamma_p**2*k_p*lambda_p**2*mu_c - K_t*P_0**3*gamma_p**2*lambda_p**3*mu_c + K_t*P_0**2*gamma_p**2*k_c*k_p**3 - 2*K_t*P_0**2*gamma_p**2*k_c*k_p**2*lambda_p + K_t*P_0**2*gamma_p**2*k_c*k_p*lambda_p**2 - K_t*P_0**2*gamma_p*k_p**3*k_r*mu_c + 2*K_t*P_0**2*gamma_p*k_p**3*lambda_r*mu_c + 2*K_t*P_0**2*gamma_p*k_p**2*k_r*lambda_p*mu_c - 4*K_t*P_0**2*gamma_p*k_p**2*lambda_p*lambda_r*mu_c - K_t*P_0**2*gamma_p*k_p*k_r*lambda_p**2*mu_c + 2*K_t*P_0**2*gamma_p*k_p*lambda_p**2*lambda_r*mu_c - K_t*P_0*gamma_p*k_c*k_p**3*k_r + 2*K_t*P_0*gamma_p*k_c*k_p**3*lambda_r + K_t*P_0*gamma_p*k_c*k_p**2*k_r*lambda_p - 2*K_t*P_0*gamma_p*k_c*k_p**2*lambda_p*lambda_r - K_t*P_0*k_p**3*k_r*lambda_r*mu_c + K_t*P_0*k_p**3*lambda_r**2*mu_c + K_t*P_0*k_p**2*k_r*lambda_p*lambda_r*mu_c - K_t*P_0*k_p**2*lambda_p*lambda_r**2*mu_c - K_t*k_c*k_p**3*k_r*lambda_r + K_t*k_c*k_p**3*lambda_r**2 + P_0**3*gamma_p**2*k_p**3*mu_c - 3*P_0**3*gamma_p**2*k_p**2*lambda_p*mu_c + 3*P_0**3*gamma_p**2*k_p*lambda_p**2*mu_c - P_0**3*gamma_p**2*lambda_p**3*mu_c + P_0**2*gamma_p**2*k_c*k_p**3 - 2*P_0**2*gamma_p**2*k_c*k_p**2*lambda_p + P_0**2*gamma_p**2*k_c*k_p*lambda_p**2 - 2*P_0**2*gamma_p*k_p**3*k_r*mu_c + 2*P_0**2*gamma_p*k_p**3*lambda_r*mu_c + 4*P_0**2*gamma_p*k_p**2*k_r*lambda_p*mu_c - 4*P_0**2*gamma_p*k_p**2*lambda_p*lambda_r*mu_c - 2*P_0**2*gamma_p*k_p*k_r*lambda_p**2*mu_c + 2*P_0**2*gamma_p*k_p*lambda_p**2*lambda_r*mu_c - 2*P_0*gamma_p*k_c*k_p**3*k_r + 2*P_0*gamma_p*k_c*k_p**3*lambda_r + 2*P_0*gamma_p*k_c*k_p**2*k_r*lambda_p - 2*P_0*gamma_p*k_c*k_p**2*lambda_p*lambda_r + P_0*k_p**3*k_r**2*mu_c - 2*P_0*k_p**3*k_r*lambda_r*mu_c + P_0*k_p**3*lambda_r**2*mu_c - P_0*k_p**2*k_r**2*lambda_p*mu_c + 2*P_0*k_p**2*k_r*lambda_p*lambda_r*mu_c - P_0*k_p**2*lambda_p*lambda_r**2*mu_c + k_c*k_p**3*k_r**2 - 2*k_c*k_p**3*k_r*lambda_r + k_c*k_p**3*lambda_r**2)"
      ]
     },
     "metadata": {},
     "output_type": "display_data"
    },
    {
     "data": {
      "text/latex": [
       "$\\displaystyle C_{0}^{\\frac{5}{4}} \\gamma_{c} k_{p}^{3} k_{r} k_{t} \\lambda_{c} + \\sqrt[4]{C_{0}} P_{0} \\gamma_{p} k_{p}^{3} k_{r} k_{t} \\lambda_{c} - \\sqrt[4]{C_{0}} P_{0} \\gamma_{p} k_{p}^{2} k_{r} k_{t} \\lambda_{c} \\lambda_{p} + \\sqrt[4]{C_{0}} k_{p}^{3} k_{r} k_{t} \\lambda_{c} \\lambda_{r} + C_{0}^{2} K_{c} K_{t} P_{0} \\gamma_{c}^{2} k_{p}^{3} \\lambda_{t} \\mu_{c} - C_{0}^{2} K_{c} K_{t} P_{0} \\gamma_{c}^{2} k_{p}^{2} \\lambda_{p} \\lambda_{t} \\mu_{c} + C_{0}^{2} K_{c} K_{t} \\gamma_{c}^{2} k_{c} k_{p}^{3} \\lambda_{t} + C_{0}^{2} K_{c} P_{0} \\gamma_{c}^{2} k_{p}^{3} \\lambda_{t} \\mu_{c} - C_{0}^{2} K_{c} P_{0} \\gamma_{c}^{2} k_{p}^{2} \\lambda_{p} \\lambda_{t} \\mu_{c} + C_{0}^{2} K_{c} \\gamma_{c}^{2} k_{c} k_{p}^{3} \\lambda_{t} + C_{0}^{2} K_{t} P_{0} \\gamma_{c}^{2} k_{p}^{3} \\lambda_{t} \\mu_{c} - C_{0}^{2} K_{t} P_{0} \\gamma_{c}^{2} k_{p}^{2} \\lambda_{p} \\lambda_{t} \\mu_{c} + C_{0}^{2} K_{t} \\gamma_{c}^{2} k_{c} k_{p}^{3} \\lambda_{t} + C_{0}^{2} P_{0} \\gamma_{c}^{2} k_{p}^{3} \\lambda_{t} \\mu_{c} - C_{0}^{2} P_{0} \\gamma_{c}^{2} k_{p}^{2} \\lambda_{p} \\lambda_{t} \\mu_{c} + C_{0}^{2} \\gamma_{c}^{2} k_{c} k_{p}^{3} \\lambda_{t} + 2 C_{0} K_{c} K_{t} P_{0}^{2} \\gamma_{c} \\gamma_{p} k_{p}^{3} \\lambda_{t} \\mu_{c} - 4 C_{0} K_{c} K_{t} P_{0}^{2} \\gamma_{c} \\gamma_{p} k_{p}^{2} \\lambda_{p} \\lambda_{t} \\mu_{c} + 2 C_{0} K_{c} K_{t} P_{0}^{2} \\gamma_{c} \\gamma_{p} k_{p} \\lambda_{p}^{2} \\lambda_{t} \\mu_{c} + 2 C_{0} K_{c} K_{t} P_{0} \\gamma_{c} \\gamma_{p} k_{c} k_{p}^{3} \\lambda_{t} - 2 C_{0} K_{c} K_{t} P_{0} \\gamma_{c} \\gamma_{p} k_{c} k_{p}^{2} \\lambda_{p} \\lambda_{t} + 2 C_{0} K_{c} K_{t} P_{0} \\gamma_{c} k_{p}^{3} \\lambda_{r} \\lambda_{t} \\mu_{c} - 2 C_{0} K_{c} K_{t} P_{0} \\gamma_{c} k_{p}^{2} \\lambda_{p} \\lambda_{r} \\lambda_{t} \\mu_{c} + 2 C_{0} K_{c} K_{t} \\gamma_{c} k_{c} k_{p}^{3} \\lambda_{r} \\lambda_{t} + 2 C_{0} K_{c} P_{0}^{2} \\gamma_{c} \\gamma_{p} k_{p}^{3} \\lambda_{t} \\mu_{c} - 4 C_{0} K_{c} P_{0}^{2} \\gamma_{c} \\gamma_{p} k_{p}^{2} \\lambda_{p} \\lambda_{t} \\mu_{c} + 2 C_{0} K_{c} P_{0}^{2} \\gamma_{c} \\gamma_{p} k_{p} \\lambda_{p}^{2} \\lambda_{t} \\mu_{c} + 2 C_{0} K_{c} P_{0} \\gamma_{c} \\gamma_{p} k_{c} k_{p}^{3} \\lambda_{t} - 2 C_{0} K_{c} P_{0} \\gamma_{c} \\gamma_{p} k_{c} k_{p}^{2} \\lambda_{p} \\lambda_{t} - C_{0} K_{c} P_{0} \\gamma_{c} k_{p}^{3} k_{r} \\lambda_{t} \\mu_{c} + 2 C_{0} K_{c} P_{0} \\gamma_{c} k_{p}^{3} \\lambda_{r} \\lambda_{t} \\mu_{c} + C_{0} K_{c} P_{0} \\gamma_{c} k_{p}^{2} k_{r} \\lambda_{p} \\lambda_{t} \\mu_{c} - 2 C_{0} K_{c} P_{0} \\gamma_{c} k_{p}^{2} \\lambda_{p} \\lambda_{r} \\lambda_{t} \\mu_{c} - C_{0} K_{c} \\gamma_{c} k_{c} k_{p}^{3} k_{r} \\lambda_{t} + 2 C_{0} K_{c} \\gamma_{c} k_{c} k_{p}^{3} \\lambda_{r} \\lambda_{t} + 2 C_{0} K_{t} P_{0}^{2} \\gamma_{c} \\gamma_{p} k_{p}^{3} \\lambda_{t} \\mu_{c} - 4 C_{0} K_{t} P_{0}^{2} \\gamma_{c} \\gamma_{p} k_{p}^{2} \\lambda_{p} \\lambda_{t} \\mu_{c} + 2 C_{0} K_{t} P_{0}^{2} \\gamma_{c} \\gamma_{p} k_{p} \\lambda_{p}^{2} \\lambda_{t} \\mu_{c} + 2 C_{0} K_{t} P_{0} \\gamma_{c} \\gamma_{p} k_{c} k_{p}^{3} \\lambda_{t} - 2 C_{0} K_{t} P_{0} \\gamma_{c} \\gamma_{p} k_{c} k_{p}^{2} \\lambda_{p} \\lambda_{t} - C_{0} K_{t} P_{0} \\gamma_{c} k_{p}^{3} k_{r} \\lambda_{t} \\mu_{c} + 2 C_{0} K_{t} P_{0} \\gamma_{c} k_{p}^{3} \\lambda_{r} \\lambda_{t} \\mu_{c} + C_{0} K_{t} P_{0} \\gamma_{c} k_{p}^{2} k_{r} \\lambda_{p} \\lambda_{t} \\mu_{c} - 2 C_{0} K_{t} P_{0} \\gamma_{c} k_{p}^{2} \\lambda_{p} \\lambda_{r} \\lambda_{t} \\mu_{c} - C_{0} K_{t} \\gamma_{c} k_{c} k_{p}^{3} k_{r} \\lambda_{t} + 2 C_{0} K_{t} \\gamma_{c} k_{c} k_{p}^{3} \\lambda_{r} \\lambda_{t} + 2 C_{0} P_{0}^{2} \\gamma_{c} \\gamma_{p} k_{p}^{3} \\lambda_{t} \\mu_{c} - 4 C_{0} P_{0}^{2} \\gamma_{c} \\gamma_{p} k_{p}^{2} \\lambda_{p} \\lambda_{t} \\mu_{c} + 2 C_{0} P_{0}^{2} \\gamma_{c} \\gamma_{p} k_{p} \\lambda_{p}^{2} \\lambda_{t} \\mu_{c} + 2 C_{0} P_{0} \\gamma_{c} \\gamma_{p} k_{c} k_{p}^{3} \\lambda_{t} - 2 C_{0} P_{0} \\gamma_{c} \\gamma_{p} k_{c} k_{p}^{2} \\lambda_{p} \\lambda_{t} - 2 C_{0} P_{0} \\gamma_{c} k_{p}^{3} k_{r} \\lambda_{t} \\mu_{c} + 2 C_{0} P_{0} \\gamma_{c} k_{p}^{3} \\lambda_{r} \\lambda_{t} \\mu_{c} + 2 C_{0} P_{0} \\gamma_{c} k_{p}^{2} k_{r} \\lambda_{p} \\lambda_{t} \\mu_{c} - 2 C_{0} P_{0} \\gamma_{c} k_{p}^{2} \\lambda_{p} \\lambda_{r} \\lambda_{t} \\mu_{c} - 2 C_{0} \\gamma_{c} k_{c} k_{p}^{3} k_{r} \\lambda_{t} + 2 C_{0} \\gamma_{c} k_{c} k_{p}^{3} \\lambda_{r} \\lambda_{t} + K_{c} K_{t} P_{0}^{3} \\gamma_{p}^{2} k_{p}^{3} \\lambda_{t} \\mu_{c} - 3 K_{c} K_{t} P_{0}^{3} \\gamma_{p}^{2} k_{p}^{2} \\lambda_{p} \\lambda_{t} \\mu_{c} + 3 K_{c} K_{t} P_{0}^{3} \\gamma_{p}^{2} k_{p} \\lambda_{p}^{2} \\lambda_{t} \\mu_{c} - K_{c} K_{t} P_{0}^{3} \\gamma_{p}^{2} \\lambda_{p}^{3} \\lambda_{t} \\mu_{c} + K_{c} K_{t} P_{0}^{2} \\gamma_{p}^{2} k_{c} k_{p}^{3} \\lambda_{t} - 2 K_{c} K_{t} P_{0}^{2} \\gamma_{p}^{2} k_{c} k_{p}^{2} \\lambda_{p} \\lambda_{t} + K_{c} K_{t} P_{0}^{2} \\gamma_{p}^{2} k_{c} k_{p} \\lambda_{p}^{2} \\lambda_{t} + 2 K_{c} K_{t} P_{0}^{2} \\gamma_{p} k_{p}^{3} \\lambda_{r} \\lambda_{t} \\mu_{c} - 4 K_{c} K_{t} P_{0}^{2} \\gamma_{p} k_{p}^{2} \\lambda_{p} \\lambda_{r} \\lambda_{t} \\mu_{c} + 2 K_{c} K_{t} P_{0}^{2} \\gamma_{p} k_{p} \\lambda_{p}^{2} \\lambda_{r} \\lambda_{t} \\mu_{c} + 2 K_{c} K_{t} P_{0} \\gamma_{p} k_{c} k_{p}^{3} \\lambda_{r} \\lambda_{t} - 2 K_{c} K_{t} P_{0} \\gamma_{p} k_{c} k_{p}^{2} \\lambda_{p} \\lambda_{r} \\lambda_{t} + K_{c} K_{t} P_{0} k_{p}^{3} \\lambda_{r}^{2} \\lambda_{t} \\mu_{c} - K_{c} K_{t} P_{0} k_{p}^{2} \\lambda_{p} \\lambda_{r}^{2} \\lambda_{t} \\mu_{c} + K_{c} K_{t} k_{c} k_{p}^{3} \\lambda_{r}^{2} \\lambda_{t} + K_{c} P_{0}^{3} \\gamma_{p}^{2} k_{p}^{3} \\lambda_{t} \\mu_{c} - 3 K_{c} P_{0}^{3} \\gamma_{p}^{2} k_{p}^{2} \\lambda_{p} \\lambda_{t} \\mu_{c} + 3 K_{c} P_{0}^{3} \\gamma_{p}^{2} k_{p} \\lambda_{p}^{2} \\lambda_{t} \\mu_{c} - K_{c} P_{0}^{3} \\gamma_{p}^{2} \\lambda_{p}^{3} \\lambda_{t} \\mu_{c} + K_{c} P_{0}^{2} \\gamma_{p}^{2} k_{c} k_{p}^{3} \\lambda_{t} - 2 K_{c} P_{0}^{2} \\gamma_{p}^{2} k_{c} k_{p}^{2} \\lambda_{p} \\lambda_{t} + K_{c} P_{0}^{2} \\gamma_{p}^{2} k_{c} k_{p} \\lambda_{p}^{2} \\lambda_{t} - K_{c} P_{0}^{2} \\gamma_{p} k_{p}^{3} k_{r} \\lambda_{t} \\mu_{c} + 2 K_{c} P_{0}^{2} \\gamma_{p} k_{p}^{3} \\lambda_{r} \\lambda_{t} \\mu_{c} + 2 K_{c} P_{0}^{2} \\gamma_{p} k_{p}^{2} k_{r} \\lambda_{p} \\lambda_{t} \\mu_{c} - 4 K_{c} P_{0}^{2} \\gamma_{p} k_{p}^{2} \\lambda_{p} \\lambda_{r} \\lambda_{t} \\mu_{c} - K_{c} P_{0}^{2} \\gamma_{p} k_{p} k_{r} \\lambda_{p}^{2} \\lambda_{t} \\mu_{c} + 2 K_{c} P_{0}^{2} \\gamma_{p} k_{p} \\lambda_{p}^{2} \\lambda_{r} \\lambda_{t} \\mu_{c} - K_{c} P_{0} \\gamma_{p} k_{c} k_{p}^{3} k_{r} \\lambda_{t} + 2 K_{c} P_{0} \\gamma_{p} k_{c} k_{p}^{3} \\lambda_{r} \\lambda_{t} + K_{c} P_{0} \\gamma_{p} k_{c} k_{p}^{2} k_{r} \\lambda_{p} \\lambda_{t} - 2 K_{c} P_{0} \\gamma_{p} k_{c} k_{p}^{2} \\lambda_{p} \\lambda_{r} \\lambda_{t} - K_{c} P_{0} k_{p}^{3} k_{r} \\lambda_{r} \\lambda_{t} \\mu_{c} + K_{c} P_{0} k_{p}^{3} \\lambda_{r}^{2} \\lambda_{t} \\mu_{c} + K_{c} P_{0} k_{p}^{2} k_{r} \\lambda_{p} \\lambda_{r} \\lambda_{t} \\mu_{c} - K_{c} P_{0} k_{p}^{2} \\lambda_{p} \\lambda_{r}^{2} \\lambda_{t} \\mu_{c} - K_{c} k_{c} k_{p}^{3} k_{r} \\lambda_{r} \\lambda_{t} + K_{c} k_{c} k_{p}^{3} \\lambda_{r}^{2} \\lambda_{t} + K_{t} P_{0}^{3} \\gamma_{p}^{2} k_{p}^{3} \\lambda_{t} \\mu_{c} - 3 K_{t} P_{0}^{3} \\gamma_{p}^{2} k_{p}^{2} \\lambda_{p} \\lambda_{t} \\mu_{c} + 3 K_{t} P_{0}^{3} \\gamma_{p}^{2} k_{p} \\lambda_{p}^{2} \\lambda_{t} \\mu_{c} - K_{t} P_{0}^{3} \\gamma_{p}^{2} \\lambda_{p}^{3} \\lambda_{t} \\mu_{c} + K_{t} P_{0}^{2} \\gamma_{p}^{2} k_{c} k_{p}^{3} \\lambda_{t} - 2 K_{t} P_{0}^{2} \\gamma_{p}^{2} k_{c} k_{p}^{2} \\lambda_{p} \\lambda_{t} + K_{t} P_{0}^{2} \\gamma_{p}^{2} k_{c} k_{p} \\lambda_{p}^{2} \\lambda_{t} - K_{t} P_{0}^{2} \\gamma_{p} k_{p}^{3} k_{r} \\lambda_{t} \\mu_{c} + 2 K_{t} P_{0}^{2} \\gamma_{p} k_{p}^{3} \\lambda_{r} \\lambda_{t} \\mu_{c} + 2 K_{t} P_{0}^{2} \\gamma_{p} k_{p}^{2} k_{r} \\lambda_{p} \\lambda_{t} \\mu_{c} - 4 K_{t} P_{0}^{2} \\gamma_{p} k_{p}^{2} \\lambda_{p} \\lambda_{r} \\lambda_{t} \\mu_{c} - K_{t} P_{0}^{2} \\gamma_{p} k_{p} k_{r} \\lambda_{p}^{2} \\lambda_{t} \\mu_{c} + 2 K_{t} P_{0}^{2} \\gamma_{p} k_{p} \\lambda_{p}^{2} \\lambda_{r} \\lambda_{t} \\mu_{c} - K_{t} P_{0} \\gamma_{p} k_{c} k_{p}^{3} k_{r} \\lambda_{t} + 2 K_{t} P_{0} \\gamma_{p} k_{c} k_{p}^{3} \\lambda_{r} \\lambda_{t} + K_{t} P_{0} \\gamma_{p} k_{c} k_{p}^{2} k_{r} \\lambda_{p} \\lambda_{t} - 2 K_{t} P_{0} \\gamma_{p} k_{c} k_{p}^{2} \\lambda_{p} \\lambda_{r} \\lambda_{t} - K_{t} P_{0} k_{p}^{3} k_{r} \\lambda_{r} \\lambda_{t} \\mu_{c} + K_{t} P_{0} k_{p}^{3} \\lambda_{r}^{2} \\lambda_{t} \\mu_{c} + K_{t} P_{0} k_{p}^{2} k_{r} \\lambda_{p} \\lambda_{r} \\lambda_{t} \\mu_{c} - K_{t} P_{0} k_{p}^{2} \\lambda_{p} \\lambda_{r}^{2} \\lambda_{t} \\mu_{c} - K_{t} k_{c} k_{p}^{3} k_{r} \\lambda_{r} \\lambda_{t} + K_{t} k_{c} k_{p}^{3} \\lambda_{r}^{2} \\lambda_{t} + P_{0}^{3} \\gamma_{p}^{2} k_{p}^{3} \\lambda_{t} \\mu_{c} - 3 P_{0}^{3} \\gamma_{p}^{2} k_{p}^{2} \\lambda_{p} \\lambda_{t} \\mu_{c} + 3 P_{0}^{3} \\gamma_{p}^{2} k_{p} \\lambda_{p}^{2} \\lambda_{t} \\mu_{c} - P_{0}^{3} \\gamma_{p}^{2} \\lambda_{p}^{3} \\lambda_{t} \\mu_{c} + P_{0}^{2} \\gamma_{p}^{2} k_{c} k_{p}^{3} \\lambda_{t} - 2 P_{0}^{2} \\gamma_{p}^{2} k_{c} k_{p}^{2} \\lambda_{p} \\lambda_{t} + P_{0}^{2} \\gamma_{p}^{2} k_{c} k_{p} \\lambda_{p}^{2} \\lambda_{t} - 2 P_{0}^{2} \\gamma_{p} k_{p}^{3} k_{r} \\lambda_{t} \\mu_{c} + 2 P_{0}^{2} \\gamma_{p} k_{p}^{3} \\lambda_{r} \\lambda_{t} \\mu_{c} + 4 P_{0}^{2} \\gamma_{p} k_{p}^{2} k_{r} \\lambda_{p} \\lambda_{t} \\mu_{c} - 4 P_{0}^{2} \\gamma_{p} k_{p}^{2} \\lambda_{p} \\lambda_{r} \\lambda_{t} \\mu_{c} - 2 P_{0}^{2} \\gamma_{p} k_{p} k_{r} \\lambda_{p}^{2} \\lambda_{t} \\mu_{c} + 2 P_{0}^{2} \\gamma_{p} k_{p} \\lambda_{p}^{2} \\lambda_{r} \\lambda_{t} \\mu_{c} - 2 P_{0} \\gamma_{p} k_{c} k_{p}^{3} k_{r} \\lambda_{t} + 2 P_{0} \\gamma_{p} k_{c} k_{p}^{3} \\lambda_{r} \\lambda_{t} + 2 P_{0} \\gamma_{p} k_{c} k_{p}^{2} k_{r} \\lambda_{p} \\lambda_{t} - 2 P_{0} \\gamma_{p} k_{c} k_{p}^{2} \\lambda_{p} \\lambda_{r} \\lambda_{t} + P_{0} k_{p}^{3} k_{r}^{2} \\lambda_{t} \\mu_{c} - 2 P_{0} k_{p}^{3} k_{r} \\lambda_{r} \\lambda_{t} \\mu_{c} + P_{0} k_{p}^{3} \\lambda_{r}^{2} \\lambda_{t} \\mu_{c} - P_{0} k_{p}^{2} k_{r}^{2} \\lambda_{p} \\lambda_{t} \\mu_{c} + 2 P_{0} k_{p}^{2} k_{r} \\lambda_{p} \\lambda_{r} \\lambda_{t} \\mu_{c} - P_{0} k_{p}^{2} \\lambda_{p} \\lambda_{r}^{2} \\lambda_{t} \\mu_{c} + k_{c} k_{p}^{3} k_{r}^{2} \\lambda_{t} - 2 k_{c} k_{p}^{3} k_{r} \\lambda_{r} \\lambda_{t} + k_{c} k_{p}^{3} \\lambda_{r}^{2} \\lambda_{t}$"
      ],
      "text/plain": [
       "C_0**(5/4)*gamma_c*k_p**3*k_r*k_t*lambda_c + C_0**(1/4)*P_0*gamma_p*k_p**3*k_r*k_t*lambda_c - C_0**(1/4)*P_0*gamma_p*k_p**2*k_r*k_t*lambda_c*lambda_p + C_0**(1/4)*k_p**3*k_r*k_t*lambda_c*lambda_r + C_0**2*K_c*K_t*P_0*gamma_c**2*k_p**3*lambda_t*mu_c - C_0**2*K_c*K_t*P_0*gamma_c**2*k_p**2*lambda_p*lambda_t*mu_c + C_0**2*K_c*K_t*gamma_c**2*k_c*k_p**3*lambda_t + C_0**2*K_c*P_0*gamma_c**2*k_p**3*lambda_t*mu_c - C_0**2*K_c*P_0*gamma_c**2*k_p**2*lambda_p*lambda_t*mu_c + C_0**2*K_c*gamma_c**2*k_c*k_p**3*lambda_t + C_0**2*K_t*P_0*gamma_c**2*k_p**3*lambda_t*mu_c - C_0**2*K_t*P_0*gamma_c**2*k_p**2*lambda_p*lambda_t*mu_c + C_0**2*K_t*gamma_c**2*k_c*k_p**3*lambda_t + C_0**2*P_0*gamma_c**2*k_p**3*lambda_t*mu_c - C_0**2*P_0*gamma_c**2*k_p**2*lambda_p*lambda_t*mu_c + C_0**2*gamma_c**2*k_c*k_p**3*lambda_t + 2*C_0*K_c*K_t*P_0**2*gamma_c*gamma_p*k_p**3*lambda_t*mu_c - 4*C_0*K_c*K_t*P_0**2*gamma_c*gamma_p*k_p**2*lambda_p*lambda_t*mu_c + 2*C_0*K_c*K_t*P_0**2*gamma_c*gamma_p*k_p*lambda_p**2*lambda_t*mu_c + 2*C_0*K_c*K_t*P_0*gamma_c*gamma_p*k_c*k_p**3*lambda_t - 2*C_0*K_c*K_t*P_0*gamma_c*gamma_p*k_c*k_p**2*lambda_p*lambda_t + 2*C_0*K_c*K_t*P_0*gamma_c*k_p**3*lambda_r*lambda_t*mu_c - 2*C_0*K_c*K_t*P_0*gamma_c*k_p**2*lambda_p*lambda_r*lambda_t*mu_c + 2*C_0*K_c*K_t*gamma_c*k_c*k_p**3*lambda_r*lambda_t + 2*C_0*K_c*P_0**2*gamma_c*gamma_p*k_p**3*lambda_t*mu_c - 4*C_0*K_c*P_0**2*gamma_c*gamma_p*k_p**2*lambda_p*lambda_t*mu_c + 2*C_0*K_c*P_0**2*gamma_c*gamma_p*k_p*lambda_p**2*lambda_t*mu_c + 2*C_0*K_c*P_0*gamma_c*gamma_p*k_c*k_p**3*lambda_t - 2*C_0*K_c*P_0*gamma_c*gamma_p*k_c*k_p**2*lambda_p*lambda_t - C_0*K_c*P_0*gamma_c*k_p**3*k_r*lambda_t*mu_c + 2*C_0*K_c*P_0*gamma_c*k_p**3*lambda_r*lambda_t*mu_c + C_0*K_c*P_0*gamma_c*k_p**2*k_r*lambda_p*lambda_t*mu_c - 2*C_0*K_c*P_0*gamma_c*k_p**2*lambda_p*lambda_r*lambda_t*mu_c - C_0*K_c*gamma_c*k_c*k_p**3*k_r*lambda_t + 2*C_0*K_c*gamma_c*k_c*k_p**3*lambda_r*lambda_t + 2*C_0*K_t*P_0**2*gamma_c*gamma_p*k_p**3*lambda_t*mu_c - 4*C_0*K_t*P_0**2*gamma_c*gamma_p*k_p**2*lambda_p*lambda_t*mu_c + 2*C_0*K_t*P_0**2*gamma_c*gamma_p*k_p*lambda_p**2*lambda_t*mu_c + 2*C_0*K_t*P_0*gamma_c*gamma_p*k_c*k_p**3*lambda_t - 2*C_0*K_t*P_0*gamma_c*gamma_p*k_c*k_p**2*lambda_p*lambda_t - C_0*K_t*P_0*gamma_c*k_p**3*k_r*lambda_t*mu_c + 2*C_0*K_t*P_0*gamma_c*k_p**3*lambda_r*lambda_t*mu_c + C_0*K_t*P_0*gamma_c*k_p**2*k_r*lambda_p*lambda_t*mu_c - 2*C_0*K_t*P_0*gamma_c*k_p**2*lambda_p*lambda_r*lambda_t*mu_c - C_0*K_t*gamma_c*k_c*k_p**3*k_r*lambda_t + 2*C_0*K_t*gamma_c*k_c*k_p**3*lambda_r*lambda_t + 2*C_0*P_0**2*gamma_c*gamma_p*k_p**3*lambda_t*mu_c - 4*C_0*P_0**2*gamma_c*gamma_p*k_p**2*lambda_p*lambda_t*mu_c + 2*C_0*P_0**2*gamma_c*gamma_p*k_p*lambda_p**2*lambda_t*mu_c + 2*C_0*P_0*gamma_c*gamma_p*k_c*k_p**3*lambda_t - 2*C_0*P_0*gamma_c*gamma_p*k_c*k_p**2*lambda_p*lambda_t - 2*C_0*P_0*gamma_c*k_p**3*k_r*lambda_t*mu_c + 2*C_0*P_0*gamma_c*k_p**3*lambda_r*lambda_t*mu_c + 2*C_0*P_0*gamma_c*k_p**2*k_r*lambda_p*lambda_t*mu_c - 2*C_0*P_0*gamma_c*k_p**2*lambda_p*lambda_r*lambda_t*mu_c - 2*C_0*gamma_c*k_c*k_p**3*k_r*lambda_t + 2*C_0*gamma_c*k_c*k_p**3*lambda_r*lambda_t + K_c*K_t*P_0**3*gamma_p**2*k_p**3*lambda_t*mu_c - 3*K_c*K_t*P_0**3*gamma_p**2*k_p**2*lambda_p*lambda_t*mu_c + 3*K_c*K_t*P_0**3*gamma_p**2*k_p*lambda_p**2*lambda_t*mu_c - K_c*K_t*P_0**3*gamma_p**2*lambda_p**3*lambda_t*mu_c + K_c*K_t*P_0**2*gamma_p**2*k_c*k_p**3*lambda_t - 2*K_c*K_t*P_0**2*gamma_p**2*k_c*k_p**2*lambda_p*lambda_t + K_c*K_t*P_0**2*gamma_p**2*k_c*k_p*lambda_p**2*lambda_t + 2*K_c*K_t*P_0**2*gamma_p*k_p**3*lambda_r*lambda_t*mu_c - 4*K_c*K_t*P_0**2*gamma_p*k_p**2*lambda_p*lambda_r*lambda_t*mu_c + 2*K_c*K_t*P_0**2*gamma_p*k_p*lambda_p**2*lambda_r*lambda_t*mu_c + 2*K_c*K_t*P_0*gamma_p*k_c*k_p**3*lambda_r*lambda_t - 2*K_c*K_t*P_0*gamma_p*k_c*k_p**2*lambda_p*lambda_r*lambda_t + K_c*K_t*P_0*k_p**3*lambda_r**2*lambda_t*mu_c - K_c*K_t*P_0*k_p**2*lambda_p*lambda_r**2*lambda_t*mu_c + K_c*K_t*k_c*k_p**3*lambda_r**2*lambda_t + K_c*P_0**3*gamma_p**2*k_p**3*lambda_t*mu_c - 3*K_c*P_0**3*gamma_p**2*k_p**2*lambda_p*lambda_t*mu_c + 3*K_c*P_0**3*gamma_p**2*k_p*lambda_p**2*lambda_t*mu_c - K_c*P_0**3*gamma_p**2*lambda_p**3*lambda_t*mu_c + K_c*P_0**2*gamma_p**2*k_c*k_p**3*lambda_t - 2*K_c*P_0**2*gamma_p**2*k_c*k_p**2*lambda_p*lambda_t + K_c*P_0**2*gamma_p**2*k_c*k_p*lambda_p**2*lambda_t - K_c*P_0**2*gamma_p*k_p**3*k_r*lambda_t*mu_c + 2*K_c*P_0**2*gamma_p*k_p**3*lambda_r*lambda_t*mu_c + 2*K_c*P_0**2*gamma_p*k_p**2*k_r*lambda_p*lambda_t*mu_c - 4*K_c*P_0**2*gamma_p*k_p**2*lambda_p*lambda_r*lambda_t*mu_c - K_c*P_0**2*gamma_p*k_p*k_r*lambda_p**2*lambda_t*mu_c + 2*K_c*P_0**2*gamma_p*k_p*lambda_p**2*lambda_r*lambda_t*mu_c - K_c*P_0*gamma_p*k_c*k_p**3*k_r*lambda_t + 2*K_c*P_0*gamma_p*k_c*k_p**3*lambda_r*lambda_t + K_c*P_0*gamma_p*k_c*k_p**2*k_r*lambda_p*lambda_t - 2*K_c*P_0*gamma_p*k_c*k_p**2*lambda_p*lambda_r*lambda_t - K_c*P_0*k_p**3*k_r*lambda_r*lambda_t*mu_c + K_c*P_0*k_p**3*lambda_r**2*lambda_t*mu_c + K_c*P_0*k_p**2*k_r*lambda_p*lambda_r*lambda_t*mu_c - K_c*P_0*k_p**2*lambda_p*lambda_r**2*lambda_t*mu_c - K_c*k_c*k_p**3*k_r*lambda_r*lambda_t + K_c*k_c*k_p**3*lambda_r**2*lambda_t + K_t*P_0**3*gamma_p**2*k_p**3*lambda_t*mu_c - 3*K_t*P_0**3*gamma_p**2*k_p**2*lambda_p*lambda_t*mu_c + 3*K_t*P_0**3*gamma_p**2*k_p*lambda_p**2*lambda_t*mu_c - K_t*P_0**3*gamma_p**2*lambda_p**3*lambda_t*mu_c + K_t*P_0**2*gamma_p**2*k_c*k_p**3*lambda_t - 2*K_t*P_0**2*gamma_p**2*k_c*k_p**2*lambda_p*lambda_t + K_t*P_0**2*gamma_p**2*k_c*k_p*lambda_p**2*lambda_t - K_t*P_0**2*gamma_p*k_p**3*k_r*lambda_t*mu_c + 2*K_t*P_0**2*gamma_p*k_p**3*lambda_r*lambda_t*mu_c + 2*K_t*P_0**2*gamma_p*k_p**2*k_r*lambda_p*lambda_t*mu_c - 4*K_t*P_0**2*gamma_p*k_p**2*lambda_p*lambda_r*lambda_t*mu_c - K_t*P_0**2*gamma_p*k_p*k_r*lambda_p**2*lambda_t*mu_c + 2*K_t*P_0**2*gamma_p*k_p*lambda_p**2*lambda_r*lambda_t*mu_c - K_t*P_0*gamma_p*k_c*k_p**3*k_r*lambda_t + 2*K_t*P_0*gamma_p*k_c*k_p**3*lambda_r*lambda_t + K_t*P_0*gamma_p*k_c*k_p**2*k_r*lambda_p*lambda_t - 2*K_t*P_0*gamma_p*k_c*k_p**2*lambda_p*lambda_r*lambda_t - K_t*P_0*k_p**3*k_r*lambda_r*lambda_t*mu_c + K_t*P_0*k_p**3*lambda_r**2*lambda_t*mu_c + K_t*P_0*k_p**2*k_r*lambda_p*lambda_r*lambda_t*mu_c - K_t*P_0*k_p**2*lambda_p*lambda_r**2*lambda_t*mu_c - K_t*k_c*k_p**3*k_r*lambda_r*lambda_t + K_t*k_c*k_p**3*lambda_r**2*lambda_t + P_0**3*gamma_p**2*k_p**3*lambda_t*mu_c - 3*P_0**3*gamma_p**2*k_p**2*lambda_p*lambda_t*mu_c + 3*P_0**3*gamma_p**2*k_p*lambda_p**2*lambda_t*mu_c - P_0**3*gamma_p**2*lambda_p**3*lambda_t*mu_c + P_0**2*gamma_p**2*k_c*k_p**3*lambda_t - 2*P_0**2*gamma_p**2*k_c*k_p**2*lambda_p*lambda_t + P_0**2*gamma_p**2*k_c*k_p*lambda_p**2*lambda_t - 2*P_0**2*gamma_p*k_p**3*k_r*lambda_t*mu_c + 2*P_0**2*gamma_p*k_p**3*lambda_r*lambda_t*mu_c + 4*P_0**2*gamma_p*k_p**2*k_r*lambda_p*lambda_t*mu_c - 4*P_0**2*gamma_p*k_p**2*lambda_p*lambda_r*lambda_t*mu_c - 2*P_0**2*gamma_p*k_p*k_r*lambda_p**2*lambda_t*mu_c + 2*P_0**2*gamma_p*k_p*lambda_p**2*lambda_r*lambda_t*mu_c - 2*P_0*gamma_p*k_c*k_p**3*k_r*lambda_t + 2*P_0*gamma_p*k_c*k_p**3*lambda_r*lambda_t + 2*P_0*gamma_p*k_c*k_p**2*k_r*lambda_p*lambda_t - 2*P_0*gamma_p*k_c*k_p**2*lambda_p*lambda_r*lambda_t + P_0*k_p**3*k_r**2*lambda_t*mu_c - 2*P_0*k_p**3*k_r*lambda_r*lambda_t*mu_c + P_0*k_p**3*lambda_r**2*lambda_t*mu_c - P_0*k_p**2*k_r**2*lambda_p*lambda_t*mu_c + 2*P_0*k_p**2*k_r*lambda_p*lambda_r*lambda_t*mu_c - P_0*k_p**2*lambda_p*lambda_r**2*lambda_t*mu_c + k_c*k_p**3*k_r**2*lambda_t - 2*k_c*k_p**3*k_r*lambda_r*lambda_t + k_c*k_p**3*lambda_r**2*lambda_t"
      ]
     },
     "metadata": {},
     "output_type": "display_data"
    }
   ],
   "source": [
    "e, d = sp.fraction(x_1_sup_3_2_sqrt_4)\n",
    "# e = sp.expand(e)\n",
    "# e = sp.simplify(e)\n",
    "display(e)\n",
    "# d = sp.expand(d)\n",
    "# d = sp.simplify(d)\n",
    "display(d)"
   ]
  },
  {
   "cell_type": "code",
   "execution_count": null,
   "metadata": {},
   "outputs": [],
   "source": []
  },
  {
   "cell_type": "code",
   "execution_count": null,
   "metadata": {},
   "outputs": [],
   "source": []
  }
 ],
 "metadata": {
  "kernelspec": {
   "display_name": "Python 3",
   "language": "python",
   "name": "python3"
  },
  "language_info": {
   "codemirror_mode": {
    "name": "ipython",
    "version": 3
   },
   "file_extension": ".py",
   "mimetype": "text/x-python",
   "name": "python",
   "nbconvert_exporter": "python",
   "pygments_lexer": "ipython3",
   "version": "3.7.4"
  }
 },
 "nbformat": 4,
 "nbformat_minor": 2
}
